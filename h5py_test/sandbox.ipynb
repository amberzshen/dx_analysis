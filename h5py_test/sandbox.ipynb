{
 "cells": [
  {
   "cell_type": "code",
   "execution_count": 1,
   "metadata": {},
   "outputs": [],
   "source": [
    "from linear_dag.core.brick_graph import BrickGraph\n",
    "import scipy.sparse as sp\n",
    "import h5py\n",
    "import numpy as np"
   ]
  },
  {
   "cell_type": "code",
   "execution_count": 2,
   "metadata": {},
   "outputs": [],
   "source": [
    "genotypes = sp.load_npz('/Users/ambershen/Desktop/linARG/brick_graph_vis/linear_args/HLA_chr6-32578775-32579775_whitelist_test/genotype_matrices/0_chr6-32578775-32588775.npz')\n",
    "forward_graph, backward_graph, sample_indices = BrickGraph.forward_backward(genotypes)"
   ]
  },
  {
   "cell_type": "code",
   "execution_count": null,
   "metadata": {},
   "outputs": [],
   "source": [
    "BrickGraph.forward_backward(genotypes, save_to_disk=True, out='test')"
   ]
  },
  {
   "cell_type": "code",
   "execution_count": 3,
   "metadata": {},
   "outputs": [],
   "source": [
    "with h5py.File('/Users/ambershen/Desktop/linARG/dx_analysis/test_pipeline/linear_args/forward_backward_graphs/0_chr6-32578775-32588775_forward_graph.h5', 'r') as f:\n",
    "    forward_graph_from_h5 = sp.csr_matrix((f['data'][:], f['indices'][:], f['indptr'][:]), shape=(f.attrs['n'], f.attrs['n']))\n",
    "    \n",
    "with h5py.File('/Users/ambershen/Desktop/linARG/dx_analysis/test_pipeline/linear_args/forward_backward_graphs/0_chr6-32578775-32588775_backward_graph.h5', 'r') as f:\n",
    "    backward_graph_from_h5 = sp.csr_matrix((f['data'][:], f['indices'][:], f['indptr'][:]), shape=(f.attrs['n'], f.attrs['n']))"
   ]
  },
  {
   "cell_type": "code",
   "execution_count": 33,
   "metadata": {},
   "outputs": [
    {
     "data": {
      "text/plain": [
       "<Compressed Sparse Row sparse matrix of dtype 'float64'\n",
       "\twith 121357 stored elements and shape (2774, 2774)>"
      ]
     },
     "execution_count": 33,
     "metadata": {},
     "output_type": "execute_result"
    }
   ],
   "source": [
    "with h5py.File('/Users/ambershen/Desktop/linARG/dx_analysis/test_pipeline/linear_args/forward_backward_graphs/0_chr6-32578775-32588775_forward_graph.h5', 'r') as f:\n",
    "    forward_graph_from_h5 = sp.csr_matrix((f['data'][:], f['indices'][:], f['indptr'][:]), shape=(f.attrs['n'], f.attrs['n']))\n",
    "    \n",
    "with h5py.File('/Users/ambershen/Desktop/linARG/dx_analysis/test_pipeline/linear_args/forward_backward_graphs/0_chr6-32578775-32588775_backward_graph.h5', 'r') as f:\n",
    "    backward_graph_from_h5 = sp.csr_matrix((f['data'][:], f['indices'][:], f['indptr'][:]), shape=(f.attrs['n'], f.attrs['n']))"
   ]
  },
  {
   "cell_type": "code",
   "execution_count": 34,
   "metadata": {},
   "outputs": [
    {
     "data": {
      "text/plain": [
       "<Compressed Sparse Row sparse matrix of dtype 'float64'\n",
       "\twith 21357 stored elements and shape (2774, 2774)>"
      ]
     },
     "execution_count": 34,
     "metadata": {},
     "output_type": "execute_result"
    }
   ],
   "source": [
    "forward_graph_from_h5"
   ]
  },
  {
   "cell_type": "code",
   "execution_count": 37,
   "metadata": {},
   "outputs": [
    {
     "data": {
      "text/plain": [
       "<Compressed Sparse Row sparse matrix of dtype 'float64'\n",
       "\twith 1184 stored elements and shape (2774, 2774)>"
      ]
     },
     "execution_count": 37,
     "metadata": {},
     "output_type": "execute_result"
    }
   ],
   "source": [
    "backward_graph.to_csr() - backward_graph_from_h5"
   ]
  },
  {
   "cell_type": "code",
   "execution_count": 36,
   "metadata": {},
   "outputs": [
    {
     "data": {
      "text/plain": [
       "<Compressed Sparse Row sparse matrix of dtype 'float64'\n",
       "\twith 1010 stored elements and shape (2774, 2774)>"
      ]
     },
     "execution_count": 36,
     "metadata": {},
     "output_type": "execute_result"
    }
   ],
   "source": [
    "backward_graph_from_h5"
   ]
  },
  {
   "cell_type": "code",
   "execution_count": 11,
   "metadata": {},
   "outputs": [
    {
     "data": {
      "text/plain": [
       "<Compressed Sparse Row sparse matrix of dtype 'float64'\n",
       "\twith 21357 stored elements and shape (2774, 2774)>"
      ]
     },
     "execution_count": 11,
     "metadata": {},
     "output_type": "execute_result"
    }
   ],
   "source": [
    "matrix"
   ]
  },
  {
   "cell_type": "code",
   "execution_count": 13,
   "metadata": {},
   "outputs": [
    {
     "data": {
      "text/plain": [
       "<Compressed Sparse Row sparse matrix of dtype 'float64'\n",
       "\twith 121357 stored elements and shape (2774, 2774)>"
      ]
     },
     "execution_count": 13,
     "metadata": {},
     "output_type": "execute_result"
    }
   ],
   "source": [
    "forward_graph.to_csr()"
   ]
  },
  {
   "cell_type": "code",
   "execution_count": 8,
   "metadata": {},
   "outputs": [],
   "source": [
    "linarg_dir = '/Users/ambershen/Desktop/linARG/test_pipeline/linear_args/'\n",
    "partition_identifier = '0_chr6-32578775-32588775'\n",
    "\n",
    "with h5py.File(f'{linarg_dir}/forward_backward_graphs/{partition_identifier}_forward_graph.h5', 'r') as f:\n",
    "    forward_graph = sp.csr_matrix((f['data'][:], f['indices'][:], f['indptr'][:]), shape=(f.attrs['n'], f.attrs['n']))\n",
    "\n",
    "with h5py.File(f'{linarg_dir}/forward_backward_graphs/{partition_identifier}_backward_graph.h5', 'r') as f:\n",
    "    backward_graph = sp.csr_matrix((f['data'][:], f['indices'][:], f['indptr'][:]), shape=(f.attrs['n'], f.attrs['n']))"
   ]
  },
  {
   "cell_type": "code",
   "execution_count": 9,
   "metadata": {},
   "outputs": [
    {
     "data": {
      "text/plain": [
       "array([0., 0., 0., ..., 0., 0., 0.])"
      ]
     },
     "execution_count": 9,
     "metadata": {},
     "output_type": "execute_result"
    }
   ],
   "source": [
    "forward_graph.diagonal()"
   ]
  },
  {
   "cell_type": "code",
   "execution_count": 14,
   "metadata": {},
   "outputs": [
    {
     "data": {
      "text/plain": [
       "array([11.,  0.,  0., ...,  0.,  0.,  0.])"
      ]
     },
     "execution_count": 14,
     "metadata": {},
     "output_type": "execute_result"
    }
   ],
   "source": [
    "backward_graph.diagonal()"
   ]
  },
  {
   "cell_type": "code",
   "execution_count": 18,
   "metadata": {},
   "outputs": [
    {
     "data": {
      "text/plain": [
       "(array([0, 0, 0, ..., 0, 0, 0], dtype=int32),\n",
       " array([1932, 1935,  593, ..., 1389, 1394, 1411], dtype=int32))"
      ]
     },
     "execution_count": 18,
     "metadata": {},
     "output_type": "execute_result"
    }
   ],
   "source": [
    "forward_graph.nonzero()"
   ]
  },
  {
   "cell_type": "code",
   "execution_count": 21,
   "metadata": {},
   "outputs": [
    {
     "data": {
      "text/plain": [
       "{1.0}"
      ]
     },
     "execution_count": 21,
     "metadata": {},
     "output_type": "execute_result"
    }
   ],
   "source": [
    "set(forward_graph.data)"
   ]
  },
  {
   "cell_type": "code",
   "execution_count": 22,
   "metadata": {},
   "outputs": [
    {
     "data": {
      "text/plain": [
       "{1.0}"
      ]
     },
     "execution_count": 22,
     "metadata": {},
     "output_type": "execute_result"
    }
   ],
   "source": [
    "set(backward_graph.data)"
   ]
  },
  {
   "cell_type": "code",
   "execution_count": 23,
   "metadata": {},
   "outputs": [
    {
     "name": "stdout",
     "output_type": "stream",
     "text": [
      "Value at (0,0): 11.0\n",
      "\n",
      "All diagonal elements:\n",
      "(0, 0): 11.0\n",
      "(0, 0): 11.0\n",
      "(0, 0): 11.0\n",
      "(0, 0): 11.0\n",
      "(0, 0): 11.0\n",
      "(0, 0): 11.0\n",
      "(0, 0): 11.0\n",
      "(0, 0): 11.0\n",
      "(0, 0): 11.0\n",
      "(0, 0): 11.0\n",
      "(0, 0): 11.0\n"
     ]
    }
   ],
   "source": [
    "# Get the actual data at position (0,0)\n",
    "print(\"Value at (0,0):\", backward_graph[0,0])\n",
    "\n",
    "# Get all diagonal elements with their positions\n",
    "rows, cols = backward_graph.nonzero()\n",
    "diag_mask = rows == cols\n",
    "print(\"\\nAll diagonal elements:\")\n",
    "for r, c in zip(rows[diag_mask], cols[diag_mask]):\n",
    "    print(f\"({r}, {c}): {backward_graph[r,c]}\")"
   ]
  },
  {
   "cell_type": "code",
   "execution_count": null,
   "metadata": {},
   "outputs": [],
   "source": []
  }
 ],
 "metadata": {
  "kernelspec": {
   "display_name": "py312",
   "language": "python",
   "name": "py312"
  },
  "language_info": {
   "codemirror_mode": {
    "name": "ipython",
    "version": 3
   },
   "file_extension": ".py",
   "mimetype": "text/x-python",
   "name": "python",
   "nbconvert_exporter": "python",
   "pygments_lexer": "ipython3",
   "version": "3.12.3"
  }
 },
 "nbformat": 4,
 "nbformat_minor": 2
}
