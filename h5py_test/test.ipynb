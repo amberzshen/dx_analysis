{
 "cells": [
  {
   "cell_type": "code",
   "execution_count": 1,
   "metadata": {},
   "outputs": [],
   "source": [
    "from linear_dag.core.brick_graph import BrickGraph\n",
    "import scipy.sparse as sp\n",
    "import h5py\n",
    "import numpy as np"
   ]
  },
  {
   "cell_type": "code",
   "execution_count": 2,
   "metadata": {},
   "outputs": [],
   "source": [
    "genotypes = sp.load_npz('/Users/ambershen/Desktop/linARG/brick_graph_vis/linear_args/HLA_chr6-32578775-32579775_whitelist_test/genotype_matrices/0_chr6-32578775-32588775.npz')\n",
    "forward_graph, backward_graph, sample_indices = BrickGraph.forward_backward(genotypes)"
   ]
  },
  {
   "cell_type": "code",
   "execution_count": null,
   "metadata": {},
   "outputs": [],
   "source": [
    "BrickGraph.forward_backward(genotypes, save_to_disk=True, out='test')"
   ]
  },
  {
   "cell_type": "code",
   "execution_count": 6,
   "metadata": {},
   "outputs": [],
   "source": [
    "with h5py.File('/Users/ambershen/Desktop/linARG/dx_analysis/test_pipeline/linear_args/forward_backward_graphs/0_chr6-32578775-32588775_forward_graph.h5', 'r') as f:\n",
    "    forward_graph_from_h5 = sp.coo_matrix((f['data'][:], (f['rows'][:], f['cols'][:])), shape=(f.attrs['n'], f.attrs['n']))\n",
    "    \n",
    "with h5py.File('/Users/ambershen/Desktop/linARG/dx_analysis/test_pipeline/linear_args/forward_backward_graphs/0_chr6-32578775-32588775_backward_graph.h5', 'r') as f:\n",
    "    backward_graph_from_h5 = sp.coo_matrix((f['data'][:], (f['rows'][:], f['cols'][:])), shape=(f.attrs['n'], f.attrs['n']))"
   ]
  },
  {
   "cell_type": "code",
   "execution_count": 12,
   "metadata": {},
   "outputs": [
    {
     "data": {
      "text/plain": [
       "(2000, 774)"
      ]
     },
     "execution_count": 12,
     "metadata": {},
     "output_type": "execute_result"
    }
   ],
   "source": [
    "genotypes.shape"
   ]
  },
  {
   "cell_type": "code",
   "execution_count": 8,
   "metadata": {},
   "outputs": [
    {
     "data": {
      "text/plain": [
       "<Compressed Sparse Row sparse matrix of dtype 'float64'\n",
       "\twith 121357 stored elements and shape (2774, 2774)>"
      ]
     },
     "execution_count": 8,
     "metadata": {},
     "output_type": "execute_result"
    }
   ],
   "source": [
    "forward_graph.to_csr()"
   ]
  },
  {
   "cell_type": "code",
   "execution_count": 11,
   "metadata": {},
   "outputs": [
    {
     "data": {
      "text/plain": [
       "<Compressed Sparse Row sparse matrix of dtype 'float64'\n",
       "\twith 384285 stored elements and shape (7178, 7178)>"
      ]
     },
     "execution_count": 11,
     "metadata": {},
     "output_type": "execute_result"
    }
   ],
   "source": [
    "forward_graph_from_h5.tocsr()"
   ]
  },
  {
   "cell_type": "code",
   "execution_count": null,
   "metadata": {},
   "outputs": [],
   "source": []
  }
 ],
 "metadata": {
  "kernelspec": {
   "display_name": "py312",
   "language": "python",
   "name": "py312"
  },
  "language_info": {
   "codemirror_mode": {
    "name": "ipython",
    "version": 3
   },
   "file_extension": ".py",
   "mimetype": "text/x-python",
   "name": "python",
   "nbconvert_exporter": "python",
   "pygments_lexer": "ipython3",
   "version": "3.12.3"
  }
 },
 "nbformat": 4,
 "nbformat_minor": 2
}
