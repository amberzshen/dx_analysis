{
 "cells": [
  {
   "cell_type": "code",
   "execution_count": 12,
   "metadata": {},
   "outputs": [],
   "source": [
    "import numpy as np\n",
    "import cyvcf2 as cv\n",
    "import scipy.sparse as sp\n",
    "import random\n",
    "import pandas as pd"
   ]
  },
  {
   "cell_type": "code",
   "execution_count": 2,
   "metadata": {},
   "outputs": [],
   "source": [
    "vcf_path = '/Users/ambershen/Desktop/linARG/data/1kg/CCDG_14151_B01_GRM_WGS_2020-08-05_chr6.filtered.shapeit2-duohmm-phased.vcf.gz'\n",
    "vcf = cv.VCF(vcf_path)\n",
    "samples = vcf.samples"
   ]
  },
  {
   "cell_type": "code",
   "execution_count": 3,
   "metadata": {},
   "outputs": [],
   "source": [
    "for var in vcf:\n",
    "    break"
   ]
  },
  {
   "cell_type": "code",
   "execution_count": 4,
   "metadata": {},
   "outputs": [
    {
     "data": {
      "text/plain": [
       "'TC'"
      ]
     },
     "execution_count": 4,
     "metadata": {},
     "output_type": "execute_result"
    }
   ],
   "source": [
    "var.REF"
   ]
  },
  {
   "cell_type": "code",
   "execution_count": 5,
   "metadata": {},
   "outputs": [
    {
     "data": {
      "text/plain": [
       "['T']"
      ]
     },
     "execution_count": 5,
     "metadata": {},
     "output_type": "execute_result"
    }
   ],
   "source": [
    "var.ALT"
   ]
  },
  {
   "cell_type": "code",
   "execution_count": 6,
   "metadata": {},
   "outputs": [
    {
     "data": {
      "text/plain": [
       "False"
      ]
     },
     "execution_count": 6,
     "metadata": {},
     "output_type": "execute_result"
    }
   ],
   "source": [
    "any(len(alt) != 1 for alt in var.ALT)"
   ]
  },
  {
   "cell_type": "code",
   "execution_count": 7,
   "metadata": {},
   "outputs": [
    {
     "data": {
      "text/plain": [
       "True"
      ]
     },
     "execution_count": 7,
     "metadata": {},
     "output_type": "execute_result"
    }
   ],
   "source": [
    "len(var.REF) != 1"
   ]
  },
  {
   "cell_type": "code",
   "execution_count": 7,
   "metadata": {},
   "outputs": [],
   "source": [
    "samples = vcf.samples[:1000]"
   ]
  },
  {
   "cell_type": "code",
   "execution_count": 8,
   "metadata": {},
   "outputs": [],
   "source": [
    "with open(f'whitelist.txt', 'w') as f:\n",
    "    f.write('\\n'.join(str(sample_id) for sample_id in samples))"
   ]
  },
  {
   "cell_type": "code",
   "execution_count": 9,
   "metadata": {},
   "outputs": [],
   "source": [
    "with open(f'whitelist.txt', 'r') as f:\n",
    "    whitelist = [line.strip() for line in f]"
   ]
  },
  {
   "cell_type": "code",
   "execution_count": 11,
   "metadata": {},
   "outputs": [
    {
     "data": {
      "text/plain": [
       "True"
      ]
     },
     "execution_count": 11,
     "metadata": {},
     "output_type": "execute_result"
    }
   ],
   "source": [
    "whitelist == samples"
   ]
  },
  {
   "cell_type": "code",
   "execution_count": 23,
   "metadata": {},
   "outputs": [
    {
     "data": {
      "text/plain": [
       "['HG00108',\n",
       " 'HG00109',\n",
       " 'HG00110',\n",
       " 'HG00111',\n",
       " 'HG00112',\n",
       " 'HG00113',\n",
       " 'HG00114',\n",
       " 'HG00115',\n",
       " 'HG00116',\n",
       " 'HG00117']"
      ]
     },
     "execution_count": 23,
     "metadata": {},
     "output_type": "execute_result"
    }
   ],
   "source": [
    "vcf = cv.VCF(vcf_path, samples=random_samples)\n",
    "vcf.samples"
   ]
  },
  {
   "cell_type": "code",
   "execution_count": 14,
   "metadata": {},
   "outputs": [
    {
     "data": {
      "text/plain": [
       "['HG00479',\n",
       " 'HG01168',\n",
       " 'HG01252',\n",
       " 'HG01517',\n",
       " 'HG01874',\n",
       " 'HG02082',\n",
       " 'HG02373',\n",
       " 'HG02624',\n",
       " 'HG03992',\n",
       " 'HG04061',\n",
       " 'HG04186',\n",
       " 'NA10843',\n",
       " 'NA12812',\n",
       " 'NA18636',\n",
       " 'NA19080',\n",
       " 'NA19310',\n",
       " 'NA19655',\n",
       " 'NA19684',\n",
       " 'NA21110',\n",
       " 'NA21135']"
      ]
     },
     "execution_count": 14,
     "metadata": {},
     "output_type": "execute_result"
    }
   ],
   "source": [
    "random_samples = vcf.samples"
   ]
  },
  {
   "cell_type": "code",
   "execution_count": 15,
   "metadata": {},
   "outputs": [
    {
     "data": {
      "text/plain": [
       "['HG01168',\n",
       " 'HG00479',\n",
       " 'NA19684',\n",
       " 'HG04061',\n",
       " 'NA19310',\n",
       " 'NA21135',\n",
       " 'HG02624',\n",
       " 'HG02082',\n",
       " 'HG02373',\n",
       " 'NA12812',\n",
       " 'NA18636',\n",
       " 'HG04186',\n",
       " 'HG01517',\n",
       " 'NA10843',\n",
       " 'HG01874',\n",
       " 'NA19655',\n",
       " 'HG01252',\n",
       " 'NA19080',\n",
       " 'HG03992',\n",
       " 'NA21110']"
      ]
     },
     "execution_count": 15,
     "metadata": {},
     "output_type": "execute_result"
    }
   ],
   "source": [
    "random_samples"
   ]
  },
  {
   "cell_type": "code",
   "execution_count": 10,
   "metadata": {},
   "outputs": [
    {
     "name": "stdout",
     "output_type": "stream",
     "text": [
      "no_filter (6404, 35306)\n",
      "maf_filter_0.05 (6404, 13717)\n",
      "maf_filter_0.05_indels_removed (6404, 11807)\n"
     ]
    }
   ],
   "source": [
    "conditions = ['no_filter', 'maf_filter_0.05', 'maf_filter_0.05_indels_removed']\n",
    "\n",
    "for c in conditions:\n",
    "    genotypes = sp.load_npz(f\"/Users/ambershen/Desktop/linARG/dx_analysis/test_pipeline/linear_args/{c}/genotype_matrices/0_chr6-32578775-33578775.npz\")\n",
    "    print(c, genotypes.shape)"
   ]
  },
  {
   "cell_type": "code",
   "execution_count": 19,
   "metadata": {},
   "outputs": [
    {
     "data": {
      "text/plain": [
       "({1,\n",
       "  2,\n",
       "  3,\n",
       "  4,\n",
       "  5,\n",
       "  6,\n",
       "  7,\n",
       "  8,\n",
       "  9,\n",
       "  10,\n",
       "  11,\n",
       "  12,\n",
       "  13,\n",
       "  14,\n",
       "  15,\n",
       "  16,\n",
       "  17,\n",
       "  19,\n",
       "  20,\n",
       "  21,\n",
       "  22,\n",
       "  23,\n",
       "  25,\n",
       "  26,\n",
       "  27,\n",
       "  29,\n",
       "  30,\n",
       "  31,\n",
       "  33,\n",
       "  36,\n",
       "  37,\n",
       "  42,\n",
       "  52,\n",
       "  59,\n",
       "  62},\n",
       " {1,\n",
       "  2,\n",
       "  3,\n",
       "  4,\n",
       "  5,\n",
       "  6,\n",
       "  7,\n",
       "  8,\n",
       "  9,\n",
       "  10,\n",
       "  11,\n",
       "  12,\n",
       "  13,\n",
       "  14,\n",
       "  15,\n",
       "  16,\n",
       "  17,\n",
       "  18,\n",
       "  19,\n",
       "  20,\n",
       "  21,\n",
       "  22,\n",
       "  25,\n",
       "  28,\n",
       "  33,\n",
       "  47})"
      ]
     },
     "execution_count": 19,
     "metadata": {},
     "output_type": "execute_result"
    }
   ],
   "source": [
    "var_path = '/Users/ambershen/Desktop/linARG/dx_analysis/test_pipeline/linear_args/maf_filter_0.05/variant_metadata/0_chr6-32578775-33578775.txt'\n",
    "df = pd.read_csv(var_path, sep=' ')\n",
    "set([len(x) for x in df.REF]), set([len(x) for x in df.ALT])"
   ]
  },
  {
   "cell_type": "code",
   "execution_count": 18,
   "metadata": {},
   "outputs": [
    {
     "data": {
      "text/plain": [
       "({1}, {1})"
      ]
     },
     "execution_count": 18,
     "metadata": {},
     "output_type": "execute_result"
    }
   ],
   "source": [
    "set([len(x) for x in df.REF]), set([len(x) for x in df.ALT])"
   ]
  },
  {
   "cell_type": "code",
   "execution_count": null,
   "metadata": {},
   "outputs": [],
   "source": []
  }
 ],
 "metadata": {
  "kernelspec": {
   "display_name": "py312",
   "language": "python",
   "name": "py312"
  },
  "language_info": {
   "codemirror_mode": {
    "name": "ipython",
    "version": 3
   },
   "file_extension": ".py",
   "mimetype": "text/x-python",
   "name": "python",
   "nbconvert_exporter": "python",
   "pygments_lexer": "ipython3",
   "version": "3.12.3"
  }
 },
 "nbformat": 4,
 "nbformat_minor": 2
}
