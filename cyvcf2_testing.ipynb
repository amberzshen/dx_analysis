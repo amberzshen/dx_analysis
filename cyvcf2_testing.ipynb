{
 "cells": [
  {
   "cell_type": "code",
   "execution_count": 9,
   "metadata": {},
   "outputs": [],
   "source": [
    "import numpy as np\n",
    "import cyvcf2 as cv\n",
    "import scipy.sparse as sp"
   ]
  },
  {
   "cell_type": "code",
   "execution_count": 49,
   "metadata": {},
   "outputs": [],
   "source": [
    "def get_partitions(interval_start, interval_end, partition_size):\n",
    "    num_partitions = int((interval_end - interval_start + 1) / partition_size)\n",
    "    ticks = np.linspace(interval_start, interval_end+1, num_partitions+1).astype(int)\n",
    "    ends = ticks[1:] - 1\n",
    "    starts = ticks[:-1]\n",
    "    intervals = [(start, end) for start,end in zip(starts, ends)]\n",
    "    print(f'size of intervals: {[x[1]-x[0]+1 for x in intervals]}')\n",
    "    return intervals"
   ]
  },
  {
   "cell_type": "code",
   "execution_count": 50,
   "metadata": {},
   "outputs": [
    {
     "name": "stdout",
     "output_type": "stream",
     "text": [
      "size of intervals: [20744141, 20744142, 20744142, 20744142, 20744142, 20744142, 20744142, 20744142, 20744142, 20744142, 20744142, 20744142]\n"
     ]
    },
    {
     "data": {
      "text/plain": [
       "[(15916, 20760056),\n",
       " (20760057, 41504198),\n",
       " (41504199, 62248340),\n",
       " (62248341, 82992482),\n",
       " (82992483, 103736624),\n",
       " (103736625, 124480766),\n",
       " (124480767, 145224908),\n",
       " (145224909, 165969050),\n",
       " (165969051, 186713192),\n",
       " (186713193, 207457334),\n",
       " (207457335, 228201476),\n",
       " (228201477, 248945618)]"
      ]
     },
     "execution_count": 50,
     "metadata": {},
     "output_type": "execute_result"
    }
   ],
   "source": [
    "interval_start = 15916\n",
    "interval_end = 248945618\n",
    "partition_size = 2e7\n",
    "\n",
    "get_partitions(interval_start, interval_end, partition_size)"
   ]
  },
  {
   "cell_type": "code",
   "execution_count": 51,
   "metadata": {},
   "outputs": [
    {
     "name": "stdout",
     "output_type": "stream",
     "text": [
      "size of intervals: [20142941, 20142942]\n"
     ]
    },
    {
     "data": {
      "text/plain": [
       "[(10521887, 30664827), (30664828, 50807769)]"
      ]
     },
     "execution_count": 51,
     "metadata": {},
     "output_type": "execute_result"
    }
   ],
   "source": [
    "interval_start = 10521887\n",
    "interval_end = 50807769\n",
    "partition_size = 2e7\n",
    "\n",
    "get_partitions(interval_start, interval_end, partition_size)"
   ]
  },
  {
   "cell_type": "code",
   "execution_count": 36,
   "metadata": {},
   "outputs": [
    {
     "data": {
      "text/plain": [
       "array([    15916,  20588618,  41161321,  61734024,  82306726, 102879429,\n",
       "       123452132, 144024835, 164597537, 185170240, 205742943, 226315646])"
      ]
     },
     "execution_count": 36,
     "metadata": {},
     "output_type": "execute_result"
    }
   ],
   "source": [
    "ticks"
   ]
  },
  {
   "cell_type": "code",
   "execution_count": 33,
   "metadata": {},
   "outputs": [
    {
     "data": {
      "text/plain": [
       "11"
      ]
     },
     "execution_count": 33,
     "metadata": {},
     "output_type": "execute_result"
    }
   ],
   "source": [
    "num_partitions"
   ]
  },
  {
   "cell_type": "code",
   "execution_count": null,
   "metadata": {},
   "outputs": [],
   "source": []
  }
 ],
 "metadata": {
  "kernelspec": {
   "display_name": "py312",
   "language": "python",
   "name": "py312"
  },
  "language_info": {
   "codemirror_mode": {
    "name": "ipython",
    "version": 3
   },
   "file_extension": ".py",
   "mimetype": "text/x-python",
   "name": "python",
   "nbconvert_exporter": "python",
   "pygments_lexer": "ipython3",
   "version": "3.12.3"
  }
 },
 "nbformat": 4,
 "nbformat_minor": 2
}
