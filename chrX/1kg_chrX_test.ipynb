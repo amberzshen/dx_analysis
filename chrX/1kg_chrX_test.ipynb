{
 "cells": [
  {
   "cell_type": "code",
   "execution_count": 1,
   "metadata": {},
   "outputs": [],
   "source": [
    "import cyvcf2 as cv\n",
    "import numpy as np\n",
    "import pandas as pd"
   ]
  },
  {
   "cell_type": "code",
   "execution_count": 2,
   "metadata": {},
   "outputs": [],
   "source": [
    "vcf_path = '/Users/ambershen/Desktop/linARG/data/1kg/CCDG_14151_B01_GRM_WGS_2020-08-05_chrX.filtered.eagle2-phased.v2.vcf.gz'\n",
    "vcf = cv.VCF(vcf_path, gts012=True, strict_gt=True)\n",
    "\n",
    "metadata_path = '/Users/ambershen/Desktop/linARG/data/1kg/1kGP.3202_samples.pedigree_info.txt'\n",
    "meta = pd.read_csv(metadata_path, sep=' ')\n",
    "sex = np.array(meta.sex) - 1\n",
    "\n",
    "mask = 2 * np.where(sex==1)[0]\n",
    "indices_to_keep = np.array([i for i in range(2*len(vcf.samples)) if i not in mask])\n",
    "\n",
    "par1 = 'chrX:10001-2781479'\n",
    "par2 = 'chrX:155701383-156030895'\n",
    "other = 'chrX:2781480-155701382'"
   ]
  },
  {
   "cell_type": "code",
   "execution_count": 40,
   "metadata": {},
   "outputs": [],
   "source": [
    "vcf_path = '/Users/ambershen/Desktop/linARG/data/1kg/CCDG_14151_B01_GRM_WGS_2020-08-05_chrX.filtered.eagle2-phased.v2.vcf.gz'\n",
    "vcf = cv.VCF(vcf_path, gts012=True, strict_gt=True)\n",
    "\n",
    "for var in vcf(other):\n",
    "    break\n",
    "\n",
    "male_indices = np.where(var.genotype.array()[:,1]==-2)[0]\n",
    "sex = np.array([1 if i in male_indices else 0 for i in range(len(vcf.samples))])\n",
    "mask = 2 * np.where(sex==1)[0] + 1\n",
    "indices_to_keep = np.array([i for i in range(2*len(vcf.samples)) if i not in mask])\n",
    "\n",
    "par1 = 'chrX:10001-2781479'\n",
    "par2 = 'chrX:155701383-156030895'\n",
    "other = 'chrX:2781480-155701382'\n",
    "\n",
    "count = 0\n",
    "for var in vcf(other):\n",
    "    gts = np.ravel(np.asarray(var.genotype.array())[:, :2])\n",
    "    gts_filt = gts[indices_to_keep]\n",
    "    \n",
    "    count += 1\n",
    "    if count == 1000:\n",
    "        break \n",
    "    assert np.all((gts_filt == 0) | (gts_filt == 1)), \"Array contains values other than 0 and 1\""
   ]
  },
  {
   "cell_type": "code",
   "execution_count": 41,
   "metadata": {},
   "outputs": [],
   "source": [
    "np.savetxt(\"1kg_sex.txt\", sex, fmt='%d')"
   ]
  },
  {
   "cell_type": "code",
   "execution_count": 43,
   "metadata": {},
   "outputs": [],
   "source": [
    "if 's' in 'x' and hi is not None:\n",
    "    print('here')"
   ]
  },
  {
   "cell_type": "code",
   "execution_count": null,
   "metadata": {},
   "outputs": [],
   "source": []
  }
 ],
 "metadata": {
  "kernelspec": {
   "display_name": "py312",
   "language": "python",
   "name": "py312"
  },
  "language_info": {
   "codemirror_mode": {
    "name": "ipython",
    "version": 3
   },
   "file_extension": ".py",
   "mimetype": "text/x-python",
   "name": "python",
   "nbconvert_exporter": "python",
   "pygments_lexer": "ipython3",
   "version": "3.12.3"
  }
 },
 "nbformat": 4,
 "nbformat_minor": 2
}
