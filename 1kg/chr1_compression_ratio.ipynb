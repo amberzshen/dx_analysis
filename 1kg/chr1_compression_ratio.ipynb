{
 "cells": [
  {
   "cell_type": "code",
   "execution_count": 7,
   "metadata": {},
   "outputs": [],
   "source": [
    "import linear_dag as ld\n",
    "import scipy.sparse as sp\n",
    "import cyvcf2 as cv\n",
    "import numpy as np"
   ]
  },
  {
   "cell_type": "code",
   "execution_count": 9,
   "metadata": {},
   "outputs": [],
   "source": [
    "path = '/Users/ambershen/Desktop/linARG/data/1kg/CCDG_14151_B01_GRM_WGS_2020-08-05_chr1.filtered.shapeit2-duohmm-phased.vcf.gz'\n",
    "\n",
    "vcf = cv.VCF(path, gts012=True, strict_gt=True)\n",
    "\n",
    "nnz = 0\n",
    "\n",
    "for var in vcf:\n",
    "    \n",
    "    gts = var.gt_types\n",
    "    \n",
    "    af = np.mean(gts)\n",
    "    \n",
    "    if af > 0.5:\n",
    "        nnz += len(np.where(gts != 1)[0])\n",
    "    else:\n",
    "       nnz += len(np.where(gts != 0)[0])     "
   ]
  },
  {
   "cell_type": "code",
   "execution_count": 10,
   "metadata": {},
   "outputs": [
    {
     "data": {
      "text/plain": [
       "1076718137"
      ]
     },
     "execution_count": 10,
     "metadata": {},
     "output_type": "execute_result"
    }
   ],
   "source": [
    "nnz"
   ]
  },
  {
   "cell_type": "code",
   "execution_count": 11,
   "metadata": {},
   "outputs": [],
   "source": [
    "linarg_path = '/Users/ambershen/Desktop/linARG/data/1kg/linear_ARGs/1kg_chr1'\n",
    "linarg = ld.LinearARG.read(f'{linarg_path}.npz', f'{linarg_path}.pvar', f'{linarg_path}.psam')\n",
    "\n",
    "linarg_nnz = linarg.nnz"
   ]
  },
  {
   "cell_type": "code",
   "execution_count": 12,
   "metadata": {},
   "outputs": [
    {
     "data": {
      "text/plain": [
       "14.82834325823109"
      ]
     },
     "execution_count": 12,
     "metadata": {},
     "output_type": "execute_result"
    }
   ],
   "source": [
    "nnz / linarg_nnz"
   ]
  },
  {
   "cell_type": "code",
   "execution_count": null,
   "metadata": {},
   "outputs": [],
   "source": []
  }
 ],
 "metadata": {
  "kernelspec": {
   "display_name": "py312",
   "language": "python",
   "name": "py312"
  },
  "language_info": {
   "codemirror_mode": {
    "name": "ipython",
    "version": 3
   },
   "file_extension": ".py",
   "mimetype": "text/x-python",
   "name": "python",
   "nbconvert_exporter": "python",
   "pygments_lexer": "ipython3",
   "version": "3.12.3"
  }
 },
 "nbformat": 4,
 "nbformat_minor": 2
}
