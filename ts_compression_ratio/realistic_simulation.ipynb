{
 "cells": [
  {
   "cell_type": "code",
   "execution_count": 1,
   "metadata": {},
   "outputs": [],
   "source": [
    "# import sys\n",
    "# sys.path.append('/Users/ambershen/Desktop/linARG/software/stdpopsim/stdpopsim')\n",
    "import stdpopsim\n",
    "import pandas as pd\n",
    "import scipy.sparse as sp\n",
    "import numpy as np\n",
    "import tskit"
   ]
  },
  {
   "cell_type": "code",
   "execution_count": 2,
   "metadata": {},
   "outputs": [],
   "source": [
    "# region in the format of chrXX-XXX-XXX\n",
    "def simulate_OutOfAfrica_3G09(sample_size, region, seed, out):\n",
    "    n = int(sample_size/3)\n",
    "    chrom, start, end = region.split('-')\n",
    "    species = stdpopsim.get_species('HomSap')\n",
    "    model = species.get_demographic_model('OutOfAfrica_3G09')\n",
    "    contig = species.get_contig(chrom, mutation_rate=model.mutation_rate, inclusion_mask=[(start, end)])\n",
    "    samples = {'YRI': n, 'CHB': n, 'CEU': n}\n",
    "    engine = stdpopsim.get_engine('msprime')    \n",
    "    ts = engine.simulate(model, contig, samples, seed=seed)\n",
    "    ts.dump(out)"
   ]
  },
  {
   "cell_type": "code",
   "execution_count": 3,
   "metadata": {},
   "outputs": [
    {
     "data": {
      "text/plain": [
       "(19477, 19477)"
      ]
     },
     "execution_count": 3,
     "metadata": {},
     "output_type": "execute_result"
    }
   ],
   "source": [
    "simulate_OutOfAfrica_3G09(1e3, 'chr21-21990355-23324211', 1, 'test.trees')\n",
    "ts = tskit.load('test.trees')\n",
    "sum([1 for x in ts.mutations()]), sum([1 for x in ts.variants()])"
   ]
  },
  {
   "cell_type": "markdown",
   "metadata": {},
   "source": [
    "Solution: add discrete_genome=False to mutation simulator"
   ]
  },
  {
   "cell_type": "code",
   "execution_count": 172,
   "metadata": {},
   "outputs": [],
   "source": [
    "def get_genotype_matrix(ts):\n",
    "    X_sites = sp.csr_matrix(ts.genotype_matrix()) # sites x samples\n",
    "    X_mut = []\n",
    "    counter = 0\n",
    "    for site in X_sites:\n",
    "        alleles = set(site.data)\n",
    "        if len(alleles) == 1:\n",
    "            X_mut.append(site)\n",
    "            counter += 1\n",
    "        else:\n",
    "            counter += len(alleles)\n",
    "            for allele in alleles:\n",
    "                allele_inds = site.indices[np.where(site.data==allele)[0]] # which individuals have the allele\n",
    "                data = np.ones(len(allele_inds))\n",
    "                row_inds = np.zeros(len(allele_inds), dtype=int)\n",
    "                row = sp.csr_matrix((data, (row_inds, allele_inds)), shape=(1, X_sites.shape[1]))\n",
    "                X_mut.append(row)\n",
    "    print(counter)\n",
    "    return sp.vstack(X_mut).T\n",
    "                    "
   ]
  },
  {
   "cell_type": "code",
   "execution_count": 173,
   "metadata": {},
   "outputs": [
    {
     "name": "stdout",
     "output_type": "stream",
     "text": [
      "19507\n"
     ]
    }
   ],
   "source": [
    "X = get_genotype_matrix(ts)"
   ]
  },
  {
   "cell_type": "code",
   "execution_count": 156,
   "metadata": {},
   "outputs": [
    {
     "data": {
      "text/plain": [
       "(1998, 19507)"
      ]
     },
     "execution_count": 156,
     "metadata": {},
     "output_type": "execute_result"
    }
   ],
   "source": [
    "X.shape"
   ]
  },
  {
   "cell_type": "code",
   "execution_count": 157,
   "metadata": {},
   "outputs": [
    {
     "data": {
      "text/plain": [
       "(19565, 19404)"
      ]
     },
     "execution_count": 157,
     "metadata": {},
     "output_type": "execute_result"
    }
   ],
   "source": [
    "sum([1 for x in ts.mutations()]), sum([1 for x in ts.variants()])"
   ]
  },
  {
   "cell_type": "code",
   "execution_count": 181,
   "metadata": {},
   "outputs": [
    {
     "data": {
      "text/plain": [
       "(19477, 19316)"
      ]
     },
     "execution_count": 181,
     "metadata": {},
     "output_type": "execute_result"
    }
   ],
   "source": [
    "# simulate_OutOfAfrica_3G09(1e3, 'chr21-21990355-23324211', 1, 'test.trees')\n",
    "ts = tskit.load('test.trees')\n",
    "sum([1 for x in ts.mutations()]), sum([1 for x in ts.variants()])"
   ]
  },
  {
   "cell_type": "code",
   "execution_count": 93,
   "metadata": {},
   "outputs": [],
   "source": [
    "region = 'chr21-21990355-23324211'\n",
    "seed = 1\n",
    "n = int(1e3/3)\n",
    "chrom, start, end = region.split('-')\n",
    "species = stdpopsim.get_species('HomSap')\n",
    "model = species.get_demographic_model('OutOfAfrica_3G09')\n",
    "contig = species.get_contig(chrom, mutation_rate=model.mutation_rate, inclusion_mask=[(start, end)])\n",
    "samples = {'YRI': n, 'CHB': n, 'CEU': n}\n",
    "engine = stdpopsim.get_engine('msprime')    \n",
    "ts = engine.simulate(model, contig, samples, seed=seed, discrete_genome=False)"
   ]
  },
  {
   "cell_type": "code",
   "execution_count": 94,
   "metadata": {},
   "outputs": [
    {
     "data": {
      "text/plain": [
       "Contig(recombination_map=RateMap(position=array([       0., 46709983.]), rate=array([1.72443408e-08])), mutation_rate=2.35e-08, ploidy=2, bacterial_recombination=False, gene_conversion_fraction=None, gene_conversion_length=None, genetic_map=None, inclusion_mask=array([[21990355, 23324211]]), exclusion_mask=None, dfe_list=[DFE(id='neutral', description='neutral DFE', long_description='strictly neutral mutations', mutation_types=[MutationType(dominance_coeff=0.5, distribution_type='f', distribution_args=[0], convert_to_substitution=True)], proportions=[1.0], citations=[], qc_dfe=None)], interval_list=[array([[       0, 46709983]])], original_coordinates=('chr21', 0, 46709983))"
      ]
     },
     "execution_count": 94,
     "metadata": {},
     "output_type": "execute_result"
    }
   ],
   "source": [
    "contig"
   ]
  },
  {
   "cell_type": "code",
   "execution_count": 91,
   "metadata": {},
   "outputs": [],
   "source": [
    "import tskit\n",
    "\n",
    "ts = tskit.load('test.trees')"
   ]
  },
  {
   "cell_type": "code",
   "execution_count": 92,
   "metadata": {},
   "outputs": [
    {
     "data": {
      "text/plain": [
       "(19565, 19404)"
      ]
     },
     "execution_count": 92,
     "metadata": {},
     "output_type": "execute_result"
    }
   ],
   "source": [
    "sum([1 for x in ts.mutations()]), sum([1 for x in ts.variants()])"
   ]
  },
  {
   "cell_type": "code",
   "execution_count": 176,
   "metadata": {},
   "outputs": [
    {
     "name": "stdout",
     "output_type": "stream",
     "text": [
      "╔════════════════════════════════════╗\n",
      "║Variant                             ║\n",
      "╠═══════════════════════╤════════════╣\n",
      "║Site id                │          91║\n",
      "╟───────────────────────┼────────────╢\n",
      "║Site position          │21,997,610.0║\n",
      "╟───────────────────────┼────────────╢\n",
      "║Number of samples      │       1,998║\n",
      "╟───────────────────────┼────────────╢\n",
      "║Number of alleles      │           3║\n",
      "╟───────────────────────┼────────────╢\n",
      "║Samples with allele 'C'│   724 (36%)║\n",
      "╟───────────────────────┼────────────╢\n",
      "║Samples with allele 'A'│ 1,270 (64%)║\n",
      "╟───────────────────────┼────────────╢\n",
      "║Samples with allele 'T'│    4 (0.2%)║\n",
      "╟───────────────────────┼────────────╢\n",
      "║Has missing data       │       False║\n",
      "╟───────────────────────┼────────────╢\n",
      "║Isolated as missing    │        True║\n",
      "╚═══════════════════════╧════════════╝\n",
      "\n"
     ]
    }
   ],
   "source": [
    "for x in ts.variants():\n",
    "    if x.site.id == 91:\n",
    "        print(x)\n",
    "        break"
   ]
  },
  {
   "cell_type": "code",
   "execution_count": null,
   "metadata": {},
   "outputs": [
    {
     "data": {
      "text/plain": [
       "[Mutation(id=90, site=90, node=466, derived_state='A', parent=-1, metadata=b'', time=258.3545654903446, edge=23699),\n",
       " Mutation(id=91, site=90, node=2656, derived_state='A', parent=-1, metadata=b'', time=129.49810280336771, edge=22907)]"
      ]
     },
     "execution_count": 105,
     "metadata": {},
     "output_type": "execute_result"
    }
   ],
   "source": [
    "site_to_mutation = {i:[] for i in range()}\n",
    "for x in ts.sites():\n",
    "    \n",
    "    if len(x.mutations)>1:\n",
    "        break\n",
    "x.mutations"
   ]
  },
  {
   "cell_type": "code",
   "execution_count": 159,
   "metadata": {},
   "outputs": [],
   "source": [
    "def get_tree_sequence_adj_mtx(ts):\n",
    "    mutations = ts.mutations()\n",
    "    sites = ts.sites()\n",
    "    site_positions = {site.id: site.position for site in sites}\n",
    "    mutations_data = []\n",
    "    for mutation in mutations:\n",
    "        mutations_data.append({\n",
    "            'mutation_id': mutation.id,\n",
    "            'site_position': site_positions[mutation.site],\n",
    "            'node': mutation.node,\n",
    "            'time': mutation.time\n",
    "        })\n",
    "    mutations_df = pd.DataFrame(mutations_data)\n",
    "\n",
    "    edges = pd.DataFrame({\n",
    "        'left': ts.tables.edges.left,\n",
    "        'right': ts.tables.edges.right,\n",
    "        'parent': ts.tables.edges.parent,\n",
    "        'child': ts.tables.edges.child,\n",
    "    })\n",
    "            \n",
    "    tree_sequence = {}\n",
    "    nodes = set(list(edges.parent) + list(edges.child))\n",
    "    N = len(nodes)\n",
    "    assert N == max(nodes)+1\n",
    "    intervals = sorted(list(set(list(edges.left) + list(edges.right))))\n",
    "    for i in range(len(intervals)-1):\n",
    "        left_interval = intervals[i]\n",
    "        right_interval = intervals[i+1]\n",
    "        edges_in_interval = edges[(edges.left<=left_interval) & (edges.right>=right_interval)]\n",
    "        adj_mat = sp.csr_matrix((np.ones(edges_in_interval.shape[0]), (np.array(edges_in_interval.parent), np.array(edges_in_interval.child))), shape=(N, N))\n",
    "        tree_sequence[(left_interval,right_interval)] = adj_mat\n",
    "    \n",
    "    return tree_sequence, mutations_df"
   ]
  },
  {
   "cell_type": "code",
   "execution_count": 160,
   "metadata": {},
   "outputs": [],
   "source": [
    "tree_sequence, mutations = get_tree_sequence_adj_mtx(ts)"
   ]
  },
  {
   "cell_type": "code",
   "execution_count": 166,
   "metadata": {},
   "outputs": [
    {
     "data": {
      "text/plain": [
       "19565"
      ]
     },
     "execution_count": 166,
     "metadata": {},
     "output_type": "execute_result"
    }
   ],
   "source": [
    "np.sum(list(mutations.site_position.value_counts()))"
   ]
  },
  {
   "cell_type": "code",
   "execution_count": 170,
   "metadata": {},
   "outputs": [
    {
     "name": "stdout",
     "output_type": "stream",
     "text": [
      "Mutation(id=0, site=0, node=1865, derived_state='A', parent=-1, metadata=b'', time=15.120195115225497, edge=5385)\n"
     ]
    }
   ],
   "source": [
    "for x in ts.mutations():\n",
    "    print(x)\n",
    "    break"
   ]
  },
  {
   "cell_type": "code",
   "execution_count": 171,
   "metadata": {},
   "outputs": [
    {
     "data": {
      "text/html": [
       "<div>\n",
       "<style scoped>\n",
       "    .dataframe tbody tr th:only-of-type {\n",
       "        vertical-align: middle;\n",
       "    }\n",
       "\n",
       "    .dataframe tbody tr th {\n",
       "        vertical-align: top;\n",
       "    }\n",
       "\n",
       "    .dataframe thead th {\n",
       "        text-align: right;\n",
       "    }\n",
       "</style>\n",
       "<table border=\"1\" class=\"dataframe\">\n",
       "  <thead>\n",
       "    <tr style=\"text-align: right;\">\n",
       "      <th></th>\n",
       "      <th>mutation_id</th>\n",
       "      <th>site_position</th>\n",
       "      <th>node</th>\n",
       "      <th>time</th>\n",
       "    </tr>\n",
       "  </thead>\n",
       "  <tbody>\n",
       "    <tr>\n",
       "      <th>0</th>\n",
       "      <td>0</td>\n",
       "      <td>21990418.0</td>\n",
       "      <td>1865</td>\n",
       "      <td>15.120195</td>\n",
       "    </tr>\n",
       "    <tr>\n",
       "      <th>1</th>\n",
       "      <td>1</td>\n",
       "      <td>21990472.0</td>\n",
       "      <td>12268</td>\n",
       "      <td>7581.733773</td>\n",
       "    </tr>\n",
       "    <tr>\n",
       "      <th>2</th>\n",
       "      <td>2</td>\n",
       "      <td>21990571.0</td>\n",
       "      <td>11703</td>\n",
       "      <td>10919.025760</td>\n",
       "    </tr>\n",
       "    <tr>\n",
       "      <th>3</th>\n",
       "      <td>3</td>\n",
       "      <td>21990699.0</td>\n",
       "      <td>11012</td>\n",
       "      <td>10409.829788</td>\n",
       "    </tr>\n",
       "    <tr>\n",
       "      <th>4</th>\n",
       "      <td>4</td>\n",
       "      <td>21990723.0</td>\n",
       "      <td>9960</td>\n",
       "      <td>3604.132516</td>\n",
       "    </tr>\n",
       "    <tr>\n",
       "      <th>...</th>\n",
       "      <td>...</td>\n",
       "      <td>...</td>\n",
       "      <td>...</td>\n",
       "      <td>...</td>\n",
       "    </tr>\n",
       "    <tr>\n",
       "      <th>19560</th>\n",
       "      <td>19560</td>\n",
       "      <td>23324027.0</td>\n",
       "      <td>238</td>\n",
       "      <td>659.127112</td>\n",
       "    </tr>\n",
       "    <tr>\n",
       "      <th>19561</th>\n",
       "      <td>19561</td>\n",
       "      <td>23324108.0</td>\n",
       "      <td>153</td>\n",
       "      <td>7.281762</td>\n",
       "    </tr>\n",
       "    <tr>\n",
       "      <th>19562</th>\n",
       "      <td>19562</td>\n",
       "      <td>23324129.0</td>\n",
       "      <td>95</td>\n",
       "      <td>126.591971</td>\n",
       "    </tr>\n",
       "    <tr>\n",
       "      <th>19563</th>\n",
       "      <td>19563</td>\n",
       "      <td>23324141.0</td>\n",
       "      <td>996</td>\n",
       "      <td>551.702964</td>\n",
       "    </tr>\n",
       "    <tr>\n",
       "      <th>19564</th>\n",
       "      <td>19564</td>\n",
       "      <td>23324180.0</td>\n",
       "      <td>11055</td>\n",
       "      <td>3712.651392</td>\n",
       "    </tr>\n",
       "  </tbody>\n",
       "</table>\n",
       "<p>19565 rows × 4 columns</p>\n",
       "</div>"
      ],
      "text/plain": [
       "       mutation_id  site_position   node          time\n",
       "0                0     21990418.0   1865     15.120195\n",
       "1                1     21990472.0  12268   7581.733773\n",
       "2                2     21990571.0  11703  10919.025760\n",
       "3                3     21990699.0  11012  10409.829788\n",
       "4                4     21990723.0   9960   3604.132516\n",
       "...            ...            ...    ...           ...\n",
       "19560        19560     23324027.0    238    659.127112\n",
       "19561        19561     23324108.0    153      7.281762\n",
       "19562        19562     23324129.0     95    126.591971\n",
       "19563        19563     23324141.0    996    551.702964\n",
       "19564        19564     23324180.0  11055   3712.651392\n",
       "\n",
       "[19565 rows x 4 columns]"
      ]
     },
     "execution_count": 171,
     "metadata": {},
     "output_type": "execute_result"
    }
   ],
   "source": [
    "mutations"
   ]
  },
  {
   "cell_type": "code",
   "execution_count": null,
   "metadata": {},
   "outputs": [],
   "source": []
  }
 ],
 "metadata": {
  "kernelspec": {
   "display_name": "py312",
   "language": "python",
   "name": "py312"
  },
  "language_info": {
   "codemirror_mode": {
    "name": "ipython",
    "version": 3
   },
   "file_extension": ".py",
   "mimetype": "text/x-python",
   "name": "python",
   "nbconvert_exporter": "python",
   "pygments_lexer": "ipython3",
   "version": "3.12.3"
  }
 },
 "nbformat": 4,
 "nbformat_minor": 2
}
