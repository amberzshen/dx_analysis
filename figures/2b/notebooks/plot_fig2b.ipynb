{
 "cells": [
  {
   "cell_type": "code",
   "execution_count": 2,
   "metadata": {},
   "outputs": [],
   "source": [
    "import pandas as pd\n",
    "import numpy as np\n",
    "import matplotlib.pyplot as plt"
   ]
  },
  {
   "cell_type": "code",
   "execution_count": 7,
   "metadata": {},
   "outputs": [
    {
     "data": {
      "text/html": [
       "<div>\n",
       "<style scoped>\n",
       "    .dataframe tbody tr th:only-of-type {\n",
       "        vertical-align: middle;\n",
       "    }\n",
       "\n",
       "    .dataframe tbody tr th {\n",
       "        vertical-align: top;\n",
       "    }\n",
       "\n",
       "    .dataframe thead th {\n",
       "        text-align: right;\n",
       "    }\n",
       "</style>\n",
       "<table border=\"1\" class=\"dataframe\">\n",
       "  <thead>\n",
       "    <tr style=\"text-align: right;\">\n",
       "      <th></th>\n",
       "      <th>chr</th>\n",
       "      <th>method</th>\n",
       "      <th>size_in_memory_gb</th>\n",
       "    </tr>\n",
       "  </thead>\n",
       "  <tbody>\n",
       "    <tr>\n",
       "      <th>0</th>\n",
       "      <td>1_11_21</td>\n",
       "      <td>linarg</td>\n",
       "      <td>8.209251</td>\n",
       "    </tr>\n",
       "    <tr>\n",
       "      <th>1</th>\n",
       "      <td>1_11_21</td>\n",
       "      <td>scipy</td>\n",
       "      <td>477.470264</td>\n",
       "    </tr>\n",
       "    <tr>\n",
       "      <th>2</th>\n",
       "      <td>1_11_21</td>\n",
       "      <td>grg</td>\n",
       "      <td>19.404321</td>\n",
       "    </tr>\n",
       "    <tr>\n",
       "      <th>3</th>\n",
       "      <td>1-22</td>\n",
       "      <td>linarg</td>\n",
       "      <td>57.977156</td>\n",
       "    </tr>\n",
       "  </tbody>\n",
       "</table>\n",
       "</div>"
      ],
      "text/plain": [
       "       chr  method  size_in_memory_gb\n",
       "0  1_11_21  linarg           8.209251\n",
       "1  1_11_21   scipy         477.470264\n",
       "2  1_11_21     grg          19.404321\n",
       "3     1-22  linarg          57.977156"
      ]
     },
     "execution_count": 7,
     "metadata": {},
     "output_type": "execute_result"
    }
   ],
   "source": [
    "df = pd.read_csv('/Users/ambershen/Desktop/linARG/dx_analysis/figures/2b/data/size_in_memory.csv')\n",
    "df"
   ]
  },
  {
   "cell_type": "code",
   "execution_count": 17,
   "metadata": {},
   "outputs": [
    {
     "data": {
      "image/png": "[encoded data removed]",
      "text/plain": [
       "<Figure size 800x400 with 1 Axes>"
      ]
     },
     "metadata": {},
     "output_type": "display_data"
    }
   ],
   "source": [
    "import matplotlib.pyplot as plt\n",
    "import matplotlib.patches as mpatches\n",
    "import numpy as np\n",
    "\n",
    "methods = ['Linear ARG', 'GRG', 'CSR matrix'][::-1]\n",
    "size_in_memory = [df.loc[0].size_in_memory_gb, df.loc[2].size_in_memory_gb, df.loc[1].size_in_memory_gb][::-1]\n",
    "\n",
    "y = np.arange(len(methods))\n",
    "\n",
    "colors = ['#93c47d', '#f6b26b', '#56C1FF']\n",
    "\n",
    "fig, ax = plt.subplots(figsize=(8, 4))\n",
    "\n",
    "# Plot each bar segment individually for full control\n",
    "for i in range(len(methods)):\n",
    "    # First subcategory\n",
    "    ax.barh(y[i], size_in_memory[i], color=colors[i], label='Size in memory (GB)' if i == 0 else \"\")\n",
    "\n",
    "# Set y-axis labels and reverse order\n",
    "ax.set_yticks(y)\n",
    "ax.set_yticklabels(methods, fontsize=12)\n",
    "ax.invert_yaxis()\n",
    "\n",
    "# Labels and title\n",
    "ax.set_xlabel('Size in memory (GB)', fontsize=12)\n",
    "\n",
    "linarg_size = size_in_memory[-1]\n",
    "for i in range(len(size_in_memory)-1):  # Only for scipy and grg\n",
    "    speedup = size_in_memory[i] / linarg_size\n",
    "    ax.text(size_in_memory[i] + 0.05, y[i], f\"  {speedup:.1f}×\", va='center', fontsize=12)\n",
    "\n",
    "\n",
    "plt.gca().spines['right'].set_visible(False)\n",
    "plt.gca().spines['top'].set_visible(False)\n",
    "\n",
    "plt.tight_layout()\n",
    "plt.show()\n"
   ]
  },
  {
   "cell_type": "code",
   "execution_count": null,
   "metadata": {},
   "outputs": [],
   "source": []
  }
 ],
 "metadata": {
  "kernelspec": {
   "display_name": "py312",
   "language": "python",
   "name": "py312"
  },
  "language_info": {
   "codemirror_mode": {
    "name": "ipython",
    "version": 3
   },
   "file_extension": ".py",
   "mimetype": "text/x-python",
   "name": "python",
   "nbconvert_exporter": "python",
   "pygments_lexer": "ipython3",
   "version": "3.12.3"
  }
 },
 "nbformat": 4,
 "nbformat_minor": 2
}
