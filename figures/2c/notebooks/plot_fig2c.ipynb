{
 "cells": [
  {
   "cell_type": "code",
   "execution_count": 2,
   "metadata": {},
   "outputs": [],
   "source": [
    "import pandas as pd\n",
    "import numpy as np\n",
    "import matplotlib.pyplot as plt"
   ]
  },
  {
   "cell_type": "code",
   "execution_count": 8,
   "metadata": {},
   "outputs": [
    {
     "data": {
      "text/plain": [
       "vcf_disk_size           310.720273\n",
       "xsi_disk_size            11.128717\n",
       "grg_disk_size             9.319446\n",
       "linear_arg_disk_size      3.504000\n",
       "dtype: float64"
      ]
     },
     "execution_count": 8,
     "metadata": {},
     "output_type": "execute_result"
    }
   ],
   "source": [
    "df = pd.read_csv('/Users/ambershen/Desktop/linARG/dx_analysis/figures/2c/data/disk_size_benchmark.csv')\n",
    "disk_size = df.sum(axis=0)[1:][::-1]\n",
    "disk_size"
   ]
  },
  {
   "cell_type": "code",
   "execution_count": 12,
   "metadata": {},
   "outputs": [
    {
     "name": "stderr",
     "output_type": "stream",
     "text": [
      "/var/folders/75/tn_w8_tx70dfp53nnb6hyk6h0000gn/T/ipykernel_33081/1508275641.py:17: FutureWarning: Series.__getitem__ treating keys as positions is deprecated. In a future version, integer keys will always be treated as labels (consistent with DataFrame behavior). To access a value by position, use `ser.iloc[pos]`\n",
      "  ax.barh(y[i], disk_size[i], color=colors[i], label='Disk size (GB)' if i == 0 else \"\")\n",
      "/var/folders/75/tn_w8_tx70dfp53nnb6hyk6h0000gn/T/ipykernel_33081/1508275641.py:27: FutureWarning: Series.__getitem__ treating keys as positions is deprecated. In a future version, integer keys will always be treated as labels (consistent with DataFrame behavior). To access a value by position, use `ser.iloc[pos]`\n",
      "  linarg_size = disk_size[-1]\n",
      "/var/folders/75/tn_w8_tx70dfp53nnb6hyk6h0000gn/T/ipykernel_33081/1508275641.py:29: FutureWarning: Series.__getitem__ treating keys as positions is deprecated. In a future version, integer keys will always be treated as labels (consistent with DataFrame behavior). To access a value by position, use `ser.iloc[pos]`\n",
      "  speedup = disk_size[i] / linarg_size\n",
      "/var/folders/75/tn_w8_tx70dfp53nnb6hyk6h0000gn/T/ipykernel_33081/1508275641.py:30: FutureWarning: Series.__getitem__ treating keys as positions is deprecated. In a future version, integer keys will always be treated as labels (consistent with DataFrame behavior). To access a value by position, use `ser.iloc[pos]`\n",
      "  ax.text(disk_size[i] + 0.05, y[i], f\"  {speedup:.1f}×\", va='center', fontsize=12)\n"
     ]
    },
    {
     "data": {
      "image/png": "[encoded data removed]",
      "text/plain": [
       "<Figure size 800x400 with 1 Axes>"
      ]
     },
     "metadata": {},
     "output_type": "display_data"
    }
   ],
   "source": [
    "import matplotlib.pyplot as plt\n",
    "import matplotlib.patches as mpatches\n",
    "import numpy as np\n",
    "\n",
    "methods = ['vcf.gz', 'XSI', 'GRG', 'linear ARG']\n",
    "disk_size = df.sum(axis=0)[1:][::-1]\n",
    "\n",
    "y = np.arange(len(methods))\n",
    "\n",
    "colors = ['#E9B824', '#93c47d', '#f6b26b', '#56C1FF']\n",
    "\n",
    "fig, ax = plt.subplots(figsize=(8, 4))\n",
    "\n",
    "# Plot each bar segment individually for full control\n",
    "for i in range(len(methods)):\n",
    "    # First subcategory\n",
    "    ax.barh(y[i], disk_size[i], color=colors[i], label='Disk size (GB)' if i == 0 else \"\")\n",
    "\n",
    "# Set y-axis labels and reverse order\n",
    "ax.set_yticks(y)\n",
    "ax.set_yticklabels(methods, fontsize=12)\n",
    "ax.invert_yaxis()\n",
    "\n",
    "# Labels and title\n",
    "ax.set_xlabel('disk size (GB)', fontsize=12)\n",
    "\n",
    "linarg_size = disk_size[-1]\n",
    "for i in range(len(disk_size)-1):  # Only for scipy and grg\n",
    "    speedup = disk_size[i] / linarg_size\n",
    "    ax.text(disk_size[i] + 0.05, y[i], f\"  {speedup:.1f}×\", va='center', fontsize=12)\n",
    "\n",
    "\n",
    "plt.gca().spines['right'].set_visible(False)\n",
    "plt.gca().spines['top'].set_visible(False)\n",
    "\n",
    "plt.tight_layout()\n",
    "plt.show()\n"
   ]
  },
  {
   "cell_type": "code",
   "execution_count": null,
   "metadata": {},
   "outputs": [],
   "source": []
  }
 ],
 "metadata": {
  "kernelspec": {
   "display_name": "py312",
   "language": "python",
   "name": "py312"
  },
  "language_info": {
   "codemirror_mode": {
    "name": "ipython",
    "version": 3
   },
   "file_extension": ".py",
   "mimetype": "text/x-python",
   "name": "python",
   "nbconvert_exporter": "python",
   "pygments_lexer": "ipython3",
   "version": "3.12.3"
  }
 },
 "nbformat": 4,
 "nbformat_minor": 2
}
