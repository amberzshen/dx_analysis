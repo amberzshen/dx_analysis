{
 "cells": [
  {
   "cell_type": "code",
   "execution_count": 2,
   "metadata": {},
   "outputs": [],
   "source": [
    "import pandas as pd\n",
    "import numpy as np\n",
    "import matplotlib.pyplot as plt"
   ]
  },
  {
   "cell_type": "code",
   "execution_count": 3,
   "metadata": {},
   "outputs": [
    {
     "data": {
      "text/plain": [
       "vcf_disk_size           310.720273\n",
       "xsi_disk_size            11.128717\n",
       "grg_disk_size             9.319446\n",
       "linear_arg_disk_size      3.504000\n",
       "dtype: float64"
      ]
     },
     "execution_count": 3,
     "metadata": {},
     "output_type": "execute_result"
    }
   ],
   "source": [
    "df = pd.read_csv('/Users/ambershen/Desktop/linARG/dx_analysis/figures/2c/data/disk_size_benchmark.csv')\n",
    "disk_size = df.sum(axis=0)[1:][::-1]\n",
    "disk_size"
   ]
  },
  {
   "cell_type": "code",
   "execution_count": 4,
   "metadata": {},
   "outputs": [
    {
     "data": {
      "text/html": [
       "<div>\n",
       "<style scoped>\n",
       "    .dataframe tbody tr th:only-of-type {\n",
       "        vertical-align: middle;\n",
       "    }\n",
       "\n",
       "    .dataframe tbody tr th {\n",
       "        vertical-align: top;\n",
       "    }\n",
       "\n",
       "    .dataframe thead th {\n",
       "        text-align: right;\n",
       "    }\n",
       "</style>\n",
       "<table border=\"1\" class=\"dataframe\">\n",
       "  <thead>\n",
       "    <tr style=\"text-align: right;\">\n",
       "      <th></th>\n",
       "      <th>chr</th>\n",
       "      <th>linear_arg_disk_size</th>\n",
       "      <th>grg_disk_size</th>\n",
       "      <th>xsi_disk_size</th>\n",
       "      <th>vcf_disk_size</th>\n",
       "    </tr>\n",
       "  </thead>\n",
       "  <tbody>\n",
       "    <tr>\n",
       "      <th>0</th>\n",
       "      <td>1</td>\n",
       "      <td>1.947583</td>\n",
       "      <td>4.990419</td>\n",
       "      <td>6.212586</td>\n",
       "      <td>173.464821</td>\n",
       "    </tr>\n",
       "    <tr>\n",
       "      <th>1</th>\n",
       "      <td>11</td>\n",
       "      <td>1.192043</td>\n",
       "      <td>3.378318</td>\n",
       "      <td>3.837585</td>\n",
       "      <td>108.677902</td>\n",
       "    </tr>\n",
       "    <tr>\n",
       "      <th>2</th>\n",
       "      <td>21</td>\n",
       "      <td>0.364374</td>\n",
       "      <td>0.950710</td>\n",
       "      <td>1.078546</td>\n",
       "      <td>28.577550</td>\n",
       "    </tr>\n",
       "  </tbody>\n",
       "</table>\n",
       "</div>"
      ],
      "text/plain": [
       "   chr  linear_arg_disk_size  grg_disk_size  xsi_disk_size  vcf_disk_size\n",
       "0    1              1.947583       4.990419       6.212586     173.464821\n",
       "1   11              1.192043       3.378318       3.837585     108.677902\n",
       "2   21              0.364374       0.950710       1.078546      28.577550"
      ]
     },
     "execution_count": 4,
     "metadata": {},
     "output_type": "execute_result"
    }
   ],
   "source": [
    "df"
   ]
  },
  {
   "cell_type": "code",
   "execution_count": 9,
   "metadata": {},
   "outputs": [
    {
     "name": "stderr",
     "output_type": "stream",
     "text": [
      "/var/folders/75/tn_w8_tx70dfp53nnb6hyk6h0000gn/T/ipykernel_93400/650487807.py:24: FutureWarning: Series.__getitem__ treating keys as positions is deprecated. In a future version, integer keys will always be treated as labels (consistent with DataFrame behavior). To access a value by position, use `ser.iloc[pos]`\n",
      "  ax.barh(y[i], disk_size[i], color=colors[i], label='Disk size (GB)' if i == 0 else \"\")\n",
      "/var/folders/75/tn_w8_tx70dfp53nnb6hyk6h0000gn/T/ipykernel_93400/650487807.py:34: FutureWarning: Series.__getitem__ treating keys as positions is deprecated. In a future version, integer keys will always be treated as labels (consistent with DataFrame behavior). To access a value by position, use `ser.iloc[pos]`\n",
      "  linarg_size = disk_size[-1]\n",
      "/var/folders/75/tn_w8_tx70dfp53nnb6hyk6h0000gn/T/ipykernel_93400/650487807.py:36: FutureWarning: Series.__getitem__ treating keys as positions is deprecated. In a future version, integer keys will always be treated as labels (consistent with DataFrame behavior). To access a value by position, use `ser.iloc[pos]`\n",
      "  speedup = disk_size[i] / linarg_size\n",
      "/var/folders/75/tn_w8_tx70dfp53nnb6hyk6h0000gn/T/ipykernel_93400/650487807.py:37: FutureWarning: Series.__getitem__ treating keys as positions is deprecated. In a future version, integer keys will always be treated as labels (consistent with DataFrame behavior). To access a value by position, use `ser.iloc[pos]`\n",
      "  ax.text(disk_size[i] + 0.05, y[i], f\"  {speedup:.1f}×\", va='center', fontsize=16)\n"
     ]
    },
    {
     "data": {
      "image/png": "[encoded data removed]",
      "text/plain": [
       "<Figure size 800x400 with 1 Axes>"
      ]
     },
     "metadata": {},
     "output_type": "display_data"
    }
   ],
   "source": [
    "import matplotlib.pyplot as plt\n",
    "import matplotlib.patches as mpatches\n",
    "import numpy as np\n",
    "\n",
    "plt.rcParams['font.family'] = 'Arial'\n",
    "\n",
    "\n",
    "methods = ['vcf.gz', 'XSI', 'GRG', 'Linear ARG']\n",
    "disk_size = df.sum(axis=0)[1:][::-1]\n",
    "\n",
    "y = np.arange(len(methods))\n",
    "\n",
    "colors = ['#93c47d', '#E9B824', '#f6b26b', '#56C1FF']\n",
    "colors = ['#93c47d', '#758acfff', '#f6b26b', '#56C1FF']\n",
    "\n",
    "\n",
    "# '#758acfff'\n",
    "\n",
    "fig, ax = plt.subplots(figsize=(8, 4))\n",
    "\n",
    "# Plot each bar segment individually for full control\n",
    "for i in range(len(methods)):\n",
    "    # First subcategory\n",
    "    ax.barh(y[i], disk_size[i], color=colors[i], label='Disk size (GB)' if i == 0 else \"\")\n",
    "\n",
    "# Set y-axis labels and reverse order\n",
    "ax.set_yticks(y)\n",
    "ax.set_yticklabels(methods, fontsize=16)\n",
    "ax.invert_yaxis()\n",
    "\n",
    "# Labels and title\n",
    "ax.set_xlabel('Disk size (GB)', fontsize=16)\n",
    "\n",
    "linarg_size = disk_size[-1]\n",
    "for i in range(len(disk_size)-1):  # Only for scipy and grg\n",
    "    speedup = disk_size[i] / linarg_size\n",
    "    ax.text(disk_size[i] + 0.05, y[i], f\"  {speedup:.1f}×\", va='center', fontsize=16)\n",
    "\n",
    "\n",
    "plt.gca().spines['right'].set_visible(False)\n",
    "plt.gca().spines['top'].set_visible(False)\n",
    "\n",
    "plt.tick_params(labelsize=16)\n",
    "\n",
    "plt.tight_layout()\n",
    "plt.show()\n"
   ]
  },
  {
   "cell_type": "code",
   "execution_count": null,
   "metadata": {},
   "outputs": [],
   "source": []
  }
 ],
 "metadata": {
  "kernelspec": {
   "display_name": "py312",
   "language": "python",
   "name": "py312"
  },
  "language_info": {
   "codemirror_mode": {
    "name": "ipython",
    "version": 3
   },
   "file_extension": ".py",
   "mimetype": "text/x-python",
   "name": "python",
   "nbconvert_exporter": "python",
   "pygments_lexer": "ipython3",
   "version": "3.12.3"
  }
 },
 "nbformat": 4,
 "nbformat_minor": 2
}
