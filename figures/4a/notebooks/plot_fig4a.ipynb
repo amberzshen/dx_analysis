{
 "cells": [
  {
   "cell_type": "code",
   "execution_count": 1,
   "metadata": {},
   "outputs": [],
   "source": [
    "import pandas as pd\n",
    "import numpy as np\n",
    "import matplotlib.pyplot as plt"
   ]
  },
  {
   "cell_type": "code",
   "execution_count": 4,
   "metadata": {},
   "outputs": [],
   "source": [
    "res = pd.DataFrame(columns=['chr', 'method', 'load_time', 'load_peak_memory', 'dot_product_time', 'dot_product_peak_memory'])\n",
    "\n",
    "df = pd.read_csv('/Users/ambershen/Desktop/linARG/dx_analysis/figures/4a/data/tmp_dot_product_time_all.csv')\n",
    "\n",
    "for method in ['grg', 'linarg', 'genotypes']:\n",
    "    for chrom in [1, 11, 21]:        \n",
    "        df_filt = df[(df.chr==chrom) & (df['method'].str.startswith(method))]\n",
    "        \n",
    "        load_time = np.sum(df_filt['load_time (s)'])\n",
    "        load_peak_memory = np.sum(df_filt['load_memory (MB)'])\n",
    "        dot_product_time = np.sum(df_filt['dot_product_time (s)'])\n",
    "        dot_product_peak_memory = np.sum(df_filt['dot_product_memory (MB)'])\n",
    "        \n",
    "        res.loc[res.shape[0]] = [chrom, method, load_time, load_peak_memory, dot_product_time, dot_product_peak_memory]"
   ]
  },
  {
   "cell_type": "code",
   "execution_count": 5,
   "metadata": {},
   "outputs": [
    {
     "data": {
      "text/html": [
       "<div>\n",
       "<style scoped>\n",
       "    .dataframe tbody tr th:only-of-type {\n",
       "        vertical-align: middle;\n",
       "    }\n",
       "\n",
       "    .dataframe tbody tr th {\n",
       "        vertical-align: top;\n",
       "    }\n",
       "\n",
       "    .dataframe thead th {\n",
       "        text-align: right;\n",
       "    }\n",
       "</style>\n",
       "<table border=\"1\" class=\"dataframe\">\n",
       "  <thead>\n",
       "    <tr style=\"text-align: right;\">\n",
       "      <th></th>\n",
       "      <th>chr</th>\n",
       "      <th>method</th>\n",
       "      <th>load_time</th>\n",
       "      <th>load_peak_memory</th>\n",
       "      <th>dot_product_time</th>\n",
       "      <th>dot_product_peak_memory</th>\n",
       "    </tr>\n",
       "  </thead>\n",
       "  <tbody>\n",
       "    <tr>\n",
       "      <th>0</th>\n",
       "      <td>1</td>\n",
       "      <td>grg</td>\n",
       "      <td>233.669696</td>\n",
       "      <td>35081.987500</td>\n",
       "      <td>17.056883</td>\n",
       "      <td>2.149899e+04</td>\n",
       "    </tr>\n",
       "    <tr>\n",
       "      <th>1</th>\n",
       "      <td>11</td>\n",
       "      <td>grg</td>\n",
       "      <td>160.091072</td>\n",
       "      <td>25564.803516</td>\n",
       "      <td>10.758467</td>\n",
       "      <td>1.522511e+04</td>\n",
       "    </tr>\n",
       "    <tr>\n",
       "      <th>2</th>\n",
       "      <td>21</td>\n",
       "      <td>grg</td>\n",
       "      <td>40.531252</td>\n",
       "      <td>7523.349609</td>\n",
       "      <td>3.186418</td>\n",
       "      <td>4.532375e+03</td>\n",
       "    </tr>\n",
       "    <tr>\n",
       "      <th>3</th>\n",
       "      <td>1</td>\n",
       "      <td>linarg</td>\n",
       "      <td>37.883671</td>\n",
       "      <td>23714.703906</td>\n",
       "      <td>6.366982</td>\n",
       "      <td>2.090814e+04</td>\n",
       "    </tr>\n",
       "    <tr>\n",
       "      <th>4</th>\n",
       "      <td>11</td>\n",
       "      <td>linarg</td>\n",
       "      <td>22.299925</td>\n",
       "      <td>14149.546875</td>\n",
       "      <td>3.432288</td>\n",
       "      <td>1.242435e+04</td>\n",
       "    </tr>\n",
       "    <tr>\n",
       "      <th>5</th>\n",
       "      <td>21</td>\n",
       "      <td>linarg</td>\n",
       "      <td>6.928738</td>\n",
       "      <td>4347.868750</td>\n",
       "      <td>0.998868</td>\n",
       "      <td>3.782043e+03</td>\n",
       "    </tr>\n",
       "    <tr>\n",
       "      <th>6</th>\n",
       "      <td>1</td>\n",
       "      <td>genotypes</td>\n",
       "      <td>1151.191025</td>\n",
       "      <td>925060.016016</td>\n",
       "      <td>252.991659</td>\n",
       "      <td>1.084373e+06</td>\n",
       "    </tr>\n",
       "    <tr>\n",
       "      <th>7</th>\n",
       "      <td>11</td>\n",
       "      <td>genotypes</td>\n",
       "      <td>733.206870</td>\n",
       "      <td>593102.444141</td>\n",
       "      <td>163.753553</td>\n",
       "      <td>6.960093e+05</td>\n",
       "    </tr>\n",
       "    <tr>\n",
       "      <th>8</th>\n",
       "      <td>21</td>\n",
       "      <td>genotypes</td>\n",
       "      <td>204.927594</td>\n",
       "      <td>165452.731641</td>\n",
       "      <td>46.066399</td>\n",
       "      <td>1.943936e+05</td>\n",
       "    </tr>\n",
       "  </tbody>\n",
       "</table>\n",
       "</div>"
      ],
      "text/plain": [
       "   chr     method    load_time  load_peak_memory  dot_product_time  \\\n",
       "0    1        grg   233.669696      35081.987500         17.056883   \n",
       "1   11        grg   160.091072      25564.803516         10.758467   \n",
       "2   21        grg    40.531252       7523.349609          3.186418   \n",
       "3    1     linarg    37.883671      23714.703906          6.366982   \n",
       "4   11     linarg    22.299925      14149.546875          3.432288   \n",
       "5   21     linarg     6.928738       4347.868750          0.998868   \n",
       "6    1  genotypes  1151.191025     925060.016016        252.991659   \n",
       "7   11  genotypes   733.206870     593102.444141        163.753553   \n",
       "8   21  genotypes   204.927594     165452.731641         46.066399   \n",
       "\n",
       "   dot_product_peak_memory  \n",
       "0             2.149899e+04  \n",
       "1             1.522511e+04  \n",
       "2             4.532375e+03  \n",
       "3             2.090814e+04  \n",
       "4             1.242435e+04  \n",
       "5             3.782043e+03  \n",
       "6             1.084373e+06  \n",
       "7             6.960093e+05  \n",
       "8             1.943936e+05  "
      ]
     },
     "execution_count": 5,
     "metadata": {},
     "output_type": "execute_result"
    }
   ],
   "source": [
    "res"
   ]
  },
  {
   "cell_type": "code",
   "execution_count": 6,
   "metadata": {},
   "outputs": [
    {
     "name": "stdout",
     "output_type": "stream",
     "text": [
      "1\n",
      "grg lt ratio: 6.168084854033242\n",
      "scipy lt ratio: 30.387525838312026\n",
      "grg dpt ratio: 2.678958732474302\n",
      "scipy dpt ratio: 39.7349396428581\n",
      "grg total ratio: 5.6660537470443835\n",
      "scipy total ratio: 31.732473637929687\n",
      "11\n",
      "grg lt ratio: 7.178995952492574\n",
      "scipy lt ratio: 32.87934223080011\n",
      "grg dpt ratio: 3.1344888342518105\n",
      "scipy dpt ratio: 47.70974045758829\n",
      "grg total ratio: 6.639519930179266\n",
      "scipy total ratio: 34.85749284614383\n",
      "21\n",
      "grg lt ratio: 5.84973098147365\n",
      "scipy lt ratio: 29.576468098996145\n",
      "grg dpt ratio: 3.1900285387973457\n",
      "scipy dpt ratio: 46.118596896836536\n",
      "grg total ratio: 5.514611891197347\n",
      "scipy total ratio: 31.66075507223647\n"
     ]
    }
   ],
   "source": [
    "for chrom in [1, 11, 21]:\n",
    "    res_filt = res[res.chr==chrom]\n",
    "    grg_lt = np.sum(res_filt[res_filt.method=='grg'].load_time)\n",
    "    linarg_lt = np.sum(res_filt[res_filt.method=='linarg'].load_time)\n",
    "    grg_dpt = np.sum(res_filt[res_filt.method=='grg'].dot_product_time)\n",
    "    linarg_dpt = np.sum(res_filt[res_filt.method=='linarg'].dot_product_time)\n",
    "    scipy_lt = np.sum(res_filt[res_filt.method=='genotypes'].load_time)\n",
    "    scipy_dpt = np.sum(res_filt[res_filt.method=='genotypes'].dot_product_time)\n",
    "    \n",
    "    print(chrom)\n",
    "    print(f'grg lt ratio: {grg_lt / linarg_lt}')\n",
    "    print(f'scipy lt ratio: {scipy_lt / linarg_lt}')\n",
    "    \n",
    "    print(f'grg dpt ratio: {grg_dpt / linarg_dpt}')\n",
    "    print(f'scipy dpt ratio: {scipy_dpt / linarg_dpt}')\n",
    "    \n",
    "    print(f'grg total ratio: {(grg_lt+grg_dpt) / (linarg_lt+linarg_dpt)}')\n",
    "    print(f'scipy total ratio: {(scipy_lt+scipy_dpt) / (linarg_lt+linarg_dpt)}')\n",
    "    "
   ]
  },
  {
   "cell_type": "code",
   "execution_count": 7,
   "metadata": {},
   "outputs": [
    {
     "data": {
      "text/html": [
       "<div>\n",
       "<style scoped>\n",
       "    .dataframe tbody tr th:only-of-type {\n",
       "        vertical-align: middle;\n",
       "    }\n",
       "\n",
       "    .dataframe tbody tr th {\n",
       "        vertical-align: top;\n",
       "    }\n",
       "\n",
       "    .dataframe thead th {\n",
       "        text-align: right;\n",
       "    }\n",
       "</style>\n",
       "<table border=\"1\" class=\"dataframe\">\n",
       "  <thead>\n",
       "    <tr style=\"text-align: right;\">\n",
       "      <th></th>\n",
       "      <th>method</th>\n",
       "      <th>load_time</th>\n",
       "      <th>load_peak_memory</th>\n",
       "      <th>dot_product_time</th>\n",
       "      <th>dot_product_peak_memory</th>\n",
       "    </tr>\n",
       "  </thead>\n",
       "  <tbody>\n",
       "    <tr>\n",
       "      <th>0</th>\n",
       "      <td>genotypes</td>\n",
       "      <td>2089.325489</td>\n",
       "      <td>1.683615e+06</td>\n",
       "      <td>462.811610</td>\n",
       "      <td>1.974776e+06</td>\n",
       "    </tr>\n",
       "    <tr>\n",
       "      <th>1</th>\n",
       "      <td>grg</td>\n",
       "      <td>434.292021</td>\n",
       "      <td>6.817014e+04</td>\n",
       "      <td>31.001768</td>\n",
       "      <td>4.125647e+04</td>\n",
       "    </tr>\n",
       "    <tr>\n",
       "      <th>2</th>\n",
       "      <td>linarg</td>\n",
       "      <td>67.112334</td>\n",
       "      <td>4.221212e+04</td>\n",
       "      <td>10.798138</td>\n",
       "      <td>3.711453e+04</td>\n",
       "    </tr>\n",
       "  </tbody>\n",
       "</table>\n",
       "</div>"
      ],
      "text/plain": [
       "      method    load_time  load_peak_memory  dot_product_time  \\\n",
       "0  genotypes  2089.325489      1.683615e+06        462.811610   \n",
       "1        grg   434.292021      6.817014e+04         31.001768   \n",
       "2     linarg    67.112334      4.221212e+04         10.798138   \n",
       "\n",
       "   dot_product_peak_memory  \n",
       "0             1.974776e+06  \n",
       "1             4.125647e+04  \n",
       "2             3.711453e+04  "
      ]
     },
     "execution_count": 7,
     "metadata": {},
     "output_type": "execute_result"
    }
   ],
   "source": [
    "res_clean = pd.DataFrame(columns=['method', 'load_time', 'load_peak_memory', 'dot_product_time', 'dot_product_peak_memory'])\n",
    "\n",
    "for method in ['genotypes', 'grg', 'linarg']:    \n",
    "    res_clean.loc[res_clean.shape[0]] = [method] + list(res[res.method==method][['load_time', 'load_peak_memory', 'dot_product_time', 'dot_product_peak_memory']].sum(axis=0))\n",
    "\n",
    "res_clean"
   ]
  },
  {
   "cell_type": "code",
   "execution_count": 9,
   "metadata": {},
   "outputs": [
    {
     "data": {
      "text/plain": [
       "{'xsi': 1835.714, 'plink2': 276.09999999999997}"
      ]
     },
     "execution_count": 9,
     "metadata": {},
     "output_type": "execute_result"
    }
   ],
   "source": [
    "methods = ['xsi', 'plink2']\n",
    "times = {x: 0 for x in methods}\n",
    "for method in methods:\n",
    "    for chrom in [1, 11, 21]:\n",
    "        df = pd.read_csv(f'/Users/ambershen/Desktop/linARG/dx_analysis/figures/4a/data/dot_product_{method}_chr{chrom}.csv')\n",
    "        times[method] += np.mean(df.wall_time_seconds)\n",
    "times"
   ]
  },
  {
   "cell_type": "code",
   "execution_count": 15,
   "metadata": {},
   "outputs": [
    {
     "name": "stdout",
     "output_type": "stream",
     "text": [
      "scipy\n",
      "xsi\n",
      "grg\n",
      "plink2\n",
      "linarg\n"
     ]
    },
    {
     "data": {
      "image/png": "[encoded data removed]",
      "text/plain": [
       "<Figure size 1000x500 with 1 Axes>"
      ]
     },
     "metadata": {},
     "output_type": "display_data"
    }
   ],
   "source": [
    "import matplotlib.pyplot as plt\n",
    "import matplotlib.patches as mpatches\n",
    "import numpy as np\n",
    "\n",
    "methods = ['scipy', 'xsi', 'grg', 'plink2', 'linarg']\n",
    "\n",
    "load_methods = ['scipy', 'grg', 'linarg']\n",
    "load_time = {x: y for x,y in zip(load_methods, res_clean.load_time)}\n",
    "dot_product_time = {x: y for x,y in zip(load_methods, res_clean.dot_product_time)}\n",
    "\n",
    "y = np.arange(len(methods))\n",
    "\n",
    "colors = ['#93c47d', '#f6b26b', '#56C1FF', '#E9B824', '#758acfff']\n",
    "\n",
    "hatches = ['///', ''] \n",
    "\n",
    "fig, ax = plt.subplots(figsize=(10, 5))\n",
    "\n",
    "# Plot each bar segment individually for full control\n",
    "for i in range(len(methods)):\n",
    "    print(methods[i])\n",
    "    \n",
    "    if methods[i] in load_methods:\n",
    "        # First subcategory\n",
    "        ax.barh(y[i], load_time[methods[i]], color=colors[i], hatch=hatches[0], edgecolor='black', label='Load Time' if i == 0 else \"\")\n",
    "        \n",
    "        # Second subcategory stacked on top\n",
    "        ax.barh(y[i], dot_product_time[methods[i]], \n",
    "                left=load_time[methods[i]], \n",
    "                color=colors[i], \n",
    "                hatch=hatches[1], \n",
    "                edgecolor='black', \n",
    "                label='Dot Product Time' if i == 0 else \"\")\n",
    "    else:\n",
    "            ax.barh(y[i], times[methods[i]], \n",
    "            color=colors[i], \n",
    "            hatch='', \n",
    "            edgecolor='black', \n",
    "            label='Total time' if i == 0 else \"\")\n",
    "        \n",
    "\n",
    "# Set y-axis labels and reverse order\n",
    "ax.set_yticks(y)\n",
    "ax.set_yticklabels(['SciPy', 'XSI', 'GRG', 'Plink2', 'Linear ARG'], fontsize=12)\n",
    "ax.invert_yaxis()\n",
    "\n",
    "# Labels and title\n",
    "ax.set_xlabel('Time to compute dot product (s)', fontsize=12)\n",
    "\n",
    "load_method_total_times = np.array(list(load_time.values())) + np.array(list(dot_product_time.values()))\n",
    "other_method_total_times = np.array(list(times.values()))\n",
    "all_times = sorted(np.concatenate((load_method_total_times, other_method_total_times)), reverse=True)\n",
    "\n",
    "linarg_time = all_times[-1]\n",
    "for i in range(len(all_times)-1):  # Only for scipy and grg\n",
    "    speedup = all_times[i] / linarg_time\n",
    "    ax.text(all_times[i] + 0.05, y[i], f\"  {speedup:.1f}×\", va='center', fontsize=12)\n",
    "\n",
    "legend_handles = [\n",
    "    mpatches.Patch(facecolor='white', edgecolor='black', hatch=hatches[0], label='Load Time'),\n",
    "]\n",
    "ax.legend(handles=legend_handles, fontsize=12, loc='lower right')\n",
    "\n",
    "plt.gca().spines['right'].set_visible(False)\n",
    "plt.gca().spines['top'].set_visible(False)\n",
    "\n",
    "plt.tight_layout()\n",
    "plt.show()\n"
   ]
  },
  {
   "cell_type": "code",
   "execution_count": null,
   "metadata": {},
   "outputs": [],
   "source": [
    "load_method_total_times = np.array(list(load_time.values())) + np.array(list(dot_product_time.values()))\n",
    "other_method_total_times = np.array(list(times.values()))\n",
    "all_times = np.sort(np.concatenate((load_method_total_times, other_method_total_times)), reverse=True)"
   ]
  },
  {
   "cell_type": "code",
   "execution_count": 32,
   "metadata": {},
   "outputs": [
    {
     "data": {
      "text/plain": [
       "array([   77.91047192,   465.29378893,  1835.714     ,  2552.13709892,\n",
       "       12667.        ])"
      ]
     },
     "execution_count": 32,
     "metadata": {},
     "output_type": "execute_result"
    }
   ],
   "source": [
    "all_times"
   ]
  },
  {
   "cell_type": "code",
   "execution_count": null,
   "metadata": {},
   "outputs": [],
   "source": []
  }
 ],
 "metadata": {
  "kernelspec": {
   "display_name": "py312",
   "language": "python",
   "name": "py312"
  },
  "language_info": {
   "codemirror_mode": {
    "name": "ipython",
    "version": 3
   },
   "file_extension": ".py",
   "mimetype": "text/x-python",
   "name": "python",
   "nbconvert_exporter": "python",
   "pygments_lexer": "ipython3",
   "version": "3.12.3"
  }
 },
 "nbformat": 4,
 "nbformat_minor": 2
}
