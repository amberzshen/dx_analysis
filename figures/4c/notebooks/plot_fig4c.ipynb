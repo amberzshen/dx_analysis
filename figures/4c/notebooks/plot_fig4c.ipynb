{
 "cells": [
  {
   "cell_type": "code",
   "execution_count": 1,
   "metadata": {},
   "outputs": [],
   "source": [
    "import pandas as pd\n",
    "import numpy as np\n",
    "import matplotlib.pyplot as plt"
   ]
  },
  {
   "cell_type": "code",
   "execution_count": 2,
   "metadata": {},
   "outputs": [
    {
     "name": "stderr",
     "output_type": "stream",
     "text": [
      "/var/folders/75/tn_w8_tx70dfp53nnb6hyk6h0000gn/T/ipykernel_50620/4219164320.py:7: FutureWarning: Calling float on a single element Series is deprecated and will raise a TypeError in the future. Use float(ser.iloc[0]) instead\n",
      "  times[method] += float(df.wall_time_seconds)\n",
      "/var/folders/75/tn_w8_tx70dfp53nnb6hyk6h0000gn/T/ipykernel_50620/4219164320.py:7: FutureWarning: Calling float on a single element Series is deprecated and will raise a TypeError in the future. Use float(ser.iloc[0]) instead\n",
      "  times[method] += float(df.wall_time_seconds)\n",
      "/var/folders/75/tn_w8_tx70dfp53nnb6hyk6h0000gn/T/ipykernel_50620/4219164320.py:7: FutureWarning: Calling float on a single element Series is deprecated and will raise a TypeError in the future. Use float(ser.iloc[0]) instead\n",
      "  times[method] += float(df.wall_time_seconds)\n"
     ]
    },
    {
     "data": {
      "text/plain": [
       "{'plink': 5294.34, 'linarg': 911.9029266599999, 'linargHWE': 523.3065684409964}"
      ]
     },
     "execution_count": 2,
     "metadata": {},
     "output_type": "execute_result"
    }
   ],
   "source": [
    "methods = ['plink', 'linarg', 'linargHWE']\n",
    "times = {x: 0 for x in methods}\n",
    "\n",
    "method = 'plink'\n",
    "for chrom in [1, 11, 21]:\n",
    "    df = pd.read_csv(f'/Users/ambershen/Desktop/linARG/dx_analysis/figures/4c/data/gwas_{method}_chr{chrom}.csv')\n",
    "    times[method] += float(df.wall_time_seconds)\n",
    "\n",
    "method = 'linarg'\n",
    "for chrom in [1, 11, 21]:\n",
    "    df = pd.read_csv(f'/Users/ambershen/Desktop/linARG/dx_analysis/figures/4c/data/gwas_{method}_chr{chrom}.csv')\n",
    "    times[method] += np.sum(df.load_time) + np.sum(df.gwas_time)\n",
    "    \n",
    "    \n",
    "method = 'linargHWE'\n",
    "for chrom in [1, 11, 21]:\n",
    "    df = pd.read_csv(f'/Users/ambershen/Desktop/linARG/dx_analysis/figures/4c/data/gwas_{method}_chr{chrom}.csv')\n",
    "    times[method] += np.sum(df.load_time) + np.sum(df.gwas_time)\n",
    "    \n",
    "times"
   ]
  },
  {
   "cell_type": "code",
   "execution_count": 3,
   "metadata": {},
   "outputs": [
    {
     "data": {
      "text/html": [
       "<div>\n",
       "<style scoped>\n",
       "    .dataframe tbody tr th:only-of-type {\n",
       "        vertical-align: middle;\n",
       "    }\n",
       "\n",
       "    .dataframe tbody tr th {\n",
       "        vertical-align: top;\n",
       "    }\n",
       "\n",
       "    .dataframe thead th {\n",
       "        text-align: right;\n",
       "    }\n",
       "</style>\n",
       "<table border=\"1\" class=\"dataframe\">\n",
       "  <thead>\n",
       "    <tr style=\"text-align: right;\">\n",
       "      <th></th>\n",
       "      <th>chr</th>\n",
       "      <th>partition</th>\n",
       "      <th>load_time</th>\n",
       "      <th>load_memory</th>\n",
       "      <th>gwas_time</th>\n",
       "      <th>gwas_memory</th>\n",
       "    </tr>\n",
       "  </thead>\n",
       "  <tbody>\n",
       "    <tr>\n",
       "      <th>0</th>\n",
       "      <td>21</td>\n",
       "      <td>0_chr21-5030618-25863389</td>\n",
       "      <td>7.256518</td>\n",
       "      <td>1459.421875</td>\n",
       "      <td>15.772756</td>\n",
       "      <td>5780.199219</td>\n",
       "    </tr>\n",
       "    <tr>\n",
       "      <th>1</th>\n",
       "      <td>21</td>\n",
       "      <td>1_chr21-25863390-46696162</td>\n",
       "      <td>8.814951</td>\n",
       "      <td>1944.843750</td>\n",
       "      <td>20.105162</td>\n",
       "      <td>7861.609375</td>\n",
       "    </tr>\n",
       "  </tbody>\n",
       "</table>\n",
       "</div>"
      ],
      "text/plain": [
       "   chr                  partition  load_time  load_memory  gwas_time  \\\n",
       "0   21   0_chr21-5030618-25863389   7.256518  1459.421875  15.772756   \n",
       "1   21  1_chr21-25863390-46696162   8.814951  1944.843750  20.105162   \n",
       "\n",
       "   gwas_memory  \n",
       "0  5780.199219  \n",
       "1  7861.609375  "
      ]
     },
     "execution_count": 3,
     "metadata": {},
     "output_type": "execute_result"
    }
   ],
   "source": [
    "df"
   ]
  },
  {
   "cell_type": "code",
   "execution_count": 4,
   "metadata": {},
   "outputs": [
    {
     "name": "stdout",
     "output_type": "stream",
     "text": [
      "316.4657304329999\n"
     ]
    },
    {
     "data": {
      "text/html": [
       "<div>\n",
       "<style scoped>\n",
       "    .dataframe tbody tr th:only-of-type {\n",
       "        vertical-align: middle;\n",
       "    }\n",
       "\n",
       "    .dataframe tbody tr th {\n",
       "        vertical-align: top;\n",
       "    }\n",
       "\n",
       "    .dataframe thead th {\n",
       "        text-align: right;\n",
       "    }\n",
       "</style>\n",
       "<table border=\"1\" class=\"dataframe\">\n",
       "  <thead>\n",
       "    <tr style=\"text-align: right;\">\n",
       "      <th></th>\n",
       "      <th>run</th>\n",
       "      <th>wall_time_seconds</th>\n",
       "      <th>peak_memory_MB</th>\n",
       "    </tr>\n",
       "  </thead>\n",
       "  <tbody>\n",
       "    <tr>\n",
       "      <th>0</th>\n",
       "      <td>1</td>\n",
       "      <td>1858.78</td>\n",
       "      <td>3538.75</td>\n",
       "    </tr>\n",
       "  </tbody>\n",
       "</table>\n",
       "</div>"
      ],
      "text/plain": [
       "   run  wall_time_seconds  peak_memory_MB\n",
       "0    1            1858.78         3538.75"
      ]
     },
     "execution_count": 4,
     "metadata": {},
     "output_type": "execute_result"
    }
   ],
   "source": [
    "chrom=11\n",
    "\n",
    "method = 'linarg'\n",
    "df = pd.read_csv(f'/Users/ambershen/Desktop/linARG/dx_analysis/figures/4c/data/gwas_{method}_chr{chrom}.csv')\n",
    "print(np.sum(df.load_time) + np.sum(df.gwas_time))\n",
    "\n",
    "method = 'plink'\n",
    "df = pd.read_csv(f'/Users/ambershen/Desktop/linARG/dx_analysis/figures/4c/data/gwas_{method}_chr{chrom}.csv')\n",
    "df"
   ]
  },
  {
   "cell_type": "code",
   "execution_count": 5,
   "metadata": {},
   "outputs": [],
   "source": [
    "df = pd.read_csv(f'/Users/ambershen/Desktop/linARG/dx_analysis/figures/4c/data/gwas_{method}_chr{chrom}.csv')"
   ]
  },
  {
   "cell_type": "code",
   "execution_count": 6,
   "metadata": {},
   "outputs": [
    {
     "name": "stdout",
     "output_type": "stream",
     "text": [
      "linarg\n",
      "load_time: 46.22880134916666\n",
      "gwas_time: 92.56320685233331\n",
      "linargHWE\n",
      "load_time: 23.613643606665285\n",
      "gwas_time: 56.7367966054162\n"
     ]
    }
   ],
   "source": [
    "methods = ['linarg', 'linargHWE']\n",
    "\n",
    "for method in methods:\n",
    "    print(method)\n",
    "    load_time = 0\n",
    "    gwas_time = 0\n",
    "    for chrom in [1, 11, 21]:\n",
    "        df = pd.read_csv(f'/Users/ambershen/Desktop/linARG/dx_analysis/figures/4c/data/gwas_{method}_chr{chrom}.csv')\n",
    "        load_time += np.mean(df.load_time)\n",
    "        gwas_time += np.mean(df.gwas_time)\n",
    "    print(f'load_time: {load_time}')\n",
    "    print(f'gwas_time: {gwas_time}')"
   ]
  },
  {
   "cell_type": "code",
   "execution_count": 7,
   "metadata": {},
   "outputs": [
    {
     "data": {
      "image/png": "[encoded data removed]",
      "text/plain": [
       "<Figure size 1200x300 with 1 Axes>"
      ]
     },
     "metadata": {},
     "output_type": "display_data"
    }
   ],
   "source": [
    "colors = ['#E9B824', '#758acfff', '#93c47d']\n",
    "\n",
    "methods = ['plink', 'linarg', 'linargHWE']\n",
    "y = np.arange(len(methods))\n",
    "\n",
    "fig, ax = plt.subplots(figsize=(12, 3))\n",
    "\n",
    "\n",
    "for i in range(len(methods)):\n",
    "        ax.barh(y[i], times[methods[i]], \n",
    "            color=colors[i], \n",
    "            hatch='', \n",
    "            edgecolor='black', \n",
    "            label='Total time' if i == 0 else \"\")\n",
    "\n",
    "\n",
    "# Set y-axis labels and reverse order\n",
    "ax.set_yticks(y)\n",
    "ax.set_yticklabels(['Plink2', 'Linear ARG', 'Linear ARG HWE'], fontsize=12)\n",
    "ax.invert_yaxis()\n",
    "\n",
    "# Labels and title\n",
    "ax.set_xlabel('Time to compute GWAS on a single trait (s)', fontsize=12)\n",
    "\n",
    "all_times = [times[m] for m in methods]\n",
    "linarg_time = all_times[-1]\n",
    "for i in range(len(all_times)-1):  # Only for scipy and grg\n",
    "    speedup = all_times[i] / linarg_time\n",
    "    ax.text(all_times[i] + 0.05, y[i], f\"  {speedup:.1f}×\", va='center', fontsize=12)\n",
    "\n",
    "plt.gca().spines['right'].set_visible(False)\n",
    "plt.gca().spines['top'].set_visible(False)\n",
    "\n",
    "plt.tight_layout()\n",
    "plt.show()"
   ]
  },
  {
   "cell_type": "code",
   "execution_count": 8,
   "metadata": {},
   "outputs": [
    {
     "data": {
      "image/png": "[encoded data removed]",
      "text/plain": [
       "<Figure size 1200x300 with 1 Axes>"
      ]
     },
     "metadata": {},
     "output_type": "display_data"
    }
   ],
   "source": [
    "colors = ['#E9B824', '#758acfff']\n",
    "\n",
    "methods = ['plink', 'linarg']\n",
    "y = np.arange(len(methods))\n",
    "\n",
    "fig, ax = plt.subplots(figsize=(12, 3))\n",
    "\n",
    "\n",
    "for i in range(len(methods)):\n",
    "        ax.barh(y[i], times[methods[i]], \n",
    "            color=colors[i], \n",
    "            hatch='', \n",
    "            edgecolor='black', \n",
    "            label='Total time' if i == 0 else \"\")\n",
    "\n",
    "\n",
    "# Set y-axis labels and reverse order\n",
    "ax.set_yticks(y)\n",
    "ax.set_yticklabels(['Plink2', 'Linear ARG'], fontsize=12)\n",
    "ax.invert_yaxis()\n",
    "\n",
    "# Labels and title\n",
    "ax.set_xlabel('Time to compute GWAS on a single trait (s)', fontsize=12)\n",
    "\n",
    "all_times = [times[m] for m in methods]\n",
    "linarg_time = all_times[-1]\n",
    "for i in range(len(all_times)-1):  # Only for scipy and grg\n",
    "    speedup = all_times[i] / linarg_time\n",
    "    ax.text(all_times[i] + 0.05, y[i], f\"  {speedup:.1f}×\", va='center', fontsize=12)\n",
    "\n",
    "plt.gca().spines['right'].set_visible(False)\n",
    "plt.gca().spines['top'].set_visible(False)\n",
    "\n",
    "plt.tight_layout()\n",
    "plt.show()"
   ]
  },
  {
   "cell_type": "code",
   "execution_count": null,
   "metadata": {},
   "outputs": [],
   "source": []
  }
 ],
 "metadata": {
  "kernelspec": {
   "display_name": "py312",
   "language": "python",
   "name": "py312"
  },
  "language_info": {
   "codemirror_mode": {
    "name": "ipython",
    "version": 3
   },
   "file_extension": ".py",
   "mimetype": "text/x-python",
   "name": "python",
   "nbconvert_exporter": "python",
   "pygments_lexer": "ipython3",
   "version": "3.12.3"
  }
 },
 "nbformat": 4,
 "nbformat_minor": 2
}
