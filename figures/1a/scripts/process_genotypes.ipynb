{
 "cells": [
  {
   "cell_type": "code",
   "execution_count": 1,
   "metadata": {},
   "outputs": [],
   "source": [
    "import numpy as np\n",
    "import h5py\n",
    "import scipy.sparse as sp"
   ]
  },
  {
   "cell_type": "code",
   "execution_count": 2,
   "metadata": {},
   "outputs": [],
   "source": [
    "def make_tree(genotypes):\n",
    "    # iterate through variants like brick graph algorithm\n",
    "    pass\n",
    "\n",
    "def consolidate_haplotypes(genotypes, interval):\n",
    "    genotypes_interval = genotypes[:, interval[0]:interval[1]+1] # inclusive\n",
    "    unique_haplotypes, haplotype_counts = np.unique(genotypes_interval, axis=0, return_counts=True)\n",
    "    return unique_haplotypes, haplotype_counts\n",
    "\n",
    "\n",
    "def sort_intervals(intervals):\n",
    "    return sorted(intervals, key=lambda x: x[1] - x[0] + 1, reverse=True)\n",
    "    \n",
    "    \n",
    "def get_no_recom_intervals(genotypes):\n",
    "    genotypes_t = genotypes.T\n",
    "    intervals = [] # intervals with no recombination\n",
    "    for i in range(genotypes.shape[1]):\n",
    "        intervals.append([i, i]) # start a new interval\n",
    "        v1 = np.array(genotypes_t[i]).ravel()\n",
    "        for interval in [x for x in intervals if x[1]+1 == i]:\n",
    "            passes = True\n",
    "            for j in range(interval[0], interval[1]+1):\n",
    "                v2 = np.array(genotypes_t[j]).ravel()\n",
    "                if not four_gametes_test(v1, v2):\n",
    "                    passes = False\n",
    "                    break\n",
    "            if passes:\n",
    "                interval[1] += 1\n",
    "    return intervals\n",
    "\n",
    "    \n",
    "def four_gametes_test(a, b, strict=True):\n",
    "    gametes = set(np.unique(a * 2 + b))\n",
    "    if strict:\n",
    "        failing_condition = {1, 2, 3}.issubset(gametes) # 10, 01, 11\n",
    "    else:\n",
    "        failing_condition = len(gametes) == 4 # 00, 10, 01, 11\n",
    "    if failing_condition:\n",
    "        return False\n",
    "    else:\n",
    "        return True"
   ]
  },
  {
   "cell_type": "code",
   "execution_count": 3,
   "metadata": {},
   "outputs": [
    {
     "data": {
      "text/plain": [
       "[[0, 0], [1, 2], [2, 3], [3, 3], [4, 5], [5, 5]]"
      ]
     },
     "execution_count": 3,
     "metadata": {},
     "output_type": "execute_result"
    }
   ],
   "source": [
    "test_genotypes = np.array([\n",
    "    [1, 0, 0, 1, 0, 1], \n",
    "    [0, 1, 0, 0, 1, 0],  \n",
    "    [1, 1, 0, 1, 1, 0], \n",
    "    [0, 0, 1, 0, 0, 1],  \n",
    "])\n",
    "\n",
    "get_no_recom_intervals(test_genotypes)"
   ]
  },
  {
   "cell_type": "code",
   "execution_count": 4,
   "metadata": {},
   "outputs": [],
   "source": [
    "# genotypes = np.genfromtxt('/Users/ambershen/Desktop/linARG/dx_analysis/figures/1a/data/hapmap3_CEU_chr2-234876004-234884481.txt', dtype=float, missing_values=\"NA\", filling_values=np.nan)\n",
    "\n",
    "with h5py.File(\"/Users/ambershen/Desktop/linARG/dx_analysis/figures/1a/data/genotype_matrices/0_chr2-234000000-236000000.h5\", 'r') as f:\n",
    "    genotypes = sp.csc_matrix((f['data'][:], f['indices'][:], f['indptr'][:]), shape=f['shape'][:]) \n",
    "genotypes = genotypes.todense()"
   ]
  },
  {
   "cell_type": "code",
   "execution_count": 4,
   "metadata": {},
   "outputs": [],
   "source": [
    "import pandas as pd\n",
    "\n",
    "df = pd.read_csv('/Users/ambershen/Desktop/linARG/dx_analysis/figures/1a/data/variant_metadata/0_chr2-234000000-236000000.txt', sep=' ')"
   ]
  },
  {
   "cell_type": "code",
   "execution_count": 7,
   "metadata": {},
   "outputs": [
    {
     "data": {
      "text/plain": [
       "CHROM               chr2\n",
       "POS            234383207\n",
       "ID       2:234383207:T:C\n",
       "REF                    T\n",
       "ALT                    C\n",
       "Name: 2826, dtype: object"
      ]
     },
     "execution_count": 7,
     "metadata": {},
     "output_type": "execute_result"
    }
   ],
   "source": [
    "df.iloc[2826]"
   ]
  },
  {
   "cell_type": "code",
   "execution_count": 8,
   "metadata": {},
   "outputs": [
    {
     "data": {
      "text/plain": [
       "CHROM               chr2\n",
       "POS            234384556\n",
       "ID       2:234384556:G:A\n",
       "REF                    G\n",
       "ALT                    A\n",
       "Name: 2842, dtype: object"
      ]
     },
     "execution_count": 8,
     "metadata": {},
     "output_type": "execute_result"
    }
   ],
   "source": [
    "df.iloc[2842]"
   ]
  },
  {
   "cell_type": "code",
   "execution_count": 5,
   "metadata": {},
   "outputs": [
    {
     "name": "stdout",
     "output_type": "stream",
     "text": [
      "genotypes shape: (6404, 14515)\n",
      "longest interval: [2826, 2842], 17\n",
      "genotypes_cons shape: (8, 17)\n",
      "genotypes_cons nnz: 50\n"
     ]
    },
    {
     "data": {
      "text/plain": [
       "array([[0, 0, 0, 0, 0, 0, 0, 0, 0, 0, 0, 0, 0, 0, 0, 0, 0],\n",
       "       [0, 0, 0, 0, 0, 0, 0, 1, 0, 0, 0, 0, 0, 0, 0, 0, 0],\n",
       "       [0, 0, 0, 0, 0, 0, 0, 1, 0, 0, 0, 0, 0, 1, 0, 0, 0],\n",
       "       [0, 0, 0, 1, 0, 0, 0, 1, 0, 0, 0, 0, 0, 0, 0, 0, 0],\n",
       "       [0, 0, 0, 1, 0, 0, 0, 1, 0, 0, 0, 1, 0, 0, 0, 0, 0],\n",
       "       [0, 1, 0, 1, 1, 1, 1, 1, 1, 0, 1, 1, 1, 0, 1, 1, 1],\n",
       "       [0, 1, 0, 1, 1, 1, 1, 1, 1, 1, 1, 1, 1, 0, 1, 1, 1],\n",
       "       [1, 1, 1, 1, 1, 1, 1, 1, 1, 0, 1, 1, 1, 0, 1, 1, 1]], dtype=int16)"
      ]
     },
     "execution_count": 5,
     "metadata": {},
     "output_type": "execute_result"
    }
   ],
   "source": [
    "intervals = get_no_recom_intervals(genotypes)\n",
    "longest_interval = get_longest_interval(intervals)\n",
    "genotypes_cons, counts = consolidate_haplotypes(genotypes, longest_interval)\n",
    "\n",
    "print(f'genotypes shape: {genotypes.shape}')\n",
    "print(f'longest interval: {longest_interval}, {longest_interval[1] - longest_interval[0] + 1}')\n",
    "print(f'genotypes_cons shape: {genotypes_cons.shape}')\n",
    "print(f'genotypes_cons nnz: {np.count_nonzero((genotypes_cons))}')\n",
    "genotypes_cons"
   ]
  },
  {
   "cell_type": "code",
   "execution_count": 8,
   "metadata": {},
   "outputs": [
    {
     "name": "stdout",
     "output_type": "stream",
     "text": [
      "interval: [2826, 2842]\n",
      "unique haplotypes shape: (8, 17)\n",
      "unique haplotypes nnz: 50\n",
      "haplotype counts: [1001 3248  556  622  802    5   91   79]\n",
      "[[0 0 0 0 0 0 0 0 0 0 0 0 0 0 0 0 0]\n",
      " [0 0 0 0 0 0 0 1 0 0 0 0 0 0 0 0 0]\n",
      " [0 0 0 0 0 0 0 1 0 0 0 0 0 1 0 0 0]\n",
      " [0 0 0 1 0 0 0 1 0 0 0 0 0 0 0 0 0]\n",
      " [0 0 0 1 0 0 0 1 0 0 0 1 0 0 0 0 0]\n",
      " [0 1 0 1 1 1 1 1 1 0 1 1 1 0 1 1 1]\n",
      " [0 1 0 1 1 1 1 1 1 1 1 1 1 0 1 1 1]\n",
      " [1 1 1 1 1 1 1 1 1 0 1 1 1 0 1 1 1]]\n",
      "\n",
      "interval: [2876, 2892]\n",
      "unique haplotypes shape: (12, 17)\n",
      "unique haplotypes nnz: 32\n",
      "haplotype counts: [5014   96   94  120   66  145  504   89  101   83    1   91]\n",
      "[[0 0 0 0 0 0 0 0 0 0 0 0 0 0 0 0 0]\n",
      " [0 0 0 0 0 0 0 0 0 0 0 1 0 0 0 0 0]\n",
      " [0 0 0 0 0 0 0 0 0 0 1 0 0 0 0 0 0]\n",
      " [0 0 0 0 0 0 0 0 0 1 0 0 0 0 0 0 0]\n",
      " [0 0 0 0 0 0 0 0 1 0 0 0 0 0 0 0 0]\n",
      " [0 0 0 0 0 0 0 1 0 0 0 0 0 0 0 0 0]\n",
      " [0 0 0 0 0 1 0 0 0 0 0 0 0 0 0 0 0]\n",
      " [0 0 0 0 0 1 0 0 0 0 0 0 0 0 0 0 1]\n",
      " [0 0 0 0 0 1 0 0 0 0 0 0 0 1 0 0 0]\n",
      " [1 1 1 1 1 0 1 0 0 0 0 0 0 0 0 0 0]\n",
      " [1 1 1 1 1 0 1 0 0 0 0 0 0 0 1 0 0]\n",
      " [1 1 1 1 1 0 1 0 0 0 0 0 1 0 1 1 0]]\n",
      "\n",
      "interval: [10117, 10133]\n",
      "unique haplotypes shape: (15, 17)\n",
      "unique haplotypes nnz: 42\n",
      "haplotype counts: [1700  200   26 1511  344  523   72  180  121    1 1407   86  148    4\n",
      "   81]\n",
      "[[0 0 0 0 0 0 0 0 0 0 0 0 0 0 0 0 0]\n",
      " [0 0 0 0 1 0 0 0 0 0 0 0 0 0 0 0 0]\n",
      " [0 0 0 0 1 0 0 0 0 0 0 0 0 0 1 0 0]\n",
      " [0 0 0 0 1 0 0 0 0 0 0 0 0 0 1 0 1]\n",
      " [0 0 0 0 1 0 0 0 0 0 0 0 1 0 0 0 0]\n",
      " [0 0 0 0 1 0 0 0 0 0 0 1 1 0 0 0 0]\n",
      " [0 0 0 0 1 0 0 0 0 1 0 0 0 0 0 0 0]\n",
      " [0 0 0 0 1 0 1 1 0 0 0 0 0 0 0 0 0]\n",
      " [0 0 1 0 1 0 0 0 1 0 1 0 0 0 0 0 0]\n",
      " [0 1 0 0 1 0 0 0 0 0 0 0 1 0 0 0 0]\n",
      " [0 1 0 1 1 0 0 0 0 0 0 0 1 0 0 0 0]\n",
      " [0 1 0 1 1 0 0 0 0 0 0 0 1 0 0 1 0]\n",
      " [0 1 0 1 1 1 0 0 0 0 0 0 1 0 0 0 0]\n",
      " [1 0 0 0 1 0 0 0 0 0 0 0 0 0 0 0 0]\n",
      " [1 0 0 0 1 0 0 0 0 0 0 0 0 1 0 0 0]]\n",
      "\n",
      "interval: [2693, 2708]\n",
      "unique haplotypes shape: (8, 16)\n",
      "unique haplotypes nnz: 32\n",
      "haplotype counts: [2483 2987    2  478   29   99  189  137]\n",
      "[[0 0 0 0 0 0 0 0 0 0 0 0 0 0 0 0]\n",
      " [0 0 0 0 0 0 0 0 1 0 0 0 0 0 0 0]\n",
      " [0 0 0 0 0 0 0 0 1 0 0 0 0 0 1 0]\n",
      " [0 0 0 0 1 0 0 0 0 0 0 0 0 0 0 0]\n",
      " [0 0 1 1 0 1 1 1 1 1 1 1 1 1 1 0]\n",
      " [0 0 1 1 0 1 1 1 1 1 1 1 1 1 1 1]\n",
      " [0 1 0 0 0 0 0 0 0 0 0 0 0 0 0 0]\n",
      " [1 0 0 0 0 0 0 0 1 0 0 0 0 0 0 0]]\n",
      "\n",
      "interval: [2695, 2710]\n",
      "unique haplotypes shape: (7, 16)\n",
      "unique haplotypes nnz: 32\n",
      "haplotype counts: [2333  339 3124    2  478   29   99]\n",
      "[[0 0 0 0 0 0 0 0 0 0 0 0 0 0 0 0]\n",
      " [0 0 0 0 0 0 0 0 0 0 0 0 0 0 1 0]\n",
      " [0 0 0 0 0 0 1 0 0 0 0 0 0 0 0 0]\n",
      " [0 0 0 0 0 0 1 0 0 0 0 0 1 0 0 0]\n",
      " [0 0 1 0 0 0 0 0 0 0 0 0 0 0 0 0]\n",
      " [1 1 0 1 1 1 1 1 1 1 1 1 1 0 0 1]\n",
      " [1 1 0 1 1 1 1 1 1 1 1 1 1 1 0 1]]\n",
      "\n",
      "interval: [2827, 2842]\n",
      "unique haplotypes shape: (8, 16)\n",
      "unique haplotypes nnz: 49\n",
      "haplotype counts: [1001 3248  556  622  802    5   91   79]\n",
      "[[0 0 0 0 0 0 0 0 0 0 0 0 0 0 0 0]\n",
      " [0 0 0 0 0 0 1 0 0 0 0 0 0 0 0 0]\n",
      " [0 0 0 0 0 0 1 0 0 0 0 0 1 0 0 0]\n",
      " [0 0 1 0 0 0 1 0 0 0 0 0 0 0 0 0]\n",
      " [0 0 1 0 0 0 1 0 0 0 1 0 0 0 0 0]\n",
      " [1 0 1 1 1 1 1 1 0 1 1 1 0 1 1 1]\n",
      " [1 0 1 1 1 1 1 1 1 1 1 1 0 1 1 1]\n",
      " [1 1 1 1 1 1 1 1 0 1 1 1 0 1 1 1]]\n",
      "\n",
      "interval: [2877, 2892]\n",
      "unique haplotypes shape: (12, 16)\n",
      "unique haplotypes nnz: 29\n",
      "haplotype counts: [5014   96   94  120   66  145  504   89  101   83    1   91]\n",
      "[[0 0 0 0 0 0 0 0 0 0 0 0 0 0 0 0]\n",
      " [0 0 0 0 0 0 0 0 0 0 1 0 0 0 0 0]\n",
      " [0 0 0 0 0 0 0 0 0 1 0 0 0 0 0 0]\n",
      " [0 0 0 0 0 0 0 0 1 0 0 0 0 0 0 0]\n",
      " [0 0 0 0 0 0 0 1 0 0 0 0 0 0 0 0]\n",
      " [0 0 0 0 0 0 1 0 0 0 0 0 0 0 0 0]\n",
      " [0 0 0 0 1 0 0 0 0 0 0 0 0 0 0 0]\n",
      " [0 0 0 0 1 0 0 0 0 0 0 0 0 0 0 1]\n",
      " [0 0 0 0 1 0 0 0 0 0 0 0 1 0 0 0]\n",
      " [1 1 1 1 0 1 0 0 0 0 0 0 0 0 0 0]\n",
      " [1 1 1 1 0 1 0 0 0 0 0 0 0 1 0 0]\n",
      " [1 1 1 1 0 1 0 0 0 0 0 1 0 1 1 0]]\n",
      "\n",
      "interval: [3120, 3135]\n",
      "unique haplotypes shape: (11, 16)\n",
      "unique haplotypes nnz: 40\n",
      "haplotype counts: [ 990 1169  845 2074   43    1  713   97  273  115   84]\n",
      "[[0 0 0 0 0 0 0 0 0 0 0 0 0 0 0 0]\n",
      " [0 0 1 0 0 0 0 0 0 0 0 0 0 0 0 0]\n",
      " [0 0 1 0 0 0 0 0 0 0 0 1 0 0 0 0]\n",
      " [0 0 1 0 0 0 0 0 0 0 1 0 0 0 0 0]\n",
      " [0 0 1 0 0 0 0 1 0 0 0 0 0 0 0 0]\n",
      " [0 0 1 0 0 0 0 1 1 0 0 0 1 1 0 0]\n",
      " [0 0 1 0 1 0 0 1 0 1 0 0 0 0 0 0]\n",
      " [0 0 1 1 0 0 0 0 0 0 0 0 0 0 0 0]\n",
      " [0 1 1 0 0 0 0 0 0 0 1 0 0 0 0 0]\n",
      " [1 0 1 0 0 1 1 1 1 0 0 0 1 1 0 1]\n",
      " [1 0 1 0 0 1 1 1 1 0 0 0 1 1 1 1]]\n",
      "\n",
      "interval: [6565, 6580]\n",
      "unique haplotypes shape: (8, 16)\n",
      "unique haplotypes nnz: 45\n",
      "haplotype counts: [5729  141  325  133    1    1    1   73]\n",
      "[[0 0 0 0 0 0 0 0 0 0 0 0 0 0 0 0]\n",
      " [0 0 0 0 0 0 0 0 0 0 0 1 0 0 0 0]\n",
      " [0 0 0 0 0 0 0 0 0 1 0 0 0 0 0 0]\n",
      " [0 0 0 0 0 0 0 1 0 0 0 0 0 0 0 0]\n",
      " [1 1 1 1 1 1 1 0 0 0 0 0 0 0 0 0]\n",
      " [1 1 1 1 1 1 1 0 1 0 1 0 0 0 0 1]\n",
      " [1 1 1 1 1 1 1 0 1 0 1 0 1 1 0 1]\n",
      " [1 1 1 1 1 1 1 0 1 0 1 0 1 1 1 1]]\n",
      "\n",
      "interval: [10118, 10133]\n",
      "unique haplotypes shape: (14, 16)\n",
      "unique haplotypes nnz: 39\n",
      "haplotype counts: [1700  204   26 1511   81  344  523   72  180  121    1 1407   86  148]\n",
      "[[0 0 0 0 0 0 0 0 0 0 0 0 0 0 0 0]\n",
      " [0 0 0 1 0 0 0 0 0 0 0 0 0 0 0 0]\n",
      " [0 0 0 1 0 0 0 0 0 0 0 0 0 1 0 0]\n",
      " [0 0 0 1 0 0 0 0 0 0 0 0 0 1 0 1]\n",
      " [0 0 0 1 0 0 0 0 0 0 0 0 1 0 0 0]\n",
      " [0 0 0 1 0 0 0 0 0 0 0 1 0 0 0 0]\n",
      " [0 0 0 1 0 0 0 0 0 0 1 1 0 0 0 0]\n",
      " [0 0 0 1 0 0 0 0 1 0 0 0 0 0 0 0]\n",
      " [0 0 0 1 0 1 1 0 0 0 0 0 0 0 0 0]\n",
      " [0 1 0 1 0 0 0 1 0 1 0 0 0 0 0 0]\n",
      " [1 0 0 1 0 0 0 0 0 0 0 1 0 0 0 0]\n",
      " [1 0 1 1 0 0 0 0 0 0 0 1 0 0 0 0]\n",
      " [1 0 1 1 0 0 0 0 0 0 0 1 0 0 1 0]\n",
      " [1 0 1 1 1 0 0 0 0 0 0 1 0 0 0 0]]\n",
      "\n"
     ]
    }
   ],
   "source": [
    "intervals = get_no_recom_intervals(genotypes)\n",
    "sorted_intervals = sort_intervals(intervals)\n",
    "\n",
    "for i in sorted_intervals[:10]:\n",
    "    genotypes_cons, counts = consolidate_haplotypes(genotypes, i)\n",
    "    print(f'interval: {i}')\n",
    "    print(f'unique haplotypes shape: {genotypes_cons.shape}')\n",
    "    print(f'unique haplotypes nnz: {np.count_nonzero((genotypes_cons))}')\n",
    "    print(f'haplotype counts: {counts}')\n",
    "    print(genotypes_cons)\n",
    "    print()"
   ]
  },
  {
   "cell_type": "code",
   "execution_count": null,
   "metadata": {},
   "outputs": [],
   "source": []
  }
 ],
 "metadata": {
  "kernelspec": {
   "display_name": "py312",
   "language": "python",
   "name": "py312"
  },
  "language_info": {
   "codemirror_mode": {
    "name": "ipython",
    "version": 3
   },
   "file_extension": ".py",
   "mimetype": "text/x-python",
   "name": "python",
   "nbconvert_exporter": "python",
   "pygments_lexer": "ipython3",
   "version": "3.12.3"
  }
 },
 "nbformat": 4,
 "nbformat_minor": 2
}
