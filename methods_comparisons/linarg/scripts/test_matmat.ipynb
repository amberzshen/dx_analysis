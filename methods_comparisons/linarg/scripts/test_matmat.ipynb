{
 "cells": [
  {
   "cell_type": "code",
   "execution_count": 1,
   "metadata": {},
   "outputs": [],
   "source": [
    "import linear_dag as ld\n",
    "import numpy as np\n",
    "import pandas as pd\n",
    "import time\n",
    "import os\n",
    "import scipy.sparse as sp"
   ]
  },
  {
   "cell_type": "markdown",
   "metadata": {},
   "source": [
    "Benchmark against running single vectors and full genotype matrix across single and double precision and number of vectors"
   ]
  },
  {
   "cell_type": "code",
   "execution_count": 2,
   "metadata": {},
   "outputs": [],
   "source": [
    "linarg_dir = '/Users/ambershen/Desktop/linARG/dx_analysis/test_pipeline/linear_args/no_filter'\n",
    "linarg = ld.LinearARG.read(f\"{linarg_dir}/linear_arg.npz\", f\"{linarg_dir}/linear_arg.pvar.gz\", f\"{linarg_dir}/linear_arg.psam.gz\")"
   ]
  },
  {
   "cell_type": "code",
   "execution_count": 3,
   "metadata": {},
   "outputs": [],
   "source": [
    "def load_linarg(linarg_dir, partition_id):\n",
    "    start = time.time()\n",
    "    linarg = ld.LinearARG.read(f'{linarg_dir}/{partition_id}/linear_arg.npz', f'{linarg_dir}/{partition_id}/linear_arg.pvar.gz', f'{linarg_dir}/{partition_id}/linear_arg.psam.gz')    \n",
    "    end = time.time()\n",
    "    return linarg, end-start\n",
    "\n",
    "\n",
    "def load_genotypes(linarg_dir, partition_id):\n",
    "    start = time.time()\n",
    "    mtx_files = os.listdir(f'{linarg_dir}/{partition_id}/genotype_matrices/')\n",
    "    ind_arr = np.array([int(f.split('_')[0]) for f in mtx_files])\n",
    "    order = ind_arr.argsort()\n",
    "    mtx_files = np.array(mtx_files)[order].tolist() # sort files by index\n",
    "    genotypes = sp.hstack([sp.load_npz(f'{linarg_dir}/{partition_id}/genotype_matrices/{m}') for m in mtx_files])   \n",
    "    end = time.time() \n",
    "    return genotypes, end-start\n",
    "\n",
    "\n",
    "def matmat(X, v):\n",
    "    if X.shape[1] == v.shape[0]:\n",
    "        start = time.time()\n",
    "        u = X @ v\n",
    "        end = time.time()\n",
    "    elif linarg.shape[0] == v.shape[0]:\n",
    "        start = time.time()\n",
    "        u = X.T @ v\n",
    "        end = time.time()\n",
    "    else:\n",
    "        print('dimensions do not match')\n",
    "        return None\n",
    "    return end - start\n",
    "\n",
    "\n",
    "def matvec(X, v):\n",
    "    if X.shape[1] == v.shape[0]:\n",
    "        start = time.time()\n",
    "        for i in range(v.shape[1]):\n",
    "            u = X @ v[:, i]\n",
    "        end = time.time()\n",
    "        return end - start\n",
    "    elif linarg.shape[0] == v.shape[0]:\n",
    "        start = time.time()\n",
    "        for i in range(v.shape[1]):\n",
    "            u = X.T @ v[:, i]\n",
    "        end = time.time()\n",
    "        return end - start\n",
    "    else:\n",
    "        print('dimensions do not match')\n",
    "        return None\n",
    "       \n",
    "    \n",
    "def benchmark_dot_product(linarg, genotypes, n_vectors):\n",
    "    df = pd.DataFrame(columns=['method', 'dot_product_type', 'n', 'time'])\n",
    "    \n",
    "    for n in n_vectors:\n",
    "        y = np.random.normal(size=(linarg.shape[0], n))\n",
    "        beta = np.random.normal(size=(linarg.shape[1], n))\n",
    "        \n",
    "        linarg_matmat_right = matmat(linarg, beta)\n",
    "        linarg_matmat_left = matmat(linarg, y)\n",
    "        \n",
    "        linarg_matvec_right = matvec(linarg, beta)\n",
    "        linarg_matvec_left = matvec(linarg, y)\n",
    "        \n",
    "        geno_matmat_right = matmat(genotypes, beta)\n",
    "        geno_matmat_left = matmat(genotypes, y)\n",
    "        \n",
    "        df.loc[df.shape[0]] = ['linarg_matmat', 'right', n, linarg_matmat_right]\n",
    "        df.loc[df.shape[0]] = ['linarg_matmat', 'left', n, linarg_matmat_left]\n",
    "        df.loc[df.shape[0]] = ['linarg_matvec', 'right', n, linarg_matvec_right]\n",
    "        df.loc[df.shape[0]] = ['linarg_matvec', 'left', n, linarg_matvec_left]\n",
    "        df.loc[df.shape[0]] = ['genotypes', 'right', n, geno_matmat_right]\n",
    "        df.loc[df.shape[0]] = ['genotypes', 'left', n, geno_matmat_left]\n",
    "    \n",
    "    return df\n",
    "\n",
    "        "
   ]
  },
  {
   "cell_type": "code",
   "execution_count": 4,
   "metadata": {},
   "outputs": [],
   "source": [
    "linarg_dir = '/Users/ambershen/Desktop/linARG/dx_analysis/test_pipeline/linear_args/'\n",
    "partition_id = 'no_filter'\n",
    "\n",
    "linarg, linarg_load_time = load_linarg(linarg_dir, partition_id)\n",
    "genotypes, genotypes_load_time = load_genotypes(linarg_dir, partition_id)"
   ]
  },
  {
   "cell_type": "code",
   "execution_count": 10,
   "metadata": {},
   "outputs": [],
   "source": [
    "n_vectors = [2, 5, 10, 100, 1000, 10000]\n",
    "df = benchmark_dot_product(linarg, genotypes, n_vectors)"
   ]
  },
  {
   "cell_type": "code",
   "execution_count": null,
   "metadata": {},
   "outputs": [],
   "source": [
    "df"
   ]
  },
  {
   "cell_type": "code",
   "execution_count": null,
   "metadata": {},
   "outputs": [],
   "source": []
  }
 ],
 "metadata": {
  "kernelspec": {
   "display_name": "py312",
   "language": "python",
   "name": "py312"
  },
  "language_info": {
   "codemirror_mode": {
    "name": "ipython",
    "version": 3
   },
   "file_extension": ".py",
   "mimetype": "text/x-python",
   "name": "python",
   "nbconvert_exporter": "python",
   "pygments_lexer": "ipython3",
   "version": "3.12.3"
  }
 },
 "nbformat": 4,
 "nbformat_minor": 2
}
