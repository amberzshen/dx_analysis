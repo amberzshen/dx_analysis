{
 "cells": [
  {
   "cell_type": "code",
   "execution_count": 18,
   "metadata": {},
   "outputs": [],
   "source": [
    "import numpy as np\n",
    "import linear_dag as ld\n",
    "import os\n",
    "import pandas as pd\n",
    "import h5py\n",
    "\n",
    "def get_size_of_mtx(A):    \n",
    "    if (np.min(A.data) > -127) and (np.max(A.data) < 128):\n",
    "        data_size = A.data.astype(np.int8).nbytes\n",
    "    else:\n",
    "        data_size = A.data.nbytes\n",
    "    size_in_memory = data_size + A.indices.astype(np.uint32).nbytes + A.indptr.astype(np.uint32).nbytes\n",
    "    return size_in_memory\n",
    "\n",
    "\n",
    "def get_size_of_linarg(linarg):\n",
    "    mtx_size = get_size_of_mtx(linarg.A)\n",
    "    indices_size = linarg.variant_indices.astype(np.uint32).nbytes + linarg.flip.nbytes\n",
    "    return mtx_size + indices_size\n",
    "    \n",
    "\n",
    "def get_ukb_linarg_size(linarg_path, blocks):\n",
    "    size_in_memory = []\n",
    "    for block in blocks:        \n",
    "        linarg = ld.LinearARG.read(linarg_path, block=block)\n",
    "        size_in_memory.append(get_size_of_linarg(linarg))\n",
    "    return np.sum(size_in_memory) / 10**9\n",
    "\n",
    "\n",
    "def get_linarg_disk_size(linarg_path, blocks):\n",
    "    disk_size = 0\n",
    "    for block in blocks:\n",
    "        with h5py.File(linarg_path, 'r') as f:\n",
    "            dataset_names = ['indptr', 'indices', 'data', 'variant_indices', 'flip'] \n",
    "            for name in dataset_names:\n",
    "                dset = f[block][name]\n",
    "                disk_size += dset.id.get_storage_size()\n",
    "    return disk_size / 10**9\n",
    "\n",
    "\n",
    "def get_variant_metadata_disk_size(linarg_path, blocks):\n",
    "    disk_size = 0\n",
    "    for block in blocks:\n",
    "        with h5py.File(linarg_path, 'r') as f:\n",
    "            dataset_names = [\"CHROM\", \"POS\", \"ID\", \"REF\", \"ALT\"]\n",
    "            for name in dataset_names:\n",
    "                dset = f[block][name]\n",
    "                disk_size += dset.id.get_storage_size()\n",
    "    return disk_size / 10**9\n",
    "\n",
    "\n",
    "def get_vcf_disk_size(chroms):\n",
    "    disk_size = 0\n",
    "    for chrom in chroms:\n",
    "        disk_size += os.path.getsize(f\"/mnt/project/Bulk/Previous WGS releases/GATK and GraphTyper WGS/SHAPEIT Phased VCFs/ukb20279_c{chrom}_b0_v1.vcf.gz\")\n",
    "    return disk_size\n",
    "        \n",
    "        \n",
    "def get_nnz_ratio(blocks, linarg_path):\n",
    "    linarg_nnz = 0\n",
    "    genotypes_nnz = 0\n",
    "    n_variants = 0\n",
    "    for block in blocks:        \n",
    "        linarg = ld.LinearARG.read(linarg_path, block=block)\n",
    "        v = np.ones(linarg.shape[0])\n",
    "        linarg_nnz += linarg.A.nnz\n",
    "        genotypes_nnz += np.sum(v @ linarg)\n",
    "        n_variants += linarg.shape[1]\n",
    "    return genotypes_nnz / linarg_nnz, n_variants\n",
    "\n",
    "\n",
    "def get_all_paths(file_path):\n",
    "    paths = []\n",
    "\n",
    "    def collect(name):\n",
    "        paths.append(name)\n",
    "\n",
    "    with h5py.File(file_path, 'r') as f:\n",
    "        f.visit(collect)\n",
    "    \n",
    "    return paths"
   ]
  },
  {
   "cell_type": "code",
   "execution_count": 7,
   "metadata": {},
   "outputs": [],
   "source": [
    "linarg_path = '/Users/ambershen/Desktop/linARG/data/1kg/1kg_chromosomes.h5'\n",
    "blocks = list(set([x.split('/')[0] for x in  get_all_paths(linarg_path)]))"
   ]
  },
  {
   "cell_type": "code",
   "execution_count": 13,
   "metadata": {},
   "outputs": [
    {
     "data": {
      "text/plain": [
       "0.498627687"
      ]
     },
     "execution_count": 13,
     "metadata": {},
     "output_type": "execute_result"
    }
   ],
   "source": [
    "get_variant_metadata_disk_size(linarg_path, blocks)"
   ]
  },
  {
   "cell_type": "code",
   "execution_count": 10,
   "metadata": {},
   "outputs": [
    {
     "data": {
      "text/plain": [
       "2.159486619"
      ]
     },
     "execution_count": 10,
     "metadata": {},
     "output_type": "execute_result"
    }
   ],
   "source": [
    "get_linarg_disk_size(linarg_path, blocks)"
   ]
  },
  {
   "cell_type": "code",
   "execution_count": 17,
   "metadata": {},
   "outputs": [
    {
     "data": {
      "text/plain": [
       "5.694802372"
      ]
     },
     "execution_count": 17,
     "metadata": {},
     "output_type": "execute_result"
    }
   ],
   "source": [
    "get_ukb_linarg_size(linarg_path, blocks)"
   ]
  },
  {
   "cell_type": "code",
   "execution_count": 19,
   "metadata": {},
   "outputs": [
    {
     "data": {
      "text/plain": [
       "(22.856828224117738, 70692015)"
      ]
     },
     "execution_count": 19,
     "metadata": {},
     "output_type": "execute_result"
    }
   ],
   "source": [
    "get_nnz_ratio(blocks, linarg_path)"
   ]
  },
  {
   "cell_type": "code",
   "execution_count": null,
   "metadata": {},
   "outputs": [],
   "source": []
  }
 ],
 "metadata": {
  "kernelspec": {
   "display_name": "py312",
   "language": "python",
   "name": "py312"
  },
  "language_info": {
   "codemirror_mode": {
    "name": "ipython",
    "version": 3
   },
   "file_extension": ".py",
   "mimetype": "text/x-python",
   "name": "python",
   "nbconvert_exporter": "python",
   "pygments_lexer": "ipython3",
   "version": "3.12.3"
  }
 },
 "nbformat": 4,
 "nbformat_minor": 2
}
