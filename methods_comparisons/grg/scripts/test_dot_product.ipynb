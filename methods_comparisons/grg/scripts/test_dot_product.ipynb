{
 "cells": [
  {
   "cell_type": "code",
   "execution_count": 1,
   "metadata": {},
   "outputs": [
    {
     "name": "stdout",
     "output_type": "stream",
     "text": [
      "load time: 0.025, dot product time: 0.006\n"
     ]
    }
   ],
   "source": [
    "import pygrgl\n",
    "import numpy as np\n",
    "import time\n",
    "\n",
    "grg_path = '/Users/ambershen/Desktop/linARG/dx_analysis/methods_comparisons/grg/grgs/chr21-21990355-23324211.grg'\n",
    "t1 = time.time()\n",
    "grg = pygrgl.load_immutable_grg(grg_path)\n",
    "# grg = pygrgl.load_mutable_grg(grg_path)\n",
    "t2 = time.time()\n",
    "y = np.random.normal(0, 10, grg.num_samples)\n",
    "t3 = time.time()\n",
    "b = pygrgl.dot_product(grg, y, pygrgl.TraversalDirection.UP)\n",
    "t4 = time.time()\n",
    "\n",
    "print(f'load time: {np.round(t2-t1, 3)}, dot product time: {np.round(t4-t3, 3)}')"
   ]
  },
  {
   "cell_type": "code",
   "execution_count": 5,
   "metadata": {},
   "outputs": [],
   "source": [
    "import psutil\n",
    "import os\n",
    "import pygrgl\n",
    "\n",
    "def estimate_grg_memory_usage(grg_path):\n",
    "    \"\"\"\n",
    "    Loads a GRG object from disk and estimates its memory usage in MB.\n",
    "    \n",
    "    Returns:\n",
    "        grg: The loaded GRG object.\n",
    "        mem_used_mb: Estimated memory usage in megabytes.\n",
    "    \"\"\"\n",
    "    def get_process_memory():\n",
    "        process = psutil.Process(os.getpid())\n",
    "        return process.memory_info().rss  # in bytes\n",
    "\n",
    "    mem_before = get_process_memory()\n",
    "    grg = pygrgl.load_immutable_grg(grg_path)\n",
    "    mem_after = get_process_memory()\n",
    "\n",
    "    mem_used_mb = (mem_after - mem_before) / 1024**2\n",
    "    print(f\"Estimated GRG memory usage: {mem_used_mb:.2f} MB\")\n",
    "    return grg, mem_used_mb"
   ]
  },
  {
   "cell_type": "code",
   "execution_count": 6,
   "metadata": {},
   "outputs": [
    {
     "name": "stdout",
     "output_type": "stream",
     "text": [
      "Estimated GRG memory usage: 6.29 MB\n"
     ]
    },
    {
     "data": {
      "text/plain": [
       "(<_grgl.GRG at 0x11638fe30>, 6.2890625)"
      ]
     },
     "execution_count": 6,
     "metadata": {},
     "output_type": "execute_result"
    }
   ],
   "source": [
    "estimate_grg_memory_usage(grg_path)"
   ]
  },
  {
   "cell_type": "code",
   "execution_count": 7,
   "metadata": {},
   "outputs": [
    {
     "name": "stdout",
     "output_type": "stream",
     "text": [
      "Total memory size (object + references): 56 bytes\n"
     ]
    }
   ],
   "source": [
    "import sys\n",
    "import gc\n",
    "\n",
    "size = sys.getsizeof(grg)\n",
    "\n",
    "# Check for objects that the C object might be referencing\n",
    "referents = gc.get_referents(grg)\n",
    "\n",
    "# Add the size of the referenced objects\n",
    "referent_size = sum(sys.getsizeof(ref) for ref in referents)\n",
    "\n",
    "total_size = size + referent_size\n",
    "print(f\"Total memory size (object + references): {total_size} bytes\")"
   ]
  },
  {
   "cell_type": "code",
   "execution_count": null,
   "metadata": {},
   "outputs": [],
   "source": []
  }
 ],
 "metadata": {
  "kernelspec": {
   "display_name": "py312",
   "language": "python",
   "name": "py312"
  },
  "language_info": {
   "codemirror_mode": {
    "name": "ipython",
    "version": 3
   },
   "file_extension": ".py",
   "mimetype": "text/x-python",
   "name": "python",
   "nbconvert_exporter": "python",
   "pygments_lexer": "ipython3",
   "version": "3.12.3"
  }
 },
 "nbformat": 4,
 "nbformat_minor": 2
}
