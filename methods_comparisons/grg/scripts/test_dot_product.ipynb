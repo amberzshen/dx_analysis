{
 "cells": [
  {
   "cell_type": "code",
   "execution_count": 23,
   "metadata": {},
   "outputs": [
    {
     "name": "stdout",
     "output_type": "stream",
     "text": [
      "load time: 0.024, dot product time: 0.007\n"
     ]
    }
   ],
   "source": [
    "import pygrgl\n",
    "import numpy as np\n",
    "import time\n",
    "\n",
    "grg_path = '/Users/ambershen/Desktop/linARG/methods_comparisons/grg/grgs/chr21-21990355-23324211.grg'\n",
    "t1 = time.time()\n",
    "grg = pygrgl.load_immutable_grg(grg_path)\n",
    "t2 = time.time()\n",
    "y = np.random.normal(0, 10, grg.num_samples)\n",
    "t3 = time.time()\n",
    "b = pygrgl.dot_product(grg, y, pygrgl.TraversalDirection.UP)\n",
    "t4 = time.time()\n",
    "\n",
    "print(f'load time: {np.round(t2-t1, 3)}, dot product time: {np.round(t4-t3, 3)}')"
   ]
  },
  {
   "cell_type": "code",
   "execution_count": 15,
   "metadata": {},
   "outputs": [
    {
     "data": {
      "text/plain": [
       "array([2.818e+03, 5.000e+00, 2.000e+00, ..., 3.000e+00, 3.300e+01,\n",
       "       2.766e+03])"
      ]
     },
     "execution_count": 15,
     "metadata": {},
     "output_type": "execute_result"
    }
   ],
   "source": [
    "b"
   ]
  },
  {
   "cell_type": "code",
   "execution_count": null,
   "metadata": {},
   "outputs": [],
   "source": []
  }
 ],
 "metadata": {
  "kernelspec": {
   "display_name": "py312",
   "language": "python",
   "name": "py312"
  },
  "language_info": {
   "codemirror_mode": {
    "name": "ipython",
    "version": 3
   },
   "file_extension": ".py",
   "mimetype": "text/x-python",
   "name": "python",
   "nbconvert_exporter": "python",
   "pygments_lexer": "ipython3",
   "version": "3.12.3"
  }
 },
 "nbformat": 4,
 "nbformat_minor": 2
}
