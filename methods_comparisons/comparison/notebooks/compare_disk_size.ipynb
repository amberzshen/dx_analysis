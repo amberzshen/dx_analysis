{
 "cells": [
  {
   "cell_type": "code",
   "execution_count": 11,
   "metadata": {},
   "outputs": [],
   "source": [
    "import os\n",
    "import matplotlib.pyplot as plt\n",
    "import pandas as pd\n",
    "import numpy as np"
   ]
  },
  {
   "cell_type": "code",
   "execution_count": 13,
   "metadata": {},
   "outputs": [
    {
     "data": {
      "text/html": [
       "<div>\n",
       "<style scoped>\n",
       "    .dataframe tbody tr th:only-of-type {\n",
       "        vertical-align: middle;\n",
       "    }\n",
       "\n",
       "    .dataframe tbody tr th {\n",
       "        vertical-align: top;\n",
       "    }\n",
       "\n",
       "    .dataframe thead th {\n",
       "        text-align: right;\n",
       "    }\n",
       "</style>\n",
       "<table border=\"1\" class=\"dataframe\">\n",
       "  <thead>\n",
       "    <tr style=\"text-align: right;\">\n",
       "      <th></th>\n",
       "      <th>method</th>\n",
       "      <th>type</th>\n",
       "      <th>disk_size</th>\n",
       "    </tr>\n",
       "  </thead>\n",
       "  <tbody>\n",
       "    <tr>\n",
       "      <th>0</th>\n",
       "      <td>linarg</td>\n",
       "      <td>graph</td>\n",
       "      <td>1095879</td>\n",
       "    </tr>\n",
       "    <tr>\n",
       "      <th>1</th>\n",
       "      <td>linarg</td>\n",
       "      <td>variant_metadata</td>\n",
       "      <td>388382</td>\n",
       "    </tr>\n",
       "    <tr>\n",
       "      <th>2</th>\n",
       "      <td>linarg</td>\n",
       "      <td>sample_metadata</td>\n",
       "      <td>32865</td>\n",
       "    </tr>\n",
       "    <tr>\n",
       "      <th>3</th>\n",
       "      <td>grg</td>\n",
       "      <td>all</td>\n",
       "      <td>2530761</td>\n",
       "    </tr>\n",
       "    <tr>\n",
       "      <th>4</th>\n",
       "      <td>xsi</td>\n",
       "      <td>samples+genotype</td>\n",
       "      <td>554171</td>\n",
       "    </tr>\n",
       "    <tr>\n",
       "      <th>5</th>\n",
       "      <td>xsi</td>\n",
       "      <td>variant_metadata</td>\n",
       "      <td>5256304</td>\n",
       "    </tr>\n",
       "  </tbody>\n",
       "</table>\n",
       "</div>"
      ],
      "text/plain": [
       "   method              type  disk_size\n",
       "0  linarg             graph    1095879\n",
       "1  linarg  variant_metadata     388382\n",
       "2  linarg   sample_metadata      32865\n",
       "3     grg               all    2530761\n",
       "4     xsi  samples+genotype     554171\n",
       "5     xsi  variant_metadata    5256304"
      ]
     },
     "execution_count": 13,
     "metadata": {},
     "output_type": "execute_result"
    }
   ],
   "source": [
    "res_dir = '/Users/ambershen/Desktop/linARG/methods_comparisons/'\n",
    "exp_name = 'chr21-21990355-23324211'\n",
    "df = pd.DataFrame(columns=['method', 'type', 'disk_size'])\n",
    "\n",
    "df.loc[df.shape[0]] = ['linarg', 'graph', os.stat(f'{res_dir}/linarg/linear_args/linear_arg.npz').st_size]\n",
    "df.loc[df.shape[0]] = ['linarg', 'variant_metadata', os.stat(f'{res_dir}/linarg/linear_args/linear_arg.pvar.gz').st_size]\n",
    "df.loc[df.shape[0]] = ['linarg', 'sample_metadata', os.stat(f'{res_dir}/linarg/linear_args/linear_arg.psam.gz').st_size]\n",
    "\n",
    "df.loc[df.shape[0]] = ['grg', 'all', os.stat(f'{res_dir}/grg/grgs/chr21-21990355-23324211.grg').st_size]\n",
    "\n",
    "df.loc[df.shape[0]] = ['xsi', 'samples+genotype', os.stat(f'{res_dir}/xsi/xsi_files/chr21-21990355-23324211.xsi.gz').st_size]\n",
    "df.loc[df.shape[0]] = ['xsi', 'variant_metadata', os.stat(f'{res_dir}/xsi/xsi_files/chr21-21990355-23324211.xsi_var.bcf.gz').st_size]\n",
    "\n",
    "df"
   ]
  },
  {
   "cell_type": "code",
   "execution_count": 14,
   "metadata": {},
   "outputs": [
    {
     "name": "stdout",
     "output_type": "stream",
     "text": [
      "xsi: 5.81 MB\n",
      "linarg: 1.517 MB\n",
      "grg: 2.531 MB\n"
     ]
    }
   ],
   "source": [
    "for method in set(df.method):\n",
    "    total_size = df[df.method == method].disk_size.sum()\n",
    "    print(f'{method}: {np.round(total_size / 1e6, 3)} MB')"
   ]
  },
  {
   "cell_type": "code",
   "execution_count": null,
   "metadata": {},
   "outputs": [],
   "source": []
  }
 ],
 "metadata": {
  "kernelspec": {
   "display_name": "py312",
   "language": "python",
   "name": "py312"
  },
  "language_info": {
   "codemirror_mode": {
    "name": "ipython",
    "version": 3
   },
   "file_extension": ".py",
   "mimetype": "text/x-python",
   "name": "python",
   "nbconvert_exporter": "python",
   "pygments_lexer": "ipython3",
   "version": "3.12.3"
  }
 },
 "nbformat": 4,
 "nbformat_minor": 2
}
