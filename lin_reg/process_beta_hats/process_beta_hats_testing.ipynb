{
 "cells": [
  {
   "cell_type": "code",
   "execution_count": 38,
   "metadata": {},
   "outputs": [],
   "source": [
    "import scipy.sparse as sp\n",
    "import argparse\n",
    "import numpy as np\n",
    "import os\n",
    "import time\n",
    "import polars as pl\n",
    "import linear_dag as ld\n",
    "from linear_dag.core.lineararg import LinearARG\n",
    "import pandas as pd\n",
    "from scipy.stats import chi2"
   ]
  },
  {
   "cell_type": "code",
   "execution_count": 36,
   "metadata": {},
   "outputs": [],
   "source": [
    "from scipy.io import mmread\n",
    "\n",
    "mtx_path = \"../../../data/1kg_ALL_chr22_47876022_49355984_MAF_0.01_RF_0.01_T_8.genos.mtx\"\n",
    "genotypes = mmread(mtx_path).tocsc()\n",
    "linarg = ld.LinearARG.from_genotypes(genotypes)\n",
    "linarg = linarg.make_triangular()"
   ]
  },
  {
   "cell_type": "code",
   "execution_count": 19,
   "metadata": {},
   "outputs": [
    {
     "ename": "NameError",
     "evalue": "name 'linarg_dir' is not defined",
     "output_type": "error",
     "traceback": [
      "\u001b[0;31m---------------------------------------------------------------------------\u001b[0m",
      "\u001b[0;31mNameError\u001b[0m                                 Traceback (most recent call last)",
      "Cell \u001b[0;32mIn[19], line 13\u001b[0m\n\u001b[1;32m      1\u001b[0m df \u001b[38;5;241m=\u001b[39m pl\u001b[38;5;241m.\u001b[39mDataFrame({\n\u001b[1;32m      2\u001b[0m     \u001b[38;5;124m'\u001b[39m\u001b[38;5;124mCHROM\u001b[39m\u001b[38;5;124m'\u001b[39m: pl\u001b[38;5;241m.\u001b[39mFloat64,\n\u001b[1;32m      3\u001b[0m     \u001b[38;5;124m'\u001b[39m\u001b[38;5;124mPOS\u001b[39m\u001b[38;5;124m'\u001b[39m: pl\u001b[38;5;241m.\u001b[39mInt64,\n\u001b[0;32m   (...)\u001b[0m\n\u001b[1;32m      9\u001b[0m     \u001b[38;5;124m'\u001b[39m\u001b[38;5;124mIDX\u001b[39m\u001b[38;5;124m'\u001b[39m: pl\u001b[38;5;241m.\u001b[39mInt64\n\u001b[1;32m     10\u001b[0m })\n\u001b[0;32m---> 13\u001b[0m partition_ids \u001b[38;5;241m=\u001b[39m os\u001b[38;5;241m.\u001b[39mlistdir(\u001b[38;5;124mf\u001b[39m\u001b[38;5;124m'\u001b[39m\u001b[38;5;132;01m{\u001b[39;00m\u001b[43mlinarg_dir\u001b[49m\u001b[38;5;132;01m}\u001b[39;00m\u001b[38;5;124m/\u001b[39m\u001b[38;5;124m'\u001b[39m)\n\u001b[1;32m     14\u001b[0m ind_arr \u001b[38;5;241m=\u001b[39m np\u001b[38;5;241m.\u001b[39marray([\u001b[38;5;28mint\u001b[39m(p\u001b[38;5;241m.\u001b[39msplit(\u001b[38;5;124m\"\u001b[39m\u001b[38;5;124m_\u001b[39m\u001b[38;5;124m\"\u001b[39m)[\u001b[38;5;241m0\u001b[39m]) \u001b[38;5;28;01mfor\u001b[39;00m p \u001b[38;5;129;01min\u001b[39;00m partition_ids])\n\u001b[1;32m     15\u001b[0m order \u001b[38;5;241m=\u001b[39m ind_arr\u001b[38;5;241m.\u001b[39margsort()\n",
      "\u001b[0;31mNameError\u001b[0m: name 'linarg_dir' is not defined"
     ]
    }
   ],
   "source": [
    "import argparse\n",
    "import numpy as np\n",
    "import os\n",
    "import polars as pl\n",
    "import linear_dag as ld\n",
    "from linear_dag.core.lineararg import LinearARG\n",
    "from scipy.stats import chi2\n",
    "\n",
    "linarg_dir = '/mnt/project/linear_args/ukb20279/chr1/'\n",
    "beta_dir = '/mnt/project/lin_reg_benchmark/height_benchmark_w_covariates/beta_hats/'\n",
    "\n",
    "partition_ids = os.listdir(f'{linarg_dir}/')\n",
    "ind_arr = np.array([int(p.split(\"_\")[0]) for p in partition_ids])\n",
    "order = ind_arr.argsort()\n",
    "partition_ids = np.array(partition_ids)[order].tolist()\n",
    "\n",
    "beta_hats = np.load(f'{beta_dir}/{partition_ids[0]}_linarg.npy')\n",
    "linarg = ld.LinearARG.read(f'{linarg_dir}/{partition_ids[0]}/linear_arg.npz', f'{linarg_dir}/{partition_ids[0]}/linear_arg.pvar', f'{linarg_dir}/{partition_ids[0]}/linear_arg.psam')    \n",
    "df = linarg.variants.table\n",
    "N = linarg.shape[0] / 2 # roughly, maybe change this to be exact\n",
    "df = df.with_columns(pl.lit(beta_hats).alias('beta_hat'))\n",
    "df = df.with_columns(pl.lit(beta_hats*N**0.5).alias('z-score'))\n",
    "df = df.with_columns(pl.lit(beta_hats**2*N).alias('chi-squared'))\n",
    "df = df.with_columns(pl.lit([chi2.sf(x, 1) for x in beta_hats**2*N]).alias('chi-squared_pval'))\n",
    "\n",
    "for partition_id in partition_ids[1:]:\n",
    "    \n",
    "    beta_hats = np.load(f'{beta_dir}/{partition_id}_linarg.npy')\n",
    "    linarg = ld.LinearARG.read(f'{linarg_dir}/{partition_id}/linear_arg.npz', f'{linarg_dir}/{partition_id}/linear_arg.pvar', f'{linarg_dir}/{partition_id}/linear_arg.psam')    \n",
    "    df_partition = linarg.variants.table\n",
    "    N = linarg.shape[0] / 2 # roughly, maybe change this to be exact\n",
    "    df_partition = df_partition.with_columns(pl.lit(beta_hats).alias('beta_hat'))\n",
    "    df_partition = df_partition.with_columns(pl.lit(beta_hats*N**0.5).alias('z-score'))\n",
    "    df_partition = df_partition.with_columns(pl.lit(beta_hats**2*N).alias('chi-squared'))\n",
    "    df = df.with_columns(pl.lit([chi2.sf(x, 1) for x in beta_hats**2*N]).alias('chi-squared_pval'))\n",
    "    \n",
    "    df = pl.concat([df, df_partition])\n",
    "\n",
    "df.write_csv(f'{out_dir}/regression_statistics.csv')"
   ]
  },
  {
   "cell_type": "code",
   "execution_count": 69,
   "metadata": {},
   "outputs": [],
   "source": [
    "N = linarg.shape[0] / 2 # roughly, maybe change this to be exact\n",
    "beta_hat = np.random.normal(0, 1/np.sqrt(N), linarg.shape[1])\n",
    "# linarg = ld.LinearARG.read(f'{linarg_dir}/{partition_ids[0]}/linear_arg.npz', f'{linarg_dir}/{partition_ids[0]}/linear_arg.pvar', f'{linarg_dir}/{partition_ids[0]}/linear_arg.psam')    \n",
    "df = linarg.variants.table\n",
    "\n",
    "df = df.with_columns(pl.lit(beta_hats).alias('beta_hat'))\n",
    "df = df.with_columns(pl.lit(beta_hats*N**0.5).alias('z-score'))\n",
    "df = df.with_columns(pl.lit(beta_hats**2*N).alias('chi-squared'))\n",
    "df = df.with_columns(pl.lit(np.array([chi2.sf(x, 1) for x in beta_hats**2*N])).alias('chi-squared_pval'))"
   ]
  },
  {
   "cell_type": "code",
   "execution_count": 70,
   "metadata": {},
   "outputs": [],
   "source": [
    "import matplotlib.pyplot as plt"
   ]
  },
  {
   "cell_type": "code",
   "execution_count": 71,
   "metadata": {},
   "outputs": [
    {
     "data": {
      "text/plain": [
       "(array([15818.,    86.,    59.,    48.,    50.,    37.,    33.,    32.,\n",
       "           40.,    30.]),\n",
       " array([0.      , 0.099964, 0.199928, 0.299892, 0.399856, 0.49982 ,\n",
       "        0.599784, 0.699748, 0.799712, 0.899676, 0.99964 ]),\n",
       " <BarContainer object of 10 artists>)"
      ]
     },
     "execution_count": 71,
     "metadata": {},
     "output_type": "execute_result"
    },
    {
     "data": {
      "image/png": "[encoded data removed]",
      "text/plain": [
       "<Figure size 640x480 with 1 Axes>"
      ]
     },
     "metadata": {},
     "output_type": "display_data"
    }
   ],
   "source": [
    "plt.hist([chi2.sf(x, 1) for x in beta_hat**2*N])"
   ]
  },
  {
   "cell_type": "code",
   "execution_count": 46,
   "metadata": {},
   "outputs": [],
   "source": [
    "df.write_csv('test.csv')"
   ]
  },
  {
   "cell_type": "code",
   "execution_count": 47,
   "metadata": {},
   "outputs": [
    {
     "data": {
      "text/html": [
       "<div><style>\n",
       ".dataframe > thead > tr,\n",
       ".dataframe > tbody > tr {\n",
       "  text-align: right;\n",
       "  white-space: pre-wrap;\n",
       "}\n",
       "</style>\n",
       "<small>shape: (16_233, 12)</small><table border=\"1\" class=\"dataframe\"><thead><tr><th>CHROM</th><th>POS</th><th>REF</th><th>ALT</th><th>FLIP</th><th>ID</th><th>INFO</th><th>IDX</th><th>beta_hat</th><th>z-score</th><th>chi-squared</th><th>chi-squared_pval</th></tr><tr><td>f64</td><td>i64</td><td>f64</td><td>f64</td><td>f64</td><td>i64</td><td>f64</td><td>i64</td><td>f64</td><td>f64</td><td>f64</td><td>f64</td></tr></thead><tbody><tr><td>0.0</td><td>0</td><td>0.0</td><td>1.0</td><td>0.0</td><td>0</td><td>0.0</td><td>0</td><td>1.764052</td><td>88.273151</td><td>7792.149221</td><td>0.0</td></tr><tr><td>0.0</td><td>1</td><td>0.0</td><td>1.0</td><td>0.0</td><td>1</td><td>0.0</td><td>1</td><td>0.400157</td><td>20.02386</td><td>400.954982</td><td>3.4123e-89</td></tr><tr><td>0.0</td><td>2</td><td>0.0</td><td>1.0</td><td>0.0</td><td>2</td><td>0.0</td><td>3</td><td>0.978738</td><td>48.976033</td><td>2398.651816</td><td>0.0</td></tr><tr><td>0.0</td><td>3</td><td>0.0</td><td>1.0</td><td>0.0</td><td>3</td><td>0.0</td><td>12</td><td>2.240893</td><td>112.13426</td><td>12574.092235</td><td>0.0</td></tr><tr><td>0.0</td><td>4</td><td>0.0</td><td>1.0</td><td>0.0</td><td>4</td><td>0.0</td><td>5</td><td>1.867558</td><td>93.452572</td><td>8733.383208</td><td>0.0</td></tr><tr><td>&hellip;</td><td>&hellip;</td><td>&hellip;</td><td>&hellip;</td><td>&hellip;</td><td>&hellip;</td><td>&hellip;</td><td>&hellip;</td><td>&hellip;</td><td>&hellip;</td><td>&hellip;</td><td>&hellip;</td></tr><tr><td>0.0</td><td>16228</td><td>0.0</td><td>1.0</td><td>0.0</td><td>16228</td><td>0.0</td><td>134985</td><td>-1.723403</td><td>-86.239036</td><td>7437.171401</td><td>0.0</td></tr><tr><td>0.0</td><td>16229</td><td>0.0</td><td>1.0</td><td>0.0</td><td>16229</td><td>0.0</td><td>135048</td><td>1.457031</td><td>72.90982</td><td>5315.841836</td><td>0.0</td></tr><tr><td>0.0</td><td>16230</td><td>0.0</td><td>1.0</td><td>0.0</td><td>16230</td><td>0.0</td><td>135104</td><td>0.877467</td><td>43.908437</td><td>1927.950815</td><td>0.0</td></tr><tr><td>0.0</td><td>16231</td><td>0.0</td><td>1.0</td><td>0.0</td><td>16231</td><td>0.0</td><td>135106</td><td>-0.638906</td><td>-31.970843</td><td>1022.13479</td><td>2.7734e-224</td></tr><tr><td>0.0</td><td>16232</td><td>0.0</td><td>1.0</td><td>0.0</td><td>16232</td><td>0.0</td><td>135108</td><td>-1.006393</td><td>-50.359898</td><td>2536.119299</td><td>0.0</td></tr></tbody></table></div>"
      ],
      "text/plain": [
       "shape: (16_233, 12)\n",
       "┌───────┬───────┬─────┬─────┬───┬───────────┬────────────┬──────────────┬──────────────────┐\n",
       "│ CHROM ┆ POS   ┆ REF ┆ ALT ┆ … ┆ beta_hat  ┆ z-score    ┆ chi-squared  ┆ chi-squared_pval │\n",
       "│ ---   ┆ ---   ┆ --- ┆ --- ┆   ┆ ---       ┆ ---        ┆ ---          ┆ ---              │\n",
       "│ f64   ┆ i64   ┆ f64 ┆ f64 ┆   ┆ f64       ┆ f64        ┆ f64          ┆ f64              │\n",
       "╞═══════╪═══════╪═════╪═════╪═══╪═══════════╪════════════╪══════════════╪══════════════════╡\n",
       "│ 0.0   ┆ 0     ┆ 0.0 ┆ 1.0 ┆ … ┆ 1.764052  ┆ 88.273151  ┆ 7792.149221  ┆ 0.0              │\n",
       "│ 0.0   ┆ 1     ┆ 0.0 ┆ 1.0 ┆ … ┆ 0.400157  ┆ 20.02386   ┆ 400.954982   ┆ 3.4123e-89       │\n",
       "│ 0.0   ┆ 2     ┆ 0.0 ┆ 1.0 ┆ … ┆ 0.978738  ┆ 48.976033  ┆ 2398.651816  ┆ 0.0              │\n",
       "│ 0.0   ┆ 3     ┆ 0.0 ┆ 1.0 ┆ … ┆ 2.240893  ┆ 112.13426  ┆ 12574.092235 ┆ 0.0              │\n",
       "│ 0.0   ┆ 4     ┆ 0.0 ┆ 1.0 ┆ … ┆ 1.867558  ┆ 93.452572  ┆ 8733.383208  ┆ 0.0              │\n",
       "│ …     ┆ …     ┆ …   ┆ …   ┆ … ┆ …         ┆ …          ┆ …            ┆ …                │\n",
       "│ 0.0   ┆ 16228 ┆ 0.0 ┆ 1.0 ┆ … ┆ -1.723403 ┆ -86.239036 ┆ 7437.171401  ┆ 0.0              │\n",
       "│ 0.0   ┆ 16229 ┆ 0.0 ┆ 1.0 ┆ … ┆ 1.457031  ┆ 72.90982   ┆ 5315.841836  ┆ 0.0              │\n",
       "│ 0.0   ┆ 16230 ┆ 0.0 ┆ 1.0 ┆ … ┆ 0.877467  ┆ 43.908437  ┆ 1927.950815  ┆ 0.0              │\n",
       "│ 0.0   ┆ 16231 ┆ 0.0 ┆ 1.0 ┆ … ┆ -0.638906 ┆ -31.970843 ┆ 1022.13479   ┆ 2.7734e-224      │\n",
       "│ 0.0   ┆ 16232 ┆ 0.0 ┆ 1.0 ┆ … ┆ -1.006393 ┆ -50.359898 ┆ 2536.119299  ┆ 0.0              │\n",
       "└───────┴───────┴─────┴─────┴───┴───────────┴────────────┴──────────────┴──────────────────┘"
      ]
     },
     "execution_count": 47,
     "metadata": {},
     "output_type": "execute_result"
    }
   ],
   "source": [
    "df"
   ]
  },
  {
   "cell_type": "code",
   "execution_count": null,
   "metadata": {},
   "outputs": [],
   "source": []
  }
 ],
 "metadata": {
  "kernelspec": {
   "display_name": "py312",
   "language": "python",
   "name": "py312"
  },
  "language_info": {
   "codemirror_mode": {
    "name": "ipython",
    "version": 3
   },
   "file_extension": ".py",
   "mimetype": "text/x-python",
   "name": "python",
   "nbconvert_exporter": "python",
   "pygments_lexer": "ipython3",
   "version": "3.12.3"
  }
 },
 "nbformat": 4,
 "nbformat_minor": 2
}
