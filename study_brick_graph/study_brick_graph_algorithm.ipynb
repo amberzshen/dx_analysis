{
 "cells": [
  {
   "cell_type": "code",
   "execution_count": 1,
   "metadata": {},
   "outputs": [],
   "source": [
    "import scipy.sparse as sp\n",
    "import numpy as np\n",
    "from linear_dag.core.brick_graph import BrickGraph"
   ]
  },
  {
   "cell_type": "code",
   "execution_count": 2,
   "metadata": {},
   "outputs": [],
   "source": [
    "rows = np.array([2, 3, 4, 0, 1, 2, 3, 1, 2, 3, 3, 5])\n",
    "cols = np.array([0, 0, 0, 1, 1, 1, 1, 2, 2, 2, 3, 3])\n",
    "data = np.ones(len(rows))\n",
    "genotypes = sp.csc_matrix((data, (rows, cols)), shape=(6, 4))"
   ]
  },
  {
   "cell_type": "code",
   "execution_count": 3,
   "metadata": {},
   "outputs": [
    {
     "data": {
      "text/plain": [
       "matrix([[0., 1., 0., 0.],\n",
       "        [0., 1., 1., 0.],\n",
       "        [1., 1., 1., 0.],\n",
       "        [1., 1., 1., 1.],\n",
       "        [1., 0., 0., 0.],\n",
       "        [0., 0., 0., 1.]])"
      ]
     },
     "execution_count": 3,
     "metadata": {},
     "output_type": "execute_result"
    }
   ],
   "source": [
    "genotypes.todense()"
   ]
  },
  {
   "cell_type": "code",
   "execution_count": 4,
   "metadata": {},
   "outputs": [
    {
     "name": "stdout",
     "output_type": "stream",
     "text": [
      "0\n",
      "shape: (12, 12)\n",
      "rows: [6 6 6 6 7 7 7]\n",
      "cols: [0 1 5 7 2 3 4]\n",
      "subsequence 0: []\n",
      "subsequence 1: []\n",
      "subsequence 2: []\n",
      "subsequence 3: []\n",
      "subsequence 4: []\n",
      "subsequence 5: []\n",
      "subsequence 6: []\n",
      "subsequence 7: [0]\n",
      "subsequence 8: []\n",
      "subsequence 9: []\n",
      "subsequence 10: []\n",
      "subsequence 11: []\n",
      "1\n",
      "shape: (12, 12)\n",
      "rows: [6 6 6 7 7 8 8 8]\n",
      "cols: [4 5 8 2 3 0 1 7]\n",
      "subsequence 0: []\n",
      "subsequence 1: []\n",
      "subsequence 2: []\n",
      "subsequence 3: []\n",
      "subsequence 4: [0]\n",
      "subsequence 5: []\n",
      "subsequence 6: []\n",
      "subsequence 7: [0]\n",
      "subsequence 8: [1]\n",
      "subsequence 9: []\n",
      "subsequence 10: []\n",
      "subsequence 11: []\n",
      "2\n",
      "shape: (12, 12)\n",
      "rows: [6 6 6 7 7 8 8 9 9]\n",
      "cols: [4 5 8 2 3 0 9 1 7]\n",
      "subsequence 0: []\n",
      "subsequence 1: []\n",
      "subsequence 2: []\n",
      "subsequence 3: []\n",
      "subsequence 4: [0]\n",
      "subsequence 5: []\n",
      "subsequence 6: []\n",
      "subsequence 7: [0]\n",
      "subsequence 8: [1]\n",
      "subsequence 9: [2]\n",
      "subsequence 10: []\n",
      "subsequence 11: []\n",
      "3\n",
      "shape: (12, 12)\n",
      "rows: [6 6 6 7 7 8 8 9 9]\n",
      "cols: [4 7 8 3 5 0 9 1 2]\n",
      "subsequence 0: []\n",
      "subsequence 1: []\n",
      "subsequence 2: [0]\n",
      "subsequence 3: [0 2 1]\n",
      "subsequence 4: [0]\n",
      "subsequence 5: []\n",
      "subsequence 6: []\n",
      "subsequence 7: [3]\n",
      "subsequence 8: [1]\n",
      "subsequence 9: [2]\n",
      "subsequence 10: []\n",
      "subsequence 11: []\n"
     ]
    }
   ],
   "source": [
    "forward_graph, backward_graph, sample_indices = BrickGraph.forward_backward(genotypes)"
   ]
  },
  {
   "cell_type": "code",
   "execution_count": null,
   "metadata": {},
   "outputs": [],
   "source": []
  }
 ],
 "metadata": {
  "kernelspec": {
   "display_name": "py312",
   "language": "python",
   "name": "py312"
  },
  "language_info": {
   "codemirror_mode": {
    "name": "ipython",
    "version": 3
   },
   "file_extension": ".py",
   "mimetype": "text/x-python",
   "name": "python",
   "nbconvert_exporter": "python",
   "pygments_lexer": "ipython3",
   "version": "3.12.3"
  }
 },
 "nbformat": 4,
 "nbformat_minor": 2
}
