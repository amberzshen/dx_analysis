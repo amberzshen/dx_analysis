{
 "cells": [
  {
   "cell_type": "code",
   "execution_count": 1,
   "metadata": {},
   "outputs": [],
   "source": [
    "import linear_dag as ld\n",
    "from linear_dag import LinearARG\n",
    "from linear_dag.association.gwas import run_gwas\n",
    "import time\n",
    "import numpy as np\n",
    "import polars as pl\n",
    "\n",
    "from linear_dag.core.operators import get_merge_operator, get_inner_merge_operators\n",
    "\n",
    "import matplotlib.pyplot as plt\n"
   ]
  },
  {
   "cell_type": "code",
   "execution_count": 3,
   "metadata": {},
   "outputs": [
    {
     "name": "stdout",
     "output_type": "stream",
     "text": [
      "num_nonmissing: [4 4]\n",
      "trait_series: shape: (8_118,)\n",
      "Series: '' [enum]\n",
      "[\n",
      "\t\"phenotype1\"\n",
      "\t\"phenotype1\"\n",
      "\t\"phenotype1\"\n",
      "\t\"phenotype1\"\n",
      "\t\"phenotype1\"\n",
      "\t…\n",
      "\t\"phenotype2\"\n",
      "\t\"phenotype2\"\n",
      "\t\"phenotype2\"\n",
      "\t\"phenotype2\"\n",
      "\t\"phenotype2\"\n",
      "]\n",
      "beta shape: (8118,)\n"
     ]
    }
   ],
   "source": [
    "linarg = ld.LinearARG.read('/Users/ambershen/Desktop/linarg/dx_analysis/test_pipeline/linear_args/csc/linear_arg_individual.h5')\n",
    "# linarg = ld.LinearARG.read('/Users/ambershen/Desktop/linARG/dx_analysis/test_pipeline/linear_args/csc/linear_arg.h5')\n",
    "N = int(linarg.shape[0]/2)\n",
    "\n",
    "iids = pl.Series(\"whitelist\", np.repeat(np.arange(N), 2)).cast(pl.Int64)\n",
    " \n",
    "intercept = np.ones(N)\n",
    "covar1 = np.random.normal(loc=0, scale=1, size=N)\n",
    "phenotype = np.random.normal(loc=0, scale=1, size=N)\n",
    "\n",
    "linarg.iids = iids\n",
    "\n",
    "phenotypes = pl.DataFrame({\n",
    "    \"iid\": np.arange(N),\n",
    "    \"intercept\": intercept,\n",
    "    \"covar1\": covar1,\n",
    "    \"phenotype1\": phenotype,\n",
    "    \"phenotype2\": phenotype,\n",
    "})\n",
    "\n",
    "phenotype = ['phenotype1', 'phenotype2']\n",
    "covariates = ['intercept', 'covar1']\n",
    "\n",
    "# phenotypes = phenotypes.slice(100)\n",
    "phenotypes = phenotypes.slice(3200)\n",
    "\n",
    "df = run_gwas(linarg, phenotypes.lazy(), phenotype, covariates, assume_hwe=False)"
   ]
  },
  {
   "cell_type": "code",
   "execution_count": 7,
   "metadata": {},
   "outputs": [
    {
     "data": {
      "text/html": [
       "<div><style>\n",
       ".dataframe > thead > tr,\n",
       ".dataframe > tbody > tr {\n",
       "  text-align: right;\n",
       "  white-space: pre-wrap;\n",
       "}\n",
       "</style>\n",
       "<small>shape: (8_118,)</small><table border=\"1\" class=\"dataframe\"><thead><tr><th>variant_index</th></tr><tr><td>u32</td></tr></thead><tbody><tr><td>0</td></tr><tr><td>1</td></tr><tr><td>2</td></tr><tr><td>3</td></tr><tr><td>4</td></tr><tr><td>&hellip;</td></tr><tr><td>4054</td></tr><tr><td>4055</td></tr><tr><td>4056</td></tr><tr><td>4057</td></tr><tr><td>4058</td></tr></tbody></table></div>"
      ],
      "text/plain": [
       "shape: (8_118,)\n",
       "Series: 'variant_index' [u32]\n",
       "[\n",
       "\t0\n",
       "\t1\n",
       "\t2\n",
       "\t3\n",
       "\t4\n",
       "\t…\n",
       "\t4054\n",
       "\t4055\n",
       "\t4056\n",
       "\t4057\n",
       "\t4058\n",
       "]"
      ]
     },
     "execution_count": 7,
     "metadata": {},
     "output_type": "execute_result"
    }
   ],
   "source": [
    "df.collect()['variant_index']"
   ]
  },
  {
   "cell_type": "code",
   "execution_count": 4,
   "metadata": {},
   "outputs": [],
   "source": [
    "all_allele_counts = np.ones(linarg.shape[0]) @ linarg\n",
    "all_carrier_counts = linarg.number_of_carriers()\n",
    "\n",
    "allele_counts = np.ones(right_op.shape[0]) @ right_op @ linarg\n",
    "rows_matched_per_col = np.ones(right_op.shape[0]) @ right_op\n",
    "individuals_to_include = np.where(rows_matched_per_col[::2]==1)[0]\n",
    "carrier_counts = linarg.number_of_carriers(individuals_to_include)\n",
    "\n",
    "inds = np.where(allele_counts - carrier_counts < 0)"
   ]
  },
  {
   "cell_type": "code",
   "execution_count": 5,
   "metadata": {},
   "outputs": [
    {
     "data": {
      "text/plain": [
       "2"
      ]
     },
     "execution_count": 5,
     "metadata": {},
     "output_type": "execute_result"
    }
   ],
   "source": [
    "len(individuals_to_include)"
   ]
  },
  {
   "cell_type": "code",
   "execution_count": 6,
   "metadata": {},
   "outputs": [
    {
     "data": {
      "text/plain": [
       "(array([], dtype=int64),)"
      ]
     },
     "execution_count": 6,
     "metadata": {},
     "output_type": "execute_result"
    }
   ],
   "source": [
    "np.where(all_allele_counts - all_carrier_counts < 0)"
   ]
  },
  {
   "cell_type": "code",
   "execution_count": 7,
   "metadata": {},
   "outputs": [
    {
     "data": {
      "text/plain": [
       "((array([], dtype=int64),),\n",
       " (array([], dtype=int64),),\n",
       " (array([], dtype=int64),))"
      ]
     },
     "execution_count": 7,
     "metadata": {},
     "output_type": "execute_result"
    }
   ],
   "source": [
    "np.where(all_allele_counts - allele_counts < 0), np.where(all_carrier_counts - carrier_counts < 0), inds"
   ]
  },
  {
   "cell_type": "code",
   "execution_count": 8,
   "metadata": {},
   "outputs": [
    {
     "data": {
      "text/plain": [
       "(array([], dtype=int64),)"
      ]
     },
     "execution_count": 8,
     "metadata": {},
     "output_type": "execute_result"
    }
   ],
   "source": [
    "np.where(all_allele_counts - all_carrier_counts < 0)"
   ]
  },
  {
   "cell_type": "code",
   "execution_count": 9,
   "metadata": {},
   "outputs": [
    {
     "data": {
      "text/plain": [
       "array([], dtype=float64)"
      ]
     },
     "execution_count": 9,
     "metadata": {},
     "output_type": "execute_result"
    }
   ],
   "source": [
    "allele_counts[inds][:10]"
   ]
  },
  {
   "cell_type": "code",
   "execution_count": 10,
   "metadata": {},
   "outputs": [
    {
     "data": {
      "text/plain": [
       "array([], dtype=int64)"
      ]
     },
     "execution_count": 10,
     "metadata": {},
     "output_type": "execute_result"
    }
   ],
   "source": [
    "carrier_counts[inds][:10]"
   ]
  },
  {
   "cell_type": "code",
   "execution_count": 11,
   "metadata": {},
   "outputs": [
    {
     "data": {
      "text/plain": [
       "array([], dtype=float64)"
      ]
     },
     "execution_count": 11,
     "metadata": {},
     "output_type": "execute_result"
    }
   ],
   "source": [
    "v = np.zeros(linarg.shape[0])\n",
    "v[-1] = 1\n",
    "v[-2] = 1\n",
    "(v @ linarg)[inds][:10]"
   ]
  },
  {
   "cell_type": "code",
   "execution_count": 12,
   "metadata": {},
   "outputs": [
    {
     "data": {
      "text/plain": [
       "array([], dtype=float64)"
      ]
     },
     "execution_count": 12,
     "metadata": {},
     "output_type": "execute_result"
    }
   ],
   "source": [
    "v = np.zeros(linarg.shape[0])\n",
    "v[-3] = 1\n",
    "v[-4] = 1\n",
    "(v @ linarg)[inds][:10]"
   ]
  },
  {
   "cell_type": "code",
   "execution_count": 13,
   "metadata": {},
   "outputs": [
    {
     "data": {
      "text/plain": [
       "array([], dtype=int64)"
      ]
     },
     "execution_count": 13,
     "metadata": {},
     "output_type": "execute_result"
    }
   ],
   "source": [
    "linarg.number_of_carriers(np.array([3201]))[inds][:10]"
   ]
  },
  {
   "cell_type": "code",
   "execution_count": 14,
   "metadata": {},
   "outputs": [
    {
     "data": {
      "text/plain": [
       "array([], dtype=int64)"
      ]
     },
     "execution_count": 14,
     "metadata": {},
     "output_type": "execute_result"
    }
   ],
   "source": [
    "linarg.number_of_carriers(np.array([3200]))[inds][:10]"
   ]
  },
  {
   "cell_type": "code",
   "execution_count": 15,
   "metadata": {},
   "outputs": [
    {
     "name": "stdout",
     "output_type": "stream",
     "text": [
      "[0 1 1 1 1 1 1 1 1 1 1 1 1 0 1 1 1 0 1 1 1 1 0 1 1 0 1 1 1 1 1 1 1 1 1 1 1\n",
      " 1 1 1]\n",
      "[0 1 1 1 1 1 1 1 1 1 1 1 1 0 1 1 1 0 1 1 2 2 0 1 1 0 1 1 1 2 1 1 1 1 2 2 2\n",
      " 1 1 1]\n"
     ]
    }
   ],
   "source": [
    "v = np.zeros(linarg.shape[0])\n",
    "v[-1] = 1\n",
    "v[-2] = 1\n",
    "\n",
    "print(linarg.number_of_carriers(np.array([3201]))[:40])\n",
    "print((v @ linarg)[:40].astype(int))"
   ]
  },
  {
   "cell_type": "code",
   "execution_count": 16,
   "metadata": {},
   "outputs": [
    {
     "data": {
      "text/plain": [
       "(array([], dtype=int32),\n",
       " array([ 1299,  1317,  1363,  1492,  1643,  1851,  1980,  2006,  2399,\n",
       "         2600,  2684,  3491,  3548,  3564,  4088,  4092,  4103,  4114,\n",
       "         4210,  4231,  4259,  4510,  4597,  4646,  4879,  4917,  5261,\n",
       "         5388,  5467,  5564,  5764,  5835,  6234,  6264,  7167,  7189,\n",
       "         7242,  7265,  7417,  7464,  7565,  9766,  9793, 10912, 11425,\n",
       "        11428, 11432, 11441, 11442, 11489, 11503, 11505, 11507, 11528,\n",
       "        11533, 11563, 11565, 11580, 11590, 11592, 11594, 13879, 14000,\n",
       "        16920, 18469, 21169, 22720, 22721], dtype=int32))"
      ]
     },
     "execution_count": 16,
     "metadata": {},
     "output_type": "execute_result"
    }
   ],
   "source": [
    "col_index = 32325\n",
    "linarg.A[:, col_index].nonzero()[0], linarg.A[col_index, :].nonzero()[1]"
   ]
  },
  {
   "cell_type": "code",
   "execution_count": 16,
   "metadata": {},
   "outputs": [
    {
     "data": {
      "text/plain": [
       "array([29123, 29122, 29121, ..., 22722, 22721, 22720], dtype=int32)"
      ]
     },
     "execution_count": 16,
     "metadata": {},
     "output_type": "execute_result"
    }
   ],
   "source": [
    "linarg.sample_indices"
   ]
  },
  {
   "cell_type": "code",
   "execution_count": 11,
   "metadata": {},
   "outputs": [
    {
     "data": {
      "text/plain": [
       "array([32325, 32324, 32323, ..., 29126, 29125, 29124], dtype=int32)"
      ]
     },
     "execution_count": 11,
     "metadata": {},
     "output_type": "execute_result"
    }
   ],
   "source": [
    "linarg.individual_indices"
   ]
  },
  {
   "cell_type": "code",
   "execution_count": 13,
   "metadata": {},
   "outputs": [
    {
     "data": {
      "text/plain": [
       "(array([], dtype=int32), array([], dtype=int32))"
      ]
     },
     "execution_count": 13,
     "metadata": {},
     "output_type": "execute_result"
    }
   ],
   "source": [
    "linarg.A[:, col_index].nonzero()"
   ]
  },
  {
   "cell_type": "code",
   "execution_count": 7,
   "metadata": {},
   "outputs": [
    {
     "data": {
      "text/plain": [
       "<Compressed Sparse Column sparse matrix of dtype 'int32'\n",
       "\twith 346460 stored elements and shape (32326, 32326)>"
      ]
     },
     "execution_count": 7,
     "metadata": {},
     "output_type": "execute_result"
    }
   ],
   "source": [
    "linarg.A"
   ]
  },
  {
   "cell_type": "code",
   "execution_count": 5,
   "metadata": {},
   "outputs": [
    {
     "data": {
      "text/plain": [
       "array([[1., 1., 0., 0., 0., 0., 0., 0.],\n",
       "       [0., 0., 1., 1., 0., 0., 0., 0.],\n",
       "       [0., 0., 0., 0., 1., 1., 0., 0.],\n",
       "       [0., 0., 0., 0., 0., 0., 1., 1.]])"
      ]
     },
     "execution_count": 5,
     "metadata": {},
     "output_type": "execute_result"
    }
   ],
   "source": [
    "left, right = get_inner_merge_operators(pl.Series(np.array([0, 1, 3, 4])), pl.Series(np.repeat(np.arange(5), 2)))\n",
    "left @ np.eye(left.shape[1])"
   ]
  },
  {
   "cell_type": "code",
   "execution_count": 6,
   "metadata": {},
   "outputs": [
    {
     "data": {
      "text/plain": [
       "array([[1., 0., 0., 0., 0., 0., 0., 0., 0., 0.],\n",
       "       [0., 1., 0., 0., 0., 0., 0., 0., 0., 0.],\n",
       "       [0., 0., 1., 0., 0., 0., 0., 0., 0., 0.],\n",
       "       [0., 0., 0., 1., 0., 0., 0., 0., 0., 0.],\n",
       "       [0., 0., 0., 0., 0., 0., 1., 0., 0., 0.],\n",
       "       [0., 0., 0., 0., 0., 0., 0., 1., 0., 0.],\n",
       "       [0., 0., 0., 0., 0., 0., 0., 0., 1., 0.],\n",
       "       [0., 0., 0., 0., 0., 0., 0., 0., 0., 1.]])"
      ]
     },
     "execution_count": 6,
     "metadata": {},
     "output_type": "execute_result"
    }
   ],
   "source": [
    "right @ np.eye(right.shape[1])"
   ]
  },
  {
   "cell_type": "code",
   "execution_count": 10,
   "metadata": {},
   "outputs": [
    {
     "data": {
      "text/plain": [
       "array([0, 1, 3, 4])"
      ]
     },
     "execution_count": 10,
     "metadata": {},
     "output_type": "execute_result"
    }
   ],
   "source": [
    "np.where((np.ones(right.shape[0]) @ right)[::2]==1)[0]"
   ]
  },
  {
   "cell_type": "code",
   "execution_count": 22,
   "metadata": {},
   "outputs": [
    {
     "data": {
      "text/plain": [
       "array([[1., 1., 0., 0., 0., 0., 0., 0., 0., 0.],\n",
       "       [0., 0., 1., 1., 0., 0., 0., 0., 0., 0.],\n",
       "       [0., 0., 0., 0., 1., 1., 0., 0., 0., 0.],\n",
       "       [0., 0., 0., 0., 0., 0., 1., 1., 0., 0.],\n",
       "       [0., 0., 0., 0., 0., 0., 0., 0., 1., 1.]])"
      ]
     },
     "execution_count": 22,
     "metadata": {},
     "output_type": "execute_result"
    }
   ],
   "source": [
    "merge1 = get_merge_operator(pl.Series(np.arange(5)), pl.Series(np.repeat(np.arange(5), 2)))\n",
    "merge1 @ np.eye(10)"
   ]
  },
  {
   "cell_type": "code",
   "execution_count": 23,
   "metadata": {},
   "outputs": [
    {
     "data": {
      "text/plain": [
       "array([[1., 1., 0., 0., 0., 0., 0., 0., 0., 0.],\n",
       "       [0., 0., 1., 1., 0., 0., 0., 0., 0., 0.],\n",
       "       [0., 0., 0., 0., 0., 0., 1., 1., 0., 0.],\n",
       "       [0., 0., 0., 0., 0., 0., 0., 0., 1., 1.]])"
      ]
     },
     "execution_count": 23,
     "metadata": {},
     "output_type": "execute_result"
    }
   ],
   "source": [
    "merge2 = get_merge_operator(pl.Series(np.array([0, 1, 3, 4])), pl.Series(np.repeat(np.arange(5), 2)))\n",
    "merge2 @ np.eye(10)"
   ]
  },
  {
   "cell_type": "code",
   "execution_count": 31,
   "metadata": {},
   "outputs": [
    {
     "data": {
      "text/plain": [
       "array([2, 2, 4, 4, 0, 0, 6, 6, 8, 8])"
      ]
     },
     "execution_count": 31,
     "metadata": {},
     "output_type": "execute_result"
    }
   ],
   "source": [
    "phenotypes = np.array([2, 4, 6, 8])\n",
    "\n",
    "merge2.T @ phenotypes"
   ]
  },
  {
   "cell_type": "code",
   "execution_count": 26,
   "metadata": {},
   "outputs": [],
   "source": [
    "row_ids = pl.Series(np.array([0, 1, 3, 4]))\n",
    "col_ids = pl.Series(np.repeat(np.arange(5), 2))\n",
    "\n",
    "\n",
    "row_df = pl.LazyFrame({'id': row_ids})\\\n",
    "    .with_row_index('row_idx')\n",
    "col_df = pl.LazyFrame({'id': col_ids})\\\n",
    "    .with_row_index('col_idx')\n",
    "merged_df = row_df.join(col_df, on='id', how='inner').collect()"
   ]
  },
  {
   "cell_type": "code",
   "execution_count": 27,
   "metadata": {},
   "outputs": [
    {
     "data": {
      "text/html": [
       "<div><style>\n",
       ".dataframe > thead > tr,\n",
       ".dataframe > tbody > tr {\n",
       "  text-align: right;\n",
       "  white-space: pre-wrap;\n",
       "}\n",
       "</style>\n",
       "<small>shape: (8, 3)</small><table border=\"1\" class=\"dataframe\"><thead><tr><th>row_idx</th><th>id</th><th>col_idx</th></tr><tr><td>u32</td><td>i64</td><td>u32</td></tr></thead><tbody><tr><td>0</td><td>0</td><td>0</td></tr><tr><td>0</td><td>0</td><td>1</td></tr><tr><td>1</td><td>1</td><td>2</td></tr><tr><td>1</td><td>1</td><td>3</td></tr><tr><td>2</td><td>3</td><td>6</td></tr><tr><td>2</td><td>3</td><td>7</td></tr><tr><td>3</td><td>4</td><td>8</td></tr><tr><td>3</td><td>4</td><td>9</td></tr></tbody></table></div>"
      ],
      "text/plain": [
       "shape: (8, 3)\n",
       "┌─────────┬─────┬─────────┐\n",
       "│ row_idx ┆ id  ┆ col_idx │\n",
       "│ ---     ┆ --- ┆ ---     │\n",
       "│ u32     ┆ i64 ┆ u32     │\n",
       "╞═════════╪═════╪═════════╡\n",
       "│ 0       ┆ 0   ┆ 0       │\n",
       "│ 0       ┆ 0   ┆ 1       │\n",
       "│ 1       ┆ 1   ┆ 2       │\n",
       "│ 1       ┆ 1   ┆ 3       │\n",
       "│ 2       ┆ 3   ┆ 6       │\n",
       "│ 2       ┆ 3   ┆ 7       │\n",
       "│ 3       ┆ 4   ┆ 8       │\n",
       "│ 3       ┆ 4   ┆ 9       │\n",
       "└─────────┴─────┴─────────┘"
      ]
     },
     "execution_count": 27,
     "metadata": {},
     "output_type": "execute_result"
    }
   ],
   "source": [
    "merged_df"
   ]
  },
  {
   "cell_type": "code",
   "execution_count": null,
   "metadata": {},
   "outputs": [],
   "source": []
  }
 ],
 "metadata": {
  "kernelspec": {
   "display_name": "py312",
   "language": "python",
   "name": "py312"
  },
  "language_info": {
   "codemirror_mode": {
    "name": "ipython",
    "version": 3
   },
   "file_extension": ".py",
   "mimetype": "text/x-python",
   "name": "python",
   "nbconvert_exporter": "python",
   "pygments_lexer": "ipython3",
   "version": "3.12.3"
  }
 },
 "nbformat": 4,
 "nbformat_minor": 2
}
