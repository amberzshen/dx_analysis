{
 "cells": [
  {
   "cell_type": "code",
   "execution_count": 1,
   "metadata": {},
   "outputs": [],
   "source": [
    "import linear_dag as ld\n",
    "import time\n",
    "import numpy as np"
   ]
  },
  {
   "cell_type": "code",
   "execution_count": 2,
   "metadata": {},
   "outputs": [
    {
     "name": "stdout",
     "output_type": "stream",
     "text": [
      "time to load linarg without metadata: 0.074\n",
      "time to load linarg with metadata: 0.116\n"
     ]
    }
   ],
   "source": [
    "start = time.time()\n",
    "linarg = ld.LinearARG.read('/Users/ambershen/Desktop/linARG/dx_analysis/test_pipeline/linear_args/no_save/linear_arg.h5')\n",
    "end = time.time()\n",
    "print(f'time to load linarg without metadata: {np.round(end - start, 3)}')\n",
    "\n",
    "start = time.time()\n",
    "linarg = ld.LinearARG.read('/Users/ambershen/Desktop/linARG/dx_analysis/test_pipeline/linear_args/no_save/linear_arg.h5', load_metadata=True)\n",
    "end = time.time()\n",
    "print(f'time to load linarg with metadata: {np.round(end - start, 3)}')\n"
   ]
  },
  {
   "cell_type": "code",
   "execution_count": 10,
   "metadata": {},
   "outputs": [
    {
     "name": "stdout",
     "output_type": "stream",
     "text": [
      "time to load linarg without metadata: 0.033\n",
      "time to compute dot product: 0.008 seconds\n",
      "time to compute dot product: 0.002 seconds\n"
     ]
    }
   ],
   "source": [
    "start = time.time()\n",
    "linarg = ld.LinearARG.read('/Users/ambershen/Desktop/linARG/dx_analysis/test_pipeline/linear_args/no_save/linear_arg.h5')\n",
    "end = time.time()\n",
    "print(f'time to load linarg without metadata: {np.round(end - start, 3)}')\n",
    "\n",
    "b = np.ones(linarg.shape[1])\n",
    "start = time.time()\n",
    "linarg._matmat(b)\n",
    "end = time.time()\n",
    "\n",
    "print(f'time to compute dot product: {np.round(end - start, 3)} seconds')\n",
    "\n",
    "start = time.time()\n",
    "linarg @ b\n",
    "end = time.time()\n",
    "\n",
    "print(f'time to compute dot product: {np.round(end - start, 3)} seconds')\n"
   ]
  },
  {
   "cell_type": "code",
   "execution_count": 7,
   "metadata": {},
   "outputs": [
    {
     "name": "stdout",
     "output_type": "stream",
     "text": [
      "time to load linear ARG: 0.033 seconds\n",
      "time to compute dot product: 0.003 seconds\n"
     ]
    }
   ],
   "source": [
    "t1 = time.time()\n",
    "linarg = ld.LinearARG.read('/Users/ambershen/Desktop/linARG/dx_analysis/test_pipeline/linear_args/no_save/linear_arg.h5')\n",
    "t2 = time.time()\n",
    "\n",
    "v = np.ones(linarg.shape[0])\n",
    "t3 = time.time()\n",
    "allele_count_from_linarg = v @ linarg\n",
    "t4 = time.time()\n",
    "\n",
    "print(f'time to load linear ARG: {np.round(t2 - t1, 3)} seconds')\n",
    "print(f'time to compute dot product: {np.round(t4 - t3, 3)} seconds')"
   ]
  },
  {
   "cell_type": "code",
   "execution_count": 15,
   "metadata": {},
   "outputs": [
    {
     "data": {
      "text/plain": [
       "array([[ 1.05536706e+00, -8.26588608e+00,  9.52264071e+00, ...,\n",
       "        -1.82514788e-02,  2.24748445e+01,  4.96642979e+00],\n",
       "       [ 1.64110024e+00, -9.51232491e-01,  1.58451480e+01, ...,\n",
       "         1.93596249e+00, -2.84246248e+01, -2.30348730e+00],\n",
       "       [-1.54170900e+00,  8.73998317e+00, -6.85945217e+00, ...,\n",
       "         1.57286783e+00,  2.57414957e+01, -1.63274805e+00],\n",
       "       ...,\n",
       "       [ 1.80642069e+00, -8.71470272e+00, -3.67748020e+00, ...,\n",
       "        -1.51161682e+00,  7.40739339e+01, -5.66885555e+00],\n",
       "       [-1.55541827e+00, -4.70075018e+00,  1.60338475e+00, ...,\n",
       "        -6.10145749e-01, -8.47637563e-02,  1.06655218e+00],\n",
       "       [ 7.42681193e-01,  1.29727339e+00,  2.36461051e+00, ...,\n",
       "         1.27565276e+00,  4.11155381e+01, -4.10317072e-01]])"
      ]
     },
     "execution_count": 15,
     "metadata": {},
     "output_type": "execute_result"
    }
   ],
   "source": [
    "n_vectors = 10\n",
    "y = np.random.normal(size=(n_vectors, linarg.shape[0]))\n",
    "y @ linarg"
   ]
  },
  {
   "cell_type": "code",
   "execution_count": null,
   "metadata": {},
   "outputs": [],
   "source": []
  }
 ],
 "metadata": {
  "kernelspec": {
   "display_name": "py312",
   "language": "python",
   "name": "py312"
  },
  "language_info": {
   "codemirror_mode": {
    "name": "ipython",
    "version": 3
   },
   "file_extension": ".py",
   "mimetype": "text/x-python",
   "name": "python",
   "nbconvert_exporter": "python",
   "pygments_lexer": "ipython3",
   "version": "3.12.3"
  }
 },
 "nbformat": 4,
 "nbformat_minor": 2
}
