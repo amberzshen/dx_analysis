{
 "cells": [
  {
   "cell_type": "code",
   "execution_count": 1,
   "metadata": {},
   "outputs": [],
   "source": [
    "import linear_dag as ld\n",
    "import time\n",
    "import numpy as np"
   ]
  },
  {
   "cell_type": "code",
   "execution_count": 2,
   "metadata": {},
   "outputs": [
    {
     "name": "stdout",
     "output_type": "stream",
     "text": [
      "time to load linarg without metadata: 0.035\n",
      "time to load linarg with metadata: 0.069\n"
     ]
    }
   ],
   "source": [
    "start = time.time()\n",
    "linarg = ld.LinearARG.read('/Users/ambershen/Desktop/linARG/dx_analysis/test_pipeline/linear_args/no_save/linear_arg.h5')\n",
    "end = time.time()\n",
    "print(f'time to load linarg without metadata: {np.round(end - start, 3)}')\n",
    "\n",
    "start = time.time()\n",
    "linarg = ld.LinearARG.read('/Users/ambershen/Desktop/linARG/dx_analysis/test_pipeline/linear_args/no_save/linear_arg.h5', load_metadata=True)\n",
    "end = time.time()\n",
    "print(f'time to load linarg with metadata: {np.round(end - start, 3)}')\n"
   ]
  },
  {
   "cell_type": "code",
   "execution_count": 7,
   "metadata": {},
   "outputs": [
    {
     "name": "stdout",
     "output_type": "stream",
     "text": [
      "time to load linear ARG: 0.033 seconds\n",
      "time to compute dot product: 0.003 seconds\n"
     ]
    }
   ],
   "source": [
    "t1 = time.time()\n",
    "linarg = ld.LinearARG.read('/Users/ambershen/Desktop/linARG/dx_analysis/test_pipeline/linear_args/no_save/linear_arg.h5')\n",
    "t2 = time.time()\n",
    "\n",
    "v = np.ones(linarg.shape[0])\n",
    "t3 = time.time()\n",
    "allele_count_from_linarg = v @ linarg\n",
    "t4 = time.time()\n",
    "\n",
    "print(f'time to load linear ARG: {np.round(t2 - t1, 3)} seconds')\n",
    "print(f'time to compute dot product: {np.round(t4 - t3, 3)} seconds')"
   ]
  },
  {
   "cell_type": "code",
   "execution_count": null,
   "metadata": {},
   "outputs": [],
   "source": []
  }
 ],
 "metadata": {
  "kernelspec": {
   "display_name": "py312",
   "language": "python",
   "name": "py312"
  },
  "language_info": {
   "codemirror_mode": {
    "name": "ipython",
    "version": 3
   },
   "file_extension": ".py",
   "mimetype": "text/x-python",
   "name": "python",
   "nbconvert_exporter": "python",
   "pygments_lexer": "ipython3",
   "version": "3.12.3"
  }
 },
 "nbformat": 4,
 "nbformat_minor": 2
}
