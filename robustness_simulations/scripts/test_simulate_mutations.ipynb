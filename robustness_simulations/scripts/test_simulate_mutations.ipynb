{
 "cells": [
  {
   "cell_type": "code",
   "execution_count": 1,
   "metadata": {},
   "outputs": [],
   "source": [
    "# TODO: generate small msprime simulation, run test cases, see if cython is faster, rewrite rest of functions\n",
    "import time\n",
    "import simulate_mutations\n",
    "import simulate_mutations_py\n",
    "import numpy as np\n",
    "import msprime"
   ]
  },
  {
   "cell_type": "code",
   "execution_count": 2,
   "metadata": {},
   "outputs": [],
   "source": [
    "ts = msprime.sim_ancestry(\n",
    "    samples=1_000,\n",
    "    recombination_rate=1e-8,\n",
    "    sequence_length=100_000,\n",
    "    population_size=100_000,\n",
    "    random_seed=123456)\n",
    "\n",
    "ts = msprime.sim_mutations(ts, rate=1e-8, discrete_genome=False, random_seed=54321)\n",
    "h5_path = '/Users/ambershen/Desktop/linARG/dx_analysis/robustness_simulations/scripts/data/test_sim.h5'\n",
    "\n",
    "simulate_mutations.ts_to_h5(ts, h5_path)\n",
    "\n",
    "observed_genotypes, mutation_ids, mutation_sites, mutation_nodes, left_intervals, right_intervals, parents, children, population_labels = simulate_mutations.read_h5(h5_path)"
   ]
  },
  {
   "cell_type": "code",
   "execution_count": 3,
   "metadata": {},
   "outputs": [
    {
     "data": {
      "text/plain": [
       "array([6007, 5545, 5704, ..., 5625, 4914, 5415])"
      ]
     },
     "execution_count": 3,
     "metadata": {},
     "output_type": "execute_result"
    }
   ],
   "source": [
    "mutation_nodes"
   ]
  },
  {
   "cell_type": "code",
   "execution_count": 4,
   "metadata": {},
   "outputs": [
    {
     "data": {
      "text/plain": [
       "((2000, 3217), 3217)"
      ]
     },
     "execution_count": 4,
     "metadata": {},
     "output_type": "execute_result"
    }
   ],
   "source": [
    "observed_genotypes.shape, len(mutation_ids)"
   ]
  },
  {
   "cell_type": "code",
   "execution_count": 5,
   "metadata": {},
   "outputs": [
    {
     "name": "stderr",
     "output_type": "stream",
     "text": [
      "/Users/ambershen/opt/anaconda3/envs/py312/lib/python3.12/site-packages/scipy/sparse/_index.py:155: SparseEfficiencyWarning: Changing the sparsity structure of a csc_matrix is expensive. lil and dok are more efficient.\n",
      "  self._set_intXint(row, col, x.flat[0])\n"
     ]
    },
    {
     "name": "stdout",
     "output_type": "stream",
     "text": [
      "time in cython: 0.479\n",
      "time in python: 3.853\n"
     ]
    }
   ],
   "source": [
    "h5_path = '/Users/ambershen/Desktop/linARG/dx_analysis/robustness_simulations/scripts/data/test_sim.h5'\n",
    "\n",
    "start = time.time()\n",
    "simulate_mutations.simulate_back_mutation(h5_path, 100, 0)\n",
    "end = time.time()\n",
    "\n",
    "print(f'time in cython: {np.round(end-start, 3)}')\n",
    "\n",
    "start = time.time()\n",
    "simulate_mutations_py.simulate_back_mutation(ts, observed_genotypes, 100)\n",
    "end = time.time()\n",
    "print(f'time in python: {np.round(end-start, 3)}')\n"
   ]
  },
  {
   "cell_type": "code",
   "execution_count": 6,
   "metadata": {},
   "outputs": [
    {
     "name": "stdout",
     "output_type": "stream",
     "text": [
      "time in cython: 0.89\n",
      "time in python: 5.315\n"
     ]
    }
   ],
   "source": [
    "h5_path = '/Users/ambershen/Desktop/linARG/dx_analysis/robustness_simulations/scripts/data/test_sim.h5'\n",
    "\n",
    "start = time.time()\n",
    "simulate_mutations.simulate_recurrent_mutation(h5_path, 100, 0)\n",
    "end = time.time()\n",
    "\n",
    "print(f'time in cython: {np.round(end-start, 3)}')\n",
    "\n",
    "start = time.time()\n",
    "simulate_mutations_py.simulate_recurrent_mutation(ts, observed_genotypes, 100)\n",
    "end = time.time()\n",
    "print(f'time in python: {np.round(end-start, 3)}')\n"
   ]
  },
  {
   "cell_type": "code",
   "execution_count": 10,
   "metadata": {},
   "outputs": [
    {
     "name": "stdout",
     "output_type": "stream",
     "text": [
      "time in cython: 0.05\n",
      "time in python: 0.138\n"
     ]
    }
   ],
   "source": [
    "h5_path = '/Users/ambershen/Desktop/linARG/dx_analysis/robustness_simulations/scripts/data/test_sim.h5'\n",
    "\n",
    "start = time.time()\n",
    "simulate_mutations.simulate_genotype_error(observed_genotypes, 100, 0)\n",
    "end = time.time()\n",
    "\n",
    "print(f'time in cython: {np.round(end-start, 3)}')\n",
    "\n",
    "start = time.time()\n",
    "simulate_mutations_py.simulate_genotype_error(observed_genotypes, 100)\n",
    "end = time.time()\n",
    "print(f'time in python: {np.round(end-start, 3)}')\n"
   ]
  },
  {
   "cell_type": "code",
   "execution_count": null,
   "metadata": {},
   "outputs": [],
   "source": []
  }
 ],
 "metadata": {
  "kernelspec": {
   "display_name": "py312",
   "language": "python",
   "name": "py312"
  },
  "language_info": {
   "codemirror_mode": {
    "name": "ipython",
    "version": 3
   },
   "file_extension": ".py",
   "mimetype": "text/x-python",
   "name": "python",
   "nbconvert_exporter": "python",
   "pygments_lexer": "ipython3",
   "version": "3.12.3"
  }
 },
 "nbformat": 4,
 "nbformat_minor": 2
}
